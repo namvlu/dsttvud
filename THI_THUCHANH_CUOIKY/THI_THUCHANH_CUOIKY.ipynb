{
 "cells": [
  {
   "cell_type": "code",
   "execution_count": 3,
   "id": "c9ca35f1",
   "metadata": {},
   "outputs": [
    {
     "name": "stdout",
     "output_type": "stream",
     "text": [
      "a) A + B = [2 3 1 6]\n",
      "   2A - 3B = [ 3 11  2 14]\n",
      "\n",
      "b) A · B = -5\n",
      "   Góc giữa A và B (độ): 99.594\n",
      "\n",
      "c) C^T · C =\n",
      " [[14 -8 13]\n",
      " [-8 21 -2]\n",
      " [13 -2 29]]\n"
     ]
    }
   ],
   "source": [
    "# Câu 1: Phép toán cơ bản trên vector và ma trận (15 điểm)\n",
    "import numpy as np\n",
    "from numpy.linalg import norm\n",
    "from math import acos, degrees\n",
    "A = np.array([3, -2, 1, 4])\n",
    "B = np.array([-1, 5, 0, 2])\n",
    "C = np.array([[2, -1, 3], [1, 4, -2], [0, 2, 5]])\n",
    "tongAB = A+B\n",
    "tichAB= 2*A + 3*B\n",
    "dot= np.dot(A, B)\n",
    "cos = dot/(norm(A)*norm(B))\n",
    "goc = degrees(acos(cos))\n",
    "CtC = np.dot(C, C.T)\n",
    "print(\"a) A + B =\", tongAB)\n",
    "print(\"   2A - 3B =\", tichAB)\n",
    "print(\"\\nb) A · B =\", dot)\n",
    "print(\"   Góc giữa A và B (độ):\", round(goc, 3))\n",
    "print(\"\\nc) C^T · C =\\n\", CtC)"
   ]
  },
  {
   "cell_type": "code",
   "execution_count": 4,
   "id": "4ea55aad",
   "metadata": {},
   "outputs": [
    {
     "name": "stdout",
     "output_type": "stream",
     "text": [
      "a) M x N =\n",
      " [[ -2  13   0  -5]\n",
      " [  2   0  12  30]\n",
      " [ 17   7  28 -14]\n",
      " [-13   3   5  15]]\n",
      "\n",
      "b) Định thức của M = 409.0\n",
      "\n",
      "c) Hạng của ma trận N = 4\n"
     ]
    }
   ],
   "source": [
    "# Câu 2: Nhân ma trận, định thức và hạng ma trận (20 điểm)\n",
    "M = np.array([[2, -1, 3, 0],[1,  4, -2, 5],[0,  2, 6, -3],[-1, 0, 1, 4]])\n",
    "N = np.array([[1,  3, -2, 0],[4, -1,  5, 2],[0,  2,  3, -1],[-3, 1,  0, 4]])\n",
    "tichMN = np.dot(M, N)\n",
    "try:\n",
    "    detM = np.linalg.det(M)\n",
    "except np.linalg.LinAlgError:\n",
    "    detM = \"Không phải ma trận vuông\"\n",
    "rankN = np.linalg.matrix_rank(N)\n",
    "print(\"a) M x N =\\n\", tichMN)\n",
    "print(\"\\nb) Định thức của M =\", round(detM, 3))\n",
    "print(\"\\nc) Hạng của ma trận N =\", rankN)"
   ]
  },
  {
   "cell_type": "code",
   "execution_count": 9,
   "id": "8c6091c3",
   "metadata": {},
   "outputs": [
    {
     "name": "stdout",
     "output_type": "stream",
     "text": [
      "\n",
      "a) Ma trận nghịch đảo của P:\n",
      " [[ 0.5         0.1         0.1        -0.3       ]\n",
      " [-0.14285714  0.2         0.05714286  0.11428571]\n",
      " [-0.03571429 -0.05        0.16428571  0.07857143]\n",
      " [-0.32142857 -0.05       -0.12142857  0.50714286]]\n",
      "\n",
      "b) Nghiệm của hệ phương trình:\n",
      " [2.         1.71428571 0.42857143 0.85714286]\n",
      "x = 2.0\n",
      "y = 1.7142857142857144\n",
      "z = 0.4285714285714286\n",
      "w = 0.8571428571428572\n",
      "\n",
      "c) P * x (kiểm tra lại) =\n",
      " [6. 8. 3. 7.]\n",
      "Vector b ban đầu:\n",
      " [6 8 3 7]\n"
     ]
    }
   ],
   "source": [
    "# Câu 3: Nghịch đảo ma trận và giải hệ phương trình (25 điểm)\n",
    "P = np.array([[3, -1, 0, 2],[1,  4, -2, 0],[0,  1,  5, -1],[2,  0,  1, 3]])\n",
    "b = np.array([6, 8, 3, 7])\n",
    "detP = np.linalg.det(P)\n",
    "if detP != 0:\n",
    "    Pinv = np.linalg.inv(P)\n",
    "    print(\"\\na) Ma trận nghịch đảo của P:\\n\", Pinv)\n",
    "    x = np.dot(Pinv, b)\n",
    "    print(\"\\nb) Nghiệm của hệ phương trình:\\n\", x)\n",
    "    bcheck = np.dot(P, x)\n",
    "    print(f\"x = {x[0]}\")\n",
    "    print(f\"y = {x[1]}\")\n",
    "    print(f\"z = {x[2]}\")\n",
    "    print(f\"w = {x[3]}\")\n",
    "    print(\"\\nc) P * x (kiểm tra lại) =\\n\", bcheck)\n",
    "    print(\"Vector b ban đầu:\\n\", b)\n",
    "else:\n",
    "    print(\"Ma trận P không khả nghịch\")\n"
   ]
  },
  {
   "cell_type": "code",
   "execution_count": 10,
   "id": "58ce3c57",
   "metadata": {},
   "outputs": [
    {
     "name": "stdout",
     "output_type": "stream",
     "text": [
      "a) Các giá trị riêng của Q:\n",
      " [6.3553014+0.j         2.8223493+1.07730381j 2.8223493-1.07730381j]\n",
      "\n",
      "b) Các vector riêng tương ứng:\n",
      " [[ 0.74846013+0.j         -0.37423006+0.34234215j -0.37423006-0.34234215j]\n",
      " [-0.18941773+0.j          0.09470887+0.57433055j  0.09470887-0.57433055j]\n",
      " [ 0.63555359+0.j          0.63555359+0.j          0.63555359-0.j        ]]\n",
      "\n",
      "c) Các vector riêng chuẩn hóa:\n",
      " [[ 0.74846013+0.j         -0.37423006+0.34234215j -0.37423006-0.34234215j]\n",
      " [-0.18941773+0.j          0.09470887+0.57433055j  0.09470887-0.57433055j]\n",
      " [ 0.63555359+0.j          0.63555359+0.j          0.63555359-0.j        ]]\n"
     ]
    }
   ],
   "source": [
    "# Câu 4: Giá trị riêng, vector riêng và chuẩn hóa (20 điểm)\n",
    "Q = np.array([[5, -2, 1],[0, 3, -1],[2, 0, 4]])\n",
    "gtg, vtg = np.linalg.eig(Q)\n",
    "print(\"a) Các giá trị riêng của Q:\\n\", gtg)\n",
    "print(\"\\nb) Các vector riêng tương ứng:\\n\", vtg)\n",
    "n = np.linalg.norm(vtg, axis=0)\n",
    "vtchuanhoa = vtg / n\n",
    "print(\"\\nc) Các vector riêng chuẩn hóa:\\n\", vtchuanhoa)\n"
   ]
  },
  {
   "cell_type": "code",
   "execution_count": 16,
   "id": "2a987976",
   "metadata": {},
   "outputs": [
    {
     "name": "stdout",
     "output_type": "stream",
     "text": [
      "a) Nghiệm (np.linalg.solve):\n",
      " [2.78823529 1.52941176 1.18823529]\n",
      "\n",
      "b) Nghiệm (dùng nghịch đảo):\n",
      " [2.78823529 1.52941176 1.18823529]\n",
      "So sánh hai nghiệm (x1 == x2?): True\n",
      "\n",
      "c) Chuẩn Frobenius của R = 8.0\n"
     ]
    }
   ],
   "source": [
    "# Câu 5: Ứng dụng thực tế - Hệ phương trình và phân tích (20 điểm)\n",
    "R = np.array([[4, -1, 2],[1, 3, -2],[0, 2, 5]])\n",
    "b = np.array([12, 5, 9])\n",
    "x1 = np.linalg.solve(R, b)\n",
    "print(\"a) Nghiệm (np.linalg.solve):\\n\", x1)\n",
    "detR = np.linalg.det(R)\n",
    "if detR != 0:\n",
    "    Rinv = np.linalg.inv(R)\n",
    "    x2 = np.dot(Rinv, b)\n",
    "    print(\"\\nb) Nghiệm (dùng nghịch đảo):\\n\", x2)\n",
    "    print(\"So sánh hai nghiệm (x1 == x2?):\", np.allclose(x1, x2))\n",
    "else:\n",
    "    print(\"Ma trận R không khả nghịch, không thể tính nghịch đảo.\")\n",
    "frobenius = np.linalg.norm(R, 'fro')\n",
    "print(\"\\nc) Chuẩn Frobenius của R =\", frobenius)\n"
   ]
  },
  {
   "cell_type": "code",
   "execution_count": null,
   "id": "f23edde8",
   "metadata": {},
   "outputs": [],
   "source": []
  }
 ],
 "metadata": {
  "kernelspec": {
   "display_name": "Python 3 (ipykernel)",
   "language": "python",
   "name": "python3"
  },
  "language_info": {
   "codemirror_mode": {
    "name": "ipython",
    "version": 3
   },
   "file_extension": ".py",
   "mimetype": "text/x-python",
   "name": "python",
   "nbconvert_exporter": "python",
   "pygments_lexer": "ipython3",
   "version": "3.9.13"
  }
 },
 "nbformat": 4,
 "nbformat_minor": 5
}
