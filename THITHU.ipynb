{
 "cells": [
  {
   "cell_type": "code",
   "execution_count": 8,
   "id": "1b989169",
   "metadata": {},
   "outputs": [
    {
     "name": "stdout",
     "output_type": "stream",
     "text": [
      "a) A + B = [3 3 1 5]\n",
      "   3A - 2B = [  4 -11  13 -10]\n",
      "\n",
      "b) A · B = -8\n",
      "   Góc giữa A và B (độ): 108.376\n",
      "\n",
      "c) C^T · C =\n",
      " [[ 5  0 -1]\n",
      " [ 0 14 10]\n",
      " [-1 10 17]]\n"
     ]
    }
   ],
   "source": [
    "# Câu 1: Phép toán cơ bản trên vector và ma trận (15 điểm)\n",
    "import numpy as np\n",
    "from numpy.linalg import norm\n",
    "from math import acos, degrees\n",
    "A = np.array([2, -1, 3, 0])\n",
    "B = np.array([1, 4, -2, 5])\n",
    "C = np.array([[1, 2, -1],[0, 3, 4],[2, -1, 0]])\n",
    "tongAB = A+B\n",
    "tichAB= 3*A - 2*B\n",
    "dot= np.dot(A, B)\n",
    "cos = dot/(norm(A)*norm(B))\n",
    "goc = degrees(acos(cos))\n",
    "CtC = np.dot(C.T, C)\n",
    "print(\"a) A + B =\", tongAB)\n",
    "print(\"   3A - 2B =\", tichAB)\n",
    "print(\"\\nb) A · B =\", dot)\n",
    "print(\"   Góc giữa A và B (độ):\", round(goc, 3))\n",
    "print(\"\\nc) C^T · C =\\n\", CtC)"
   ]
  },
  {
   "cell_type": "code",
   "execution_count": 9,
   "id": "9bf6cd4b",
   "metadata": {},
   "outputs": [
    {
     "name": "stdout",
     "output_type": "stream",
     "text": [
      "a) M x N =\n",
      " [[ 32  38  44  50]\n",
      " [ 80  96 112 128]\n",
      " [128 154 180 206]\n",
      " [ 12  14  16  18]]\n",
      "\n",
      "b) Định thức của M = 0.0\n",
      "\n",
      "c) Hạng của ma trận N = 2\n"
     ]
    }
   ],
   "source": [
    "# Câu 2: Nhân ma trận, định thức và hạng ma trận (20 điểm)\n",
    "M = np.array([[1, 2, 3, 0],[4, 5, 6, 1],[7, 8, 9, 2],[0, 1, 1, 0]])\n",
    "N = np.array([[0, 1, 2, 3],[4, 5, 6, 7],[8, 9, 10, 11],[12, 13, 14, 15]])\n",
    "tichMN = np.dot(M, N)\n",
    "try:\n",
    "    detM = np.linalg.det(M)\n",
    "except np.linalg.LinAlgError:\n",
    "    detM = \"Không phải ma trận vuông\"\n",
    "rankN = np.linalg.matrix_rank(N)\n",
    "print(\"a) M x N =\\n\", tichMN)\n",
    "print(\"\\nb) Định thức của M =\", round(detM, 3))\n",
    "print(\"\\nc) Hạng của ma trận N =\", rankN)"
   ]
  },
  {
   "cell_type": "code",
   "execution_count": 14,
   "id": "6f39592b",
   "metadata": {},
   "outputs": [
    {
     "name": "stdout",
     "output_type": "stream",
     "text": [
      "a) Ma trận nghịch đảo của P là:\n",
      " [[ 0.48837209 -0.09302326  0.02325581 -0.20930233]\n",
      " [ 0.03488372  0.27906977 -0.06976744  0.12790698]\n",
      " [-0.11627907  0.06976744  0.23255814 -0.09302326]\n",
      " [-0.01162791 -0.09302326  0.02325581  0.29069767]]\n",
      "\n",
      "b) Nghiệm của hệ phương trình là:\n",
      " [0.46511628 2.10465116 1.65116279 0.96511628]\n",
      "x = 0.4651162790697674\n",
      "y = 2.1046511627906974\n",
      "z = 1.6511627906976745\n",
      "w = 0.9651162790697675\n",
      "\n",
      "c) Kiểm tra: P · x =\n",
      " [4. 7. 9. 5.]\n",
      "So sánh với b =\n",
      " [4 7 9 5]\n"
     ]
    }
   ],
   "source": [
    "# Câu 3: Nghịch đảo ma trận và giải hệ phương trình (25 điểm)\n",
    "P = np.array([[2, 1, 0, 1],[0, 3, 1, -1],[1, 0, 4, 2],[0, 1, 0, 3]])\n",
    "b = np.array([4, 7, 9, 5])\n",
    "try:\n",
    "    Pinv = np.linalg.inv(P)\n",
    "    print(\"a) Ma trận nghịch đảo của P là:\\n\", Pinv)\n",
    "except np.linalg.LinAlgError:\n",
    "    print(\"a) Ma trận P không khả nghịch (det = 0)\")\n",
    "if 'Pinv' in locals():\n",
    "    x = np.dot(Pinv, b)\n",
    "    print(\"\\nb) Nghiệm của hệ phương trình là:\\n\", x)\n",
    "    print(f\"x = {x[0]}\")\n",
    "    print(f\"y = {x[1]}\")\n",
    "    print(f\"z = {x[2]}\")\n",
    "    print(f\"w = {x[3]}\")\n",
    "if 'x' in locals():\n",
    "    check = np.dot(P, x)\n",
    "    print(\"\\nc) Kiểm tra: P · x =\\n\", check)\n",
    "    print(\"So sánh với b =\\n\", b)\n"
   ]
  },
  {
   "cell_type": "code",
   "execution_count": 15,
   "id": "e2b20b33",
   "metadata": {},
   "outputs": [
    {
     "name": "stdout",
     "output_type": "stream",
     "text": [
      "a) Các giá trị riêng của Q:\n",
      "[3.45339765+0.j         2.77330117+1.46771151j 2.77330117-1.46771151j]\n",
      "\n",
      "b) Các vector riêng tương ứng (cột):\n",
      "[[0.83327121+0.j         0.26206044+0.31354813j 0.26206044-0.31354813j]\n",
      " [0.455468  +0.j         0.78166743+0.j         0.78166743-0.j        ]\n",
      " [0.31338154+0.j         0.21963176-0.41685708j 0.21963176+0.41685708j]]\n",
      "\n",
      "c) Các vector riêng đã chuẩn hóa:\n",
      "[[0.83327121+0.j         0.26206044+0.31354813j 0.26206044-0.31354813j]\n",
      " [0.455468  +0.j         0.78166743+0.j         0.78166743-0.j        ]\n",
      " [0.31338154+0.j         0.21963176-0.41685708j 0.21963176+0.41685708j]]\n"
     ]
    }
   ],
   "source": [
    "# Câu 4: Giá trị riêng, vector riêng và chuẩn hóa (20 điểm)\n",
    "Q = np.array([[4, -1, 0],[1, 3, -2],[0, 1, 2]])\n",
    "gtr, vtr = np.linalg.eig(Q)\n",
    "print(\"a) Các giá trị riêng của Q:\")\n",
    "print(gtr)\n",
    "print(\"\\nb) Các vector riêng tương ứng (cột):\")\n",
    "print(vtr)\n",
    "vtchuanhoa = np.array([vec / np.linalg.norm(vec) for vec in vtr.T]).T\n",
    "print(\"\\nc) Các vector riêng đã chuẩn hóa:\")\n",
    "print(vtchuanhoa)"
   ]
  },
  {
   "cell_type": "code",
   "execution_count": 18,
   "id": "c5980156",
   "metadata": {},
   "outputs": [
    {
     "name": "stdout",
     "output_type": "stream",
     "text": [
      "a) Nghiệm hệ phương trình Rx = b là:\n",
      " [2.7826087  0.04347826 2.43478261]\n",
      "\n",
      "b) Định thức của R: 23.0\n",
      "Ma trận R khả nghịch. Nghiệm tìm bằng R^-1 · b là:\n",
      " [2.7826087  0.04347826 2.43478261]\n",
      "So sánh hai nghiệm (x1 == x2?): True\n",
      "\n",
      "c) Chuẩn Frobenius của R là: 6.0828\n"
     ]
    }
   ],
   "source": [
    "# Câu 5: Ứng dụng thực tế - Hệ phương trình và phân tích (20 điểm)\n",
    "R = np.array([[1, -2, 3],[2, 0, 1],[-1, 1, 4]])\n",
    "b = np.array([10, 8, 7])\n",
    "x1 = np.linalg.solve(R, b)\n",
    "print(\"a) Nghiệm hệ phương trình Rx = b là:\\n\", x1)\n",
    "detR = np.linalg.det(R)\n",
    "print(\"\\nb) Định thức của R:\", detR)\n",
    "if detR != 0:\n",
    "    Rinv = np.linalg.inv(R)\n",
    "    x2 = np.dot(Rinv, b)\n",
    "    print(\"Ma trận R khả nghịch. Nghiệm tìm bằng R^-1 · b là:\\n\", x2)\n",
    "    print(\"So sánh hai nghiệm (x1 == x2?):\", np.allclose(x1, x2))\n",
    "else:\n",
    "    print(\"Ma trận R không khả nghịch, không thể giải bằng nghịch đảo.\")\n",
    "cauc = np.linalg.norm(R, 'fro')\n",
    "print(\"\\nc) Chuẩn Frobenius của R là:\", round(cauc, 4))"
   ]
  },
  {
   "cell_type": "code",
   "execution_count": null,
   "id": "c6b4de49",
   "metadata": {},
   "outputs": [],
   "source": []
  }
 ],
 "metadata": {
  "kernelspec": {
   "display_name": "Python 3 (ipykernel)",
   "language": "python",
   "name": "python3"
  },
  "language_info": {
   "codemirror_mode": {
    "name": "ipython",
    "version": 3
   },
   "file_extension": ".py",
   "mimetype": "text/x-python",
   "name": "python",
   "nbconvert_exporter": "python",
   "pygments_lexer": "ipython3",
   "version": "3.9.13"
  }
 },
 "nbformat": 4,
 "nbformat_minor": 5
}
