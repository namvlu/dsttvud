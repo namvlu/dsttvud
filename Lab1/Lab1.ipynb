{
 "cells": [
  {
   "cell_type": "code",
   "execution_count": 6,
   "id": "45832468",
   "metadata": {},
   "outputs": [
    {
     "name": "stdout",
     "output_type": "stream",
     "text": [
      "[1.0, 3.0, 5.0, 7.0]\n"
     ]
    }
   ],
   "source": [
    "danhsach1 = [1. , 3.] \n",
    "danhsach2 = [5. , 7.]\n",
    "danhsach = danhsach1 + danhsach2\n",
    "print(danhsach)"
   ]
  },
  {
   "cell_type": "code",
   "execution_count": 7,
   "id": "2d3359fe",
   "metadata": {},
   "outputs": [
    {
     "name": "stdout",
     "output_type": "stream",
     "text": [
      "[1.0, 3.0, 5.0, 7.0, 1.0, 3.0, 5.0, 7.0]\n"
     ]
    }
   ],
   "source": [
    "danhsach_gapdoi = 2 * danhsach\n",
    "print(danhsach_gapdoi)"
   ]
  },
  {
   "cell_type": "code",
   "execution_count": 8,
   "id": "bdcc220d",
   "metadata": {},
   "outputs": [
    {
     "data": {
      "text/plain": [
       "[1.0, 3.0, 5.0, 7.0, 1.0, 3.0, 5.0, 7.0]"
      ]
     },
     "execution_count": 8,
     "metadata": {},
     "output_type": "execute_result"
    }
   ],
   "source": [
    "danhsach * 2"
   ]
  },
  {
   "cell_type": "code",
   "execution_count": 9,
   "id": "6e2c13aa",
   "metadata": {},
   "outputs": [
    {
     "ename": "TypeError",
     "evalue": "unsupported operand type(s) for /: 'list' and 'int'",
     "output_type": "error",
     "traceback": [
      "\u001b[1;31m---------------------------------------------------------------------------\u001b[0m",
      "\u001b[1;31mTypeError\u001b[0m                                 Traceback (most recent call last)",
      "\u001b[1;32m~\\AppData\\Local\\Temp\\ipykernel_6892\\2770214691.py\u001b[0m in \u001b[0;36m<module>\u001b[1;34m\u001b[0m\n\u001b[1;32m----> 1\u001b[1;33m \u001b[0mdanhsach\u001b[0m \u001b[1;33m/\u001b[0m \u001b[1;36m2\u001b[0m\u001b[1;33m\u001b[0m\u001b[1;33m\u001b[0m\u001b[0m\n\u001b[0m",
      "\u001b[1;31mTypeError\u001b[0m: unsupported operand type(s) for /: 'list' and 'int'"
     ]
    }
   ],
   "source": [
    "danhsach / 2"
   ]
  },
  {
   "cell_type": "code",
   "execution_count": 22,
   "id": "ef43fa15",
   "metadata": {},
   "outputs": [
    {
     "data": {
      "text/plain": [
       "[(2, 'ToanCC', 10), (3, 'DSTT', 9), (4, 'ToanRR', 8), (1, 'LaptrinhCB', 7)]"
      ]
     },
     "execution_count": 22,
     "metadata": {},
     "output_type": "execute_result"
    }
   ],
   "source": [
    "mon_hoc = [\"ToanCC\", \"DSTT\", \"ToanRR\", \"LaptrinhCB\"] \n",
    "thu_tu = [2, 3, 4, 1] \n",
    "diem_so = [10, 9, 8, 7] \n",
    "anh_xa = list(zip(thu_tu, mon_hoc, diem_so) )\n",
    "anh_xa"
   ]
  },
  {
   "cell_type": "code",
   "execution_count": 24,
   "id": "6a47b8c1",
   "metadata": {},
   "outputs": [
    {
     "data": {
      "text/plain": [
       "{(1, 'LaptrinhCB', 7), (2, 'ToanCC', 10), (3, 'DSTT', 9), (4, 'ToanRR', 8)}"
      ]
     },
     "execution_count": 24,
     "metadata": {},
     "output_type": "execute_result"
    }
   ],
   "source": [
    "tap_hop = set(anh_xa)\n",
    "tap_hop"
   ]
  },
  {
   "cell_type": "code",
   "execution_count": 25,
   "id": "02f84c75",
   "metadata": {
    "scrolled": true
   },
   "outputs": [
    {
     "data": {
      "text/plain": [
       "('ToanCC', 'DSTT', 'ToanRR', 'LaptrinhCB')"
      ]
     },
     "execution_count": 25,
     "metadata": {},
     "output_type": "execute_result"
    }
   ],
   "source": [
    "lay_TT, lay_monhoc , lay_diem = zip(*anh_xa)\n",
    "lay_monhoc"
   ]
  },
  {
   "cell_type": "code",
   "execution_count": 16,
   "id": "879746ee",
   "metadata": {},
   "outputs": [
    {
     "data": {
      "text/plain": [
       "[0, 1, 2, 3, 5, 6, 7, 8, 9, 15, 16, 17, 18, 19]"
      ]
     },
     "execution_count": 16,
     "metadata": {},
     "output_type": "execute_result"
    }
   ],
   "source": [
    "import itertools\n",
    "tap_sinh = list(itertools.chain(range(4), range(5, 10), range(15, 20)))\n",
    "tap_sinh"
   ]
  },
  {
   "cell_type": "code",
   "execution_count": 17,
   "id": "e7f9ae18",
   "metadata": {},
   "outputs": [
    {
     "data": {
      "text/plain": [
       "[(0, 7, 10), (1, 8, 9), (2, 9, 8), (3, 10, 7)]"
      ]
     },
     "execution_count": 17,
     "metadata": {},
     "output_type": "execute_result"
    }
   ],
   "source": [
    "list(zip(range(4), range(7, 12), reversed(range(11) ) ) )"
   ]
  },
  {
   "cell_type": "code",
   "execution_count": 20,
   "id": "c68974bb",
   "metadata": {
    "scrolled": true
   },
   "outputs": [
    {
     "name": "stdout",
     "output_type": "stream",
     "text": [
      "100 200 300\n"
     ]
    }
   ],
   "source": [
    "a = b = c = 0\n",
    "mylist = []\n",
    "execfile('d:/thucthi1.py')"
   ]
  },
  {
   "cell_type": "code",
   "execution_count": 26,
   "id": "f6bf7e78",
   "metadata": {},
   "outputs": [
    {
     "data": {
      "text/latex": [
       "$\\displaystyle 3 x + 2$"
      ],
      "text/plain": [
       "3*x + 2"
      ]
     },
     "execution_count": 26,
     "metadata": {},
     "output_type": "execute_result"
    }
   ],
   "source": [
    "from sympy import Symbol\n",
    "x = Symbol('x')\n",
    "f = x + x + x + 2\n",
    "f"
   ]
  },
  {
   "cell_type": "code",
   "execution_count": 27,
   "id": "2c90d6f2",
   "metadata": {},
   "outputs": [
    {
     "data": {
      "text/latex": [
       "$\\displaystyle 3 Chim + 7 Noi$"
      ],
      "text/plain": [
       "3*Chim + 7*Noi"
      ]
     },
     "execution_count": 27,
     "metadata": {},
     "output_type": "execute_result"
    }
   ],
   "source": [
    "a = Symbol('Noi') \n",
    "b = Symbol('Chim') \n",
    "3*b + 7*a"
   ]
  },
  {
   "cell_type": "code",
   "execution_count": 29,
   "id": "537ebd80",
   "metadata": {},
   "outputs": [
    {
     "data": {
      "text/plain": [
       "'Noi'"
      ]
     },
     "execution_count": 29,
     "metadata": {},
     "output_type": "execute_result"
    }
   ],
   "source": [
    "a = Symbol('Noi')\n",
    "b = Symbol('Chim') \n",
    "a.name "
   ]
  },
  {
   "cell_type": "code",
   "execution_count": 30,
   "id": "fcf48537",
   "metadata": {},
   "outputs": [
    {
     "data": {
      "text/plain": [
       "'Chim'"
      ]
     },
     "execution_count": 30,
     "metadata": {},
     "output_type": "execute_result"
    }
   ],
   "source": [
    "b.name"
   ]
  },
  {
   "cell_type": "code",
   "execution_count": 31,
   "id": "719b086c",
   "metadata": {},
   "outputs": [
    {
     "data": {
      "text/latex": [
       "$\\displaystyle 2 x y$"
      ],
      "text/plain": [
       "2*x*y"
      ]
     },
     "execution_count": 31,
     "metadata": {},
     "output_type": "execute_result"
    }
   ],
   "source": [
    "from sympy import Symbol\n",
    "x = Symbol('x') \n",
    "y = Symbol('y') \n",
    "s = x*y + y*x \n",
    "s"
   ]
  },
  {
   "cell_type": "code",
   "execution_count": 32,
   "id": "39793eb7",
   "metadata": {},
   "outputs": [
    {
     "data": {
      "text/latex": [
       "$\\displaystyle 3 x^{2}$"
      ],
      "text/plain": [
       "3*x**2"
      ]
     },
     "execution_count": 32,
     "metadata": {},
     "output_type": "execute_result"
    }
   ],
   "source": [
    "p = x*(x+2*x) \n",
    "p"
   ]
  },
  {
   "cell_type": "code",
   "execution_count": 33,
   "id": "cdd79f18",
   "metadata": {},
   "outputs": [
    {
     "data": {
      "text/latex": [
       "$\\displaystyle \\left(x + 2\\right) \\left(y + 3\\right)$"
      ],
      "text/plain": [
       "(x + 2)*(y + 3)"
      ]
     },
     "execution_count": 33,
     "metadata": {},
     "output_type": "execute_result"
    }
   ],
   "source": [
    "p = (x+2)*(y+3) \n",
    "p"
   ]
  },
  {
   "cell_type": "code",
   "execution_count": 34,
   "id": "f8f734ac",
   "metadata": {},
   "outputs": [
    {
     "data": {
      "text/latex": [
       "$\\displaystyle \\left(x - 3\\right) \\left(x + 2\\right) + \\left(x + 2\\right) \\left(y + 3\\right)$"
      ],
      "text/plain": [
       "(x - 3)*(x + 2) + (x + 2)*(y + 3)"
      ]
     },
     "execution_count": 34,
     "metadata": {},
     "output_type": "execute_result"
    }
   ],
   "source": [
    "(x + 2)*(y + 3) \n",
    "p = (x+2)*(y+3) + (x+2)*(x-3) \n",
    "p "
   ]
  },
  {
   "cell_type": "code",
   "execution_count": 35,
   "id": "ab845ec5",
   "metadata": {},
   "outputs": [
    {
     "data": {
      "text/latex": [
       "$\\displaystyle 0$"
      ],
      "text/plain": [
       "0"
      ]
     },
     "execution_count": 35,
     "metadata": {},
     "output_type": "execute_result"
    }
   ],
   "source": [
    "p = x*(-x+2*x-x)\n",
    "p"
   ]
  },
  {
   "cell_type": "code",
   "execution_count": 36,
   "id": "97a59e7d",
   "metadata": {},
   "outputs": [
    {
     "data": {
      "text/latex": [
       "$\\displaystyle x y + 3 x + 2 y + 6$"
      ],
      "text/plain": [
       "x*y + 3*x + 2*y + 6"
      ]
     },
     "execution_count": 36,
     "metadata": {},
     "output_type": "execute_result"
    }
   ],
   "source": [
    "p = (x+2)*(y+3)\n",
    "p.expand()"
   ]
  },
  {
   "cell_type": "code",
   "execution_count": 37,
   "id": "1a85b2bf",
   "metadata": {},
   "outputs": [
    {
     "data": {
      "text/latex": [
       "$\\displaystyle \\left(x - y\\right) \\left(x^{2} + x y + y^{2}\\right)$"
      ],
      "text/plain": [
       "(x - y)*(x**2 + x*y + y**2)"
      ]
     },
     "execution_count": 37,
     "metadata": {},
     "output_type": "execute_result"
    }
   ],
   "source": [
    "from sympy import factor \n",
    "bieuthuc = x**3 - y**3 \n",
    "factor(bieuthuc)"
   ]
  },
  {
   "cell_type": "code",
   "execution_count": 38,
   "id": "e6c1f742",
   "metadata": {},
   "outputs": [
    {
     "data": {
      "text/latex": [
       "$\\displaystyle x^{3} - y^{3}$"
      ],
      "text/plain": [
       "x**3 - y**3"
      ]
     },
     "execution_count": 38,
     "metadata": {},
     "output_type": "execute_result"
    }
   ],
   "source": [
    "from sympy import expand \n",
    "bieuthuc = (x - y)*(x**2 + x*y + y**2) \n",
    "expand(bieuthuc)"
   ]
  },
  {
   "cell_type": "code",
   "execution_count": 39,
   "id": "6c845c96",
   "metadata": {},
   "outputs": [
    {
     "data": {
      "text/latex": [
       "$\\displaystyle x^{2} - x y + y^{2}$"
      ],
      "text/plain": [
       "x**2 - x*y + y**2"
      ]
     },
     "execution_count": 39,
     "metadata": {},
     "output_type": "execute_result"
    }
   ],
   "source": [
    "from sympy import Symbol \n",
    "x = Symbol('x') \n",
    "y = Symbol('y') \n",
    "bieuthuc = x*x - x*y + y*y \n",
    "bieuthuc"
   ]
  },
  {
   "cell_type": "code",
   "execution_count": 40,
   "id": "c367c34b",
   "metadata": {},
   "outputs": [
    {
     "data": {
      "text/latex": [
       "$\\displaystyle 7$"
      ],
      "text/plain": [
       "7"
      ]
     },
     "execution_count": 40,
     "metadata": {},
     "output_type": "execute_result"
    }
   ],
   "source": [
    "giatri = bieuthuc.subs({x:3, y:2})\n",
    "giatri"
   ]
  },
  {
   "cell_type": "code",
   "execution_count": 41,
   "id": "3967fbab",
   "metadata": {},
   "outputs": [
    {
     "data": {
      "text/latex": [
       "$\\displaystyle x$"
      ],
      "text/plain": [
       "x"
      ]
     },
     "execution_count": 41,
     "metadata": {},
     "output_type": "execute_result"
    }
   ],
   "source": [
    "x"
   ]
  },
  {
   "cell_type": "code",
   "execution_count": 42,
   "id": "ff858e22",
   "metadata": {},
   "outputs": [
    {
     "data": {
      "text/latex": [
       "$\\displaystyle y$"
      ],
      "text/plain": [
       "y"
      ]
     },
     "execution_count": 42,
     "metadata": {},
     "output_type": "execute_result"
    }
   ],
   "source": [
    "y"
   ]
  },
  {
   "cell_type": "code",
   "execution_count": 43,
   "id": "212688b8",
   "metadata": {},
   "outputs": [
    {
     "data": {
      "text/latex": [
       "$\\displaystyle x^{2} - 3 x + 9$"
      ],
      "text/plain": [
       "x**2 - 3*x + 9"
      ]
     },
     "execution_count": 43,
     "metadata": {},
     "output_type": "execute_result"
    }
   ],
   "source": [
    "giatri = bieuthuc.subs({x:3, y:x})\n",
    "giatri"
   ]
  },
  {
   "cell_type": "code",
   "execution_count": 45,
   "id": "4d6fadfe",
   "metadata": {},
   "outputs": [
    {
     "data": {
      "text/latex": [
       "$\\displaystyle y^{2} - y \\left(1 - y\\right) + \\left(1 - y\\right)^{2}$"
      ],
      "text/plain": [
       "y**2 - y*(1 - y) + (1 - y)**2"
      ]
     },
     "execution_count": 45,
     "metadata": {},
     "output_type": "execute_result"
    }
   ],
   "source": [
    "from sympy import Symbol \n",
    "x = Symbol('x') \n",
    "y = Symbol('y') \n",
    "bieuthuc = x*x - x*y + y*y \n",
    "bieuthuc = x**2 - x*y + y**2 \n",
    "bieuthuc_moi = bieuthuc.subs({x:1-y})\n",
    "bieuthuc_moi"
   ]
  },
  {
   "cell_type": "code",
   "execution_count": 46,
   "id": "c05fe547",
   "metadata": {},
   "outputs": [
    {
     "data": {
      "text/latex": [
       "$\\displaystyle 3 y^{2} - 3 y + 1$"
      ],
      "text/plain": [
       "3*y**2 - 3*y + 1"
      ]
     },
     "execution_count": 46,
     "metadata": {},
     "output_type": "execute_result"
    }
   ],
   "source": [
    "from sympy import simplify \n",
    "dongian = simplify(bieuthuc_moi) \n",
    "dongian"
   ]
  },
  {
   "cell_type": "code",
   "execution_count": 47,
   "id": "5e64651e",
   "metadata": {},
   "outputs": [
    {
     "data": {
      "text/latex": [
       "$\\displaystyle \\sin{\\left(x + y \\right)}$"
      ],
      "text/plain": [
       "sin(x + y)"
      ]
     },
     "execution_count": 47,
     "metadata": {},
     "output_type": "execute_result"
    }
   ],
   "source": [
    "from sympy import Symbol \n",
    "from sympy import sin, cos \n",
    "x = Symbol('x') \n",
    "y = Symbol('y') \n",
    "bt = sin(x)*cos(y) + cos(x)*sin(y) \n",
    "bt_moi = simplify(bt) \n",
    "bt_moi "
   ]
  },
  {
   "cell_type": "code",
   "execution_count": 48,
   "id": "d65dc026",
   "metadata": {},
   "outputs": [
    {
     "data": {
      "text/plain": [
       "array([ 2.,  6., 10.])"
      ]
     },
     "execution_count": 48,
     "metadata": {},
     "output_type": "execute_result"
    }
   ],
   "source": [
    "import numpy as np\n",
    "vec1 = np.array([1., 3., 5.])\n",
    "vec1 * 2"
   ]
  },
  {
   "cell_type": "code",
   "execution_count": 49,
   "id": "83cb71b8",
   "metadata": {},
   "outputs": [
    {
     "data": {
      "text/plain": [
       "array([ 1.,  9., 25.])"
      ]
     },
     "execution_count": 49,
     "metadata": {},
     "output_type": "execute_result"
    }
   ],
   "source": [
    "vec1 * vec1 "
   ]
  },
  {
   "cell_type": "code",
   "execution_count": 50,
   "id": "74cd0145",
   "metadata": {},
   "outputs": [
    {
     "data": {
      "text/plain": [
       "array([0.5, 1.5, 2.5])"
      ]
     },
     "execution_count": 50,
     "metadata": {},
     "output_type": "execute_result"
    }
   ],
   "source": [
    "vec1 /2 "
   ]
  },
  {
   "cell_type": "code",
   "execution_count": 51,
   "id": "7a81841d",
   "metadata": {},
   "outputs": [
    {
     "data": {
      "text/plain": [
       "array([ 2.,  6., 10.])"
      ]
     },
     "execution_count": 51,
     "metadata": {},
     "output_type": "execute_result"
    }
   ],
   "source": [
    "vec1 + vec1 "
   ]
  },
  {
   "cell_type": "code",
   "execution_count": 52,
   "id": "3a0cebb4",
   "metadata": {},
   "outputs": [
    {
     "ename": "NameError",
     "evalue": "name 'array' is not defined",
     "output_type": "error",
     "traceback": [
      "\u001b[1;31m---------------------------------------------------------------------------\u001b[0m",
      "\u001b[1;31mNameError\u001b[0m                                 Traceback (most recent call last)",
      "\u001b[1;32m~\\AppData\\Local\\Temp\\ipykernel_6892\\3214017861.py\u001b[0m in \u001b[0;36m<module>\u001b[1;34m\u001b[0m\n\u001b[1;32m----> 1\u001b[1;33m \u001b[0mvec2\u001b[0m \u001b[1;33m=\u001b[0m \u001b[0marray\u001b[0m\u001b[1;33m(\u001b[0m\u001b[1;33m[\u001b[0m\u001b[1;36m2.\u001b[0m\u001b[1;33m,\u001b[0m \u001b[1;36m4.\u001b[0m\u001b[1;33m]\u001b[0m\u001b[1;33m)\u001b[0m\u001b[1;33m\u001b[0m\u001b[1;33m\u001b[0m\u001b[0m\n\u001b[0m\u001b[0;32m      2\u001b[0m \u001b[0mvec1\u001b[0m \u001b[1;33m+\u001b[0m \u001b[0mvec2\u001b[0m\u001b[1;33m\u001b[0m\u001b[1;33m\u001b[0m\u001b[0m\n",
      "\u001b[1;31mNameError\u001b[0m: name 'array' is not defined"
     ]
    }
   ],
   "source": [
    "vec2 = array([2., 4.]) \n",
    "vec1 + vec2 "
   ]
  },
  {
   "cell_type": "code",
   "execution_count": 55,
   "id": "e5a88917",
   "metadata": {},
   "outputs": [
    {
     "data": {
      "text/plain": [
       "array([ 3.,  7., 11.])"
      ]
     },
     "execution_count": 55,
     "metadata": {},
     "output_type": "execute_result"
    }
   ],
   "source": [
    "vec3 = np.array([2., 4., 6.]) \n",
    "vec1 + vec3"
   ]
  },
  {
   "cell_type": "code",
   "execution_count": 56,
   "id": "17492dc7",
   "metadata": {},
   "outputs": [
    {
     "data": {
      "text/plain": [
       "array([0.5       , 0.75      , 0.83333333])"
      ]
     },
     "execution_count": 56,
     "metadata": {},
     "output_type": "execute_result"
    }
   ],
   "source": [
    "vec1 / vec3 "
   ]
  },
  {
   "cell_type": "code",
   "execution_count": 57,
   "id": "afbf7b27",
   "metadata": {},
   "outputs": [
    {
     "data": {
      "text/plain": [
       "array([ 2., 12., 30.])"
      ]
     },
     "execution_count": 57,
     "metadata": {},
     "output_type": "execute_result"
    }
   ],
   "source": [
    "vec1 * vec3 "
   ]
  },
  {
   "cell_type": "code",
   "execution_count": 58,
   "id": "e815573d",
   "metadata": {},
   "outputs": [
    {
     "data": {
      "text/plain": [
       "array([12., 26., 40.])"
      ]
     },
     "execution_count": 58,
     "metadata": {},
     "output_type": "execute_result"
    }
   ],
   "source": [
    "2* vec1 + 5* vec3 "
   ]
  },
  {
   "cell_type": "code",
   "execution_count": 59,
   "id": "5f7ea0b4",
   "metadata": {},
   "outputs": [
    {
     "data": {
      "text/plain": [
       "6.0"
      ]
     },
     "execution_count": 59,
     "metadata": {},
     "output_type": "execute_result"
    }
   ],
   "source": [
    "vec3[2]  "
   ]
  },
  {
   "cell_type": "code",
   "execution_count": 60,
   "id": "008fa8e1",
   "metadata": {},
   "outputs": [
    {
     "data": {
      "text/plain": [
       "array([ 0.,  5., 10., 15., 20.])"
      ]
     },
     "execution_count": 60,
     "metadata": {},
     "output_type": "execute_result"
    }
   ],
   "source": [
    "vec4 = np.linspace(0, 20, 5) \n",
    "vec4 "
   ]
  },
  {
   "cell_type": "code",
   "execution_count": 63,
   "id": "99e50700",
   "metadata": {},
   "outputs": [
    {
     "data": {
      "text/plain": [
       "array([0., 0., 0., 0., 0.])"
      ]
     },
     "execution_count": 63,
     "metadata": {},
     "output_type": "execute_result"
    }
   ],
   "source": [
    "vec5 = np.zeros(5) \n",
    "vec5"
   ]
  },
  {
   "cell_type": "code",
   "execution_count": 64,
   "id": "ce58f34f",
   "metadata": {},
   "outputs": [
    {
     "data": {
      "text/plain": [
       "array([1., 1., 1., 1., 1.])"
      ]
     },
     "execution_count": 64,
     "metadata": {},
     "output_type": "execute_result"
    }
   ],
   "source": [
    "vec6 = np.ones(5)\n",
    "vec6"
   ]
  },
  {
   "cell_type": "code",
   "execution_count": 65,
   "id": "5f17cdf9",
   "metadata": {},
   "outputs": [
    {
     "data": {
      "text/plain": [
       "array([1., 1., 1., 1., 1.])"
      ]
     },
     "execution_count": 65,
     "metadata": {},
     "output_type": "execute_result"
    }
   ],
   "source": [
    "vec7 = np.empty(5) \n",
    "vec7"
   ]
  },
  {
   "cell_type": "code",
   "execution_count": 67,
   "id": "78122c96",
   "metadata": {},
   "outputs": [
    {
     "data": {
      "text/plain": [
       "array([0.63326654, 0.36221667, 0.96212999, 0.20520575, 0.79957598])"
      ]
     },
     "execution_count": 67,
     "metadata": {},
     "output_type": "execute_result"
    }
   ],
   "source": [
    "np.random.random(5) "
   ]
  },
  {
   "cell_type": "code",
   "execution_count": 68,
   "id": "82d0a8b4",
   "metadata": {},
   "outputs": [
    {
     "data": {
      "text/plain": [
       "9.0"
      ]
     },
     "execution_count": 68,
     "metadata": {},
     "output_type": "execute_result"
    }
   ],
   "source": [
    "v = np.array([1., 3., 5.])\n",
    "np.sum(v)"
   ]
  },
  {
   "cell_type": "code",
   "execution_count": 69,
   "id": "185214a0",
   "metadata": {},
   "outputs": [
    {
     "data": {
      "text/plain": [
       "(3,)"
      ]
     },
     "execution_count": 69,
     "metadata": {},
     "output_type": "execute_result"
    }
   ],
   "source": [
    "v.shape "
   ]
  },
  {
   "cell_type": "code",
   "execution_count": 91,
   "id": "d49aaad2",
   "metadata": {},
   "outputs": [
    {
     "data": {
      "text/plain": [
       "array([1., 2., 5.])"
      ]
     },
     "execution_count": 91,
     "metadata": {},
     "output_type": "execute_result"
    }
   ],
   "source": [
    "v.transpose() "
   ]
  },
  {
   "cell_type": "code",
   "execution_count": 71,
   "id": "c5a747c5",
   "metadata": {},
   "outputs": [
    {
     "data": {
      "text/plain": [
       "array([1., 3.])"
      ]
     },
     "execution_count": 71,
     "metadata": {},
     "output_type": "execute_result"
    }
   ],
   "source": [
    "v1 = v[:2] \n",
    "v1"
   ]
  },
  {
   "cell_type": "code",
   "execution_count": 72,
   "id": "d2683477",
   "metadata": {},
   "outputs": [
    {
     "data": {
      "text/plain": [
       "array([5., 3., 5.])"
      ]
     },
     "execution_count": 72,
     "metadata": {},
     "output_type": "execute_result"
    }
   ],
   "source": [
    "v[0] = 5 \n",
    "v"
   ]
  },
  {
   "cell_type": "code",
   "execution_count": 73,
   "id": "4a4254fc",
   "metadata": {},
   "outputs": [
    {
     "data": {
      "text/plain": [
       "array([5., 3.])"
      ]
     },
     "execution_count": 73,
     "metadata": {},
     "output_type": "execute_result"
    }
   ],
   "source": [
    "v1"
   ]
  },
  {
   "cell_type": "code",
   "execution_count": 78,
   "id": "64edb837",
   "metadata": {},
   "outputs": [
    {
     "ename": "ValueError",
     "evalue": "could not broadcast input array from shape (3,) into shape (2,)",
     "output_type": "error",
     "traceback": [
      "\u001b[1;31m---------------------------------------------------------------------------\u001b[0m",
      "\u001b[1;31mValueError\u001b[0m                                Traceback (most recent call last)",
      "\u001b[1;32m~\\AppData\\Local\\Temp\\ipykernel_6892\\1967869341.py\u001b[0m in \u001b[0;36m<module>\u001b[1;34m\u001b[0m\n\u001b[1;32m----> 1\u001b[1;33m \u001b[0mv1\u001b[0m\u001b[1;33m[\u001b[0m\u001b[1;33m:\u001b[0m\u001b[1;36m2\u001b[0m\u001b[1;33m]\u001b[0m \u001b[1;33m=\u001b[0m \u001b[1;33m[\u001b[0m\u001b[1;36m1.\u001b[0m\u001b[1;33m,\u001b[0m \u001b[1;36m2.\u001b[0m\u001b[1;33m,\u001b[0m \u001b[1;36m3.\u001b[0m\u001b[1;33m]\u001b[0m\u001b[1;33m\u001b[0m\u001b[1;33m\u001b[0m\u001b[0m\n\u001b[0m\u001b[0;32m      2\u001b[0m \u001b[0mv1\u001b[0m\u001b[1;33m\u001b[0m\u001b[1;33m\u001b[0m\u001b[0m\n",
      "\u001b[1;31mValueError\u001b[0m: could not broadcast input array from shape (3,) into shape (2,)"
     ]
    }
   ],
   "source": [
    "v1[:2] = [1., 2., 3.]\n",
    "v1"
   ]
  },
  {
   "cell_type": "code",
   "execution_count": 79,
   "id": "9a98020d",
   "metadata": {},
   "outputs": [
    {
     "data": {
      "text/plain": [
       "array([1., 2., 5.])"
      ]
     },
     "execution_count": 79,
     "metadata": {},
     "output_type": "execute_result"
    }
   ],
   "source": [
    "v1[:2] = [1., 2] \n",
    "v \n"
   ]
  },
  {
   "cell_type": "code",
   "execution_count": 80,
   "id": "2bdc113b",
   "metadata": {},
   "outputs": [
    {
     "data": {
      "text/plain": [
       "array([ 5., 10.])"
      ]
     },
     "execution_count": 80,
     "metadata": {},
     "output_type": "execute_result"
    }
   ],
   "source": [
    "v3 = 2 * v[:2] + v1 * 3 \n",
    "v3"
   ]
  },
  {
   "cell_type": "code",
   "execution_count": 81,
   "id": "ef497375",
   "metadata": {},
   "outputs": [
    {
     "data": {
      "text/plain": [
       "array([ 5., 10.])"
      ]
     },
     "execution_count": 81,
     "metadata": {},
     "output_type": "execute_result"
    }
   ],
   "source": [
    "v1 = [4, 6] \n",
    "v3"
   ]
  },
  {
   "cell_type": "code",
   "execution_count": 82,
   "id": "36c1b63c",
   "metadata": {},
   "outputs": [
    {
     "data": {
      "text/plain": [
       "array([1., 2., 5.])"
      ]
     },
     "execution_count": 82,
     "metadata": {},
     "output_type": "execute_result"
    }
   ],
   "source": [
    "v"
   ]
  },
  {
   "cell_type": "code",
   "execution_count": 83,
   "id": "62c27cb3",
   "metadata": {},
   "outputs": [
    {
     "data": {
      "text/plain": [
       "array([11., 12., 15.])"
      ]
     },
     "execution_count": 83,
     "metadata": {},
     "output_type": "execute_result"
    }
   ],
   "source": [
    "v + 10.0"
   ]
  },
  {
   "cell_type": "code",
   "execution_count": 84,
   "id": "db8efc83",
   "metadata": {},
   "outputs": [
    {
     "data": {
      "text/plain": [
       "array([1.        , 1.41421356, 2.23606798])"
      ]
     },
     "execution_count": 84,
     "metadata": {},
     "output_type": "execute_result"
    }
   ],
   "source": [
    "np.sqrt(v) "
   ]
  },
  {
   "cell_type": "code",
   "execution_count": 85,
   "id": "a560f0cc",
   "metadata": {},
   "outputs": [
    {
     "data": {
      "text/plain": [
       "array([ 0.54030231, -0.41614684,  0.28366219])"
      ]
     },
     "execution_count": 85,
     "metadata": {},
     "output_type": "execute_result"
    }
   ],
   "source": [
    "np.cos(v) "
   ]
  },
  {
   "cell_type": "code",
   "execution_count": 86,
   "id": "a3da56da",
   "metadata": {},
   "outputs": [
    {
     "data": {
      "text/plain": [
       "array([ 0.84147098,  0.90929743, -0.95892427])"
      ]
     },
     "execution_count": 86,
     "metadata": {},
     "output_type": "execute_result"
    }
   ],
   "source": [
    "np.sin(v) "
   ]
  },
  {
   "cell_type": "code",
   "execution_count": 92,
   "id": "cc64acd9",
   "metadata": {},
   "outputs": [
    {
     "data": {
      "text/plain": [
       "80.0"
      ]
     },
     "execution_count": 92,
     "metadata": {},
     "output_type": "execute_result"
    }
   ],
   "source": [
    "np.dot(v1, v3) "
   ]
  },
  {
   "cell_type": "code",
   "execution_count": 93,
   "id": "0df5e6f1",
   "metadata": {},
   "outputs": [
    {
     "ename": "AttributeError",
     "evalue": "'list' object has no attribute 'dot'",
     "output_type": "error",
     "traceback": [
      "\u001b[1;31m---------------------------------------------------------------------------\u001b[0m",
      "\u001b[1;31mAttributeError\u001b[0m                            Traceback (most recent call last)",
      "\u001b[1;32m~\\AppData\\Local\\Temp\\ipykernel_6892\\2152788294.py\u001b[0m in \u001b[0;36m<module>\u001b[1;34m\u001b[0m\n\u001b[1;32m----> 1\u001b[1;33m \u001b[0mv1\u001b[0m\u001b[1;33m.\u001b[0m\u001b[0mdot\u001b[0m\u001b[1;33m(\u001b[0m\u001b[0mv3\u001b[0m\u001b[1;33m)\u001b[0m\u001b[1;33m\u001b[0m\u001b[1;33m\u001b[0m\u001b[0m\n\u001b[0m",
      "\u001b[1;31mAttributeError\u001b[0m: 'list' object has no attribute 'dot'"
     ]
    }
   ],
   "source": [
    "v1.dot(v3) "
   ]
  },
  {
   "cell_type": "code",
   "execution_count": 94,
   "id": "24a0e81e",
   "metadata": {},
   "outputs": [
    {
     "data": {
      "text/plain": [
       "80.0"
      ]
     },
     "execution_count": 94,
     "metadata": {},
     "output_type": "execute_result"
    }
   ],
   "source": [
    "v3.dot(v1) "
   ]
  },
  {
   "cell_type": "code",
   "execution_count": 95,
   "id": "92a05960",
   "metadata": {},
   "outputs": [
    {
     "data": {
      "text/plain": [
       "[2]"
      ]
     },
     "execution_count": 95,
     "metadata": {},
     "output_type": "execute_result"
    }
   ],
   "source": [
    "from sympy import Symbol, solve \n",
    "x = Symbol('x') \n",
    "bieuthuc = x + 3 - 5 \n",
    "solve(bieuthuc) \n"
   ]
  },
  {
   "cell_type": "code",
   "execution_count": 96,
   "id": "8ca43358",
   "metadata": {},
   "outputs": [
    {
     "data": {
      "text/plain": [
       "[-sqrt(2), sqrt(2)]"
      ]
     },
     "execution_count": 96,
     "metadata": {},
     "output_type": "execute_result"
    }
   ],
   "source": [
    "bieuthuc = x**2 + 3 - 5 \n",
    "nghiemx = solve(bieuthuc) \n",
    "nghiemx \n"
   ]
  },
  {
   "cell_type": "code",
   "execution_count": 97,
   "id": "587f1913",
   "metadata": {},
   "outputs": [
    {
     "data": {
      "text/latex": [
       "$\\displaystyle - \\sqrt{2}$"
      ],
      "text/plain": [
       "-sqrt(2)"
      ]
     },
     "execution_count": 97,
     "metadata": {},
     "output_type": "execute_result"
    }
   ],
   "source": [
    "nghiemx[0] "
   ]
  },
  {
   "cell_type": "code",
   "execution_count": 98,
   "id": "58a15e9c",
   "metadata": {},
   "outputs": [
    {
     "data": {
      "text/latex": [
       "$\\displaystyle \\sqrt{2}$"
      ],
      "text/plain": [
       "sqrt(2)"
      ]
     },
     "execution_count": 98,
     "metadata": {},
     "output_type": "execute_result"
    }
   ],
   "source": [
    "nghiemx[1] "
   ]
  },
  {
   "cell_type": "code",
   "execution_count": 99,
   "id": "f9af0652",
   "metadata": {},
   "outputs": [
    {
     "data": {
      "text/plain": [
       "[{x: -8}, {x: -1}]"
      ]
     },
     "execution_count": 99,
     "metadata": {},
     "output_type": "execute_result"
    }
   ],
   "source": [
    "from sympy import solve \n",
    "x = Symbol('x') \n",
    "ptb2 = x**2 + 9*x +8 \n",
    "solve(ptb2, dict = True) \n"
   ]
  },
  {
   "cell_type": "code",
   "execution_count": 100,
   "id": "4a496b47",
   "metadata": {},
   "outputs": [
    {
     "data": {
      "text/plain": [
       "[{x: -1/2 - sqrt(39)*I/2}, {x: -1/2 + sqrt(39)*I/2}]"
      ]
     },
     "execution_count": 100,
     "metadata": {},
     "output_type": "execute_result"
    }
   ],
   "source": [
    "ptb2 = x**2 + 1*x + 10 \n",
    "nghiemx = solve(ptb2, dict = True) \n",
    "nghiemx \n"
   ]
  },
  {
   "cell_type": "code",
   "execution_count": 101,
   "id": "d4c1f514",
   "metadata": {},
   "outputs": [
    {
     "data": {
      "text/plain": [
       "[{x: (-b - sqrt(-4*a*c + b**2))/(2*a)}, {x: (-b + sqrt(-4*a*c + b**2))/(2*a)}]"
      ]
     },
     "execution_count": 101,
     "metadata": {},
     "output_type": "execute_result"
    }
   ],
   "source": [
    "x = Symbol('x') \n",
    "a = Symbol('a') \n",
    "b = Symbol('b') \n",
    "c = Symbol('c') \n",
    "ptb2 = a*x*x + b*x + c \n",
    "nghiem = solve(ptb2, x, dict=True) \n",
    "nghiem \n"
   ]
  },
  {
   "cell_type": "code",
   "execution_count": 102,
   "id": "973cf285",
   "metadata": {},
   "outputs": [
    {
     "data": {
      "text/plain": [
       "[{x: 3, y: 2}]"
      ]
     },
     "execution_count": 102,
     "metadata": {},
     "output_type": "execute_result"
    }
   ],
   "source": [
    "from sympy import Symbol, solve\n",
    "x = Symbol('x')\n",
    "y = Symbol('y')\n",
    "pt1 = 2*x+3*y-12\n",
    "pt2 = 3*x-2*y-5\n",
    "solve((pt1, pt2), dict=True)"
   ]
  },
  {
   "cell_type": "code",
   "execution_count": 110,
   "id": "684f85a6",
   "metadata": {},
   "outputs": [
    {
     "data": {
      "text/latex": [
       "$\\displaystyle 0$"
      ],
      "text/plain": [
       "0"
      ]
     },
     "execution_count": 110,
     "metadata": {},
     "output_type": "execute_result"
    }
   ],
   "source": [
    "nghiem = solve((pt1, pt2), dict=True)\n",
    "nghiem = nghiem[0] \n",
    "pt1.subs({x:nghiem[x], y:nghiem[y]})"
   ]
  },
  {
   "cell_type": "code",
   "execution_count": 104,
   "id": "61f1185d",
   "metadata": {},
   "outputs": [
    {
     "data": {
      "text/latex": [
       "$\\displaystyle 0$"
      ],
      "text/plain": [
       "0"
      ]
     },
     "execution_count": 104,
     "metadata": {},
     "output_type": "execute_result"
    }
   ],
   "source": [
    "pt2.subs({x:nghiem[x], y:nghiem[y]})"
   ]
  },
  {
   "cell_type": "code",
   "execution_count": 107,
   "id": "7751413c",
   "metadata": {},
   "outputs": [
    {
     "name": "stdout",
     "output_type": "stream",
     "text": [
      "[[ 9 12]\n",
      " [23 30]]\n"
     ]
    }
   ],
   "source": [
    "M1 = np.array([ [9, 12], [23,30] ])\n",
    "print(M1)"
   ]
  },
  {
   "cell_type": "code",
   "execution_count": 111,
   "id": "1cfb96e2",
   "metadata": {},
   "outputs": [
    {
     "name": "stdout",
     "output_type": "stream",
     "text": [
      "[30 76]\n"
     ]
    }
   ],
   "source": [
    "u = np.array([ 2, 1]) \n",
    "tichM1u = M1.dot(u) \n",
    "print(tichM1u) \n"
   ]
  },
  {
   "cell_type": "code",
   "execution_count": 112,
   "id": "758c43dc",
   "metadata": {},
   "outputs": [
    {
     "name": "stdout",
     "output_type": "stream",
     "text": [
      "[41 54]\n"
     ]
    }
   ],
   "source": [
    "tichuM1 = u.dot(M1) \n",
    "print(tichuM1) "
   ]
  },
  {
   "cell_type": "code",
   "execution_count": 113,
   "id": "14bebce0",
   "metadata": {},
   "outputs": [
    {
     "data": {
      "text/plain": [
       "array([30, 76])"
      ]
     },
     "execution_count": 113,
     "metadata": {},
     "output_type": "execute_result"
    }
   ],
   "source": [
    "np.dot(M1, u) "
   ]
  },
  {
   "cell_type": "code",
   "execution_count": 114,
   "id": "4afde401",
   "metadata": {},
   "outputs": [
    {
     "data": {
      "text/plain": [
       "array([41, 54])"
      ]
     },
     "execution_count": 114,
     "metadata": {},
     "output_type": "execute_result"
    }
   ],
   "source": [
    "np.dot(u, M1) "
   ]
  },
  {
   "cell_type": "code",
   "execution_count": 116,
   "id": "849d8bae",
   "metadata": {},
   "outputs": [
    {
     "data": {
      "text/plain": [
       "array([[0., 0., 0., 0., 0.],\n",
       "       [0., 0., 0., 0., 0.],\n",
       "       [0., 0., 0., 0., 0.],\n",
       "       [0., 0., 0., 0., 0.],\n",
       "       [0., 0., 0., 0., 0.]])"
      ]
     },
     "execution_count": 116,
     "metadata": {},
     "output_type": "execute_result"
    }
   ],
   "source": [
    "mat1 = np.zeros( [5,5]) \n",
    "mat1"
   ]
  },
  {
   "cell_type": "code",
   "execution_count": 117,
   "id": "c5554670",
   "metadata": {},
   "outputs": [
    {
     "data": {
      "text/plain": [
       "array([[1., 1., 1., 1., 1.],\n",
       "       [1., 1., 1., 1., 1.],\n",
       "       [1., 1., 1., 1., 1.],\n",
       "       [1., 1., 1., 1., 1.],\n",
       "       [1., 1., 1., 1., 1.]])"
      ]
     },
     "execution_count": 117,
     "metadata": {},
     "output_type": "execute_result"
    }
   ],
   "source": [
    "mat2 = np.ones( [5,5]) \n",
    "mat2"
   ]
  },
  {
   "cell_type": "code",
   "execution_count": 118,
   "id": "825c52e6",
   "metadata": {},
   "outputs": [
    {
     "data": {
      "text/plain": [
       "array([[2., 2., 2., 2., 2.],\n",
       "       [2., 2., 2., 2., 2.],\n",
       "       [2., 2., 2., 2., 2.],\n",
       "       [2., 2., 2., 2., 2.],\n",
       "       [2., 2., 2., 2., 2.]])"
      ]
     },
     "execution_count": 118,
     "metadata": {},
     "output_type": "execute_result"
    }
   ],
   "source": [
    "mat3 = mat1 + 2* mat2\n",
    "mat3"
   ]
  },
  {
   "cell_type": "code",
   "execution_count": 123,
   "id": "e868250b",
   "metadata": {},
   "outputs": [
    {
     "data": {
      "text/plain": [
       "array([[ 2.,  2.,  2.,  2.,  2.],\n",
       "       [ 2.,  2.,  2.,  2.,  2.],\n",
       "       [ 2.,  2.,  2.,  2.,  2.],\n",
       "       [ 2.,  2., 10.,  2.,  2.],\n",
       "       [ 2.,  2.,  2.,  2.,  2.]])"
      ]
     },
     "execution_count": 123,
     "metadata": {},
     "output_type": "execute_result"
    }
   ],
   "source": [
    "mat4 = mat3 \n",
    "mat3[3][2] = 10\n",
    "mat3"
   ]
  },
  {
   "cell_type": "code",
   "execution_count": 124,
   "id": "b6dd1020",
   "metadata": {},
   "outputs": [
    {
     "data": {
      "text/plain": [
       "array([[ 2.,  2.,  2.,  2.,  2.],\n",
       "       [ 2.,  2.,  2.,  2.,  2.],\n",
       "       [ 2.,  2.,  2.,  2.,  2.],\n",
       "       [ 2.,  2., 10.,  2.,  2.],\n",
       "       [ 2.,  2.,  2.,  2.,  2.]])"
      ]
     },
     "execution_count": 124,
     "metadata": {},
     "output_type": "execute_result"
    }
   ],
   "source": [
    "mat4"
   ]
  },
  {
   "cell_type": "code",
   "execution_count": 125,
   "id": "21868ee1",
   "metadata": {},
   "outputs": [
    {
     "data": {
      "text/plain": [
       "array([[ 2.,  2.,  2.,  2.,  2.],\n",
       "       [ 2.,  2.,  2.,  2.,  2.],\n",
       "       [ 2.,  2.,  2.,  2.,  2.],\n",
       "       [ 2.,  2., 10.,  2.,  2.],\n",
       "       [ 2.,  2.,  2.,  2.,  2.]])"
      ]
     },
     "execution_count": 125,
     "metadata": {},
     "output_type": "execute_result"
    }
   ],
   "source": [
    "mat5 = np.copy(mat3) \n",
    "mat3[3][2] = 10 \n",
    "mat3"
   ]
  },
  {
   "cell_type": "code",
   "execution_count": 126,
   "id": "7adde95a",
   "metadata": {},
   "outputs": [
    {
     "data": {
      "text/plain": [
       "array([[ 2.,  2.,  2.,  2.,  2.],\n",
       "       [ 2.,  2.,  2.,  2.,  2.],\n",
       "       [ 2.,  2.,  2.,  2.,  2.],\n",
       "       [ 2.,  2., 10.,  2.,  2.],\n",
       "       [ 2.,  2.,  2.,  2.,  2.]])"
      ]
     },
     "execution_count": 126,
     "metadata": {},
     "output_type": "execute_result"
    }
   ],
   "source": [
    "mat4"
   ]
  },
  {
   "cell_type": "code",
   "execution_count": 127,
   "id": "5fb27631",
   "metadata": {},
   "outputs": [
    {
     "data": {
      "text/plain": [
       "array([[ 2.,  2.,  2.,  2.,  2.],\n",
       "       [ 2.,  2.,  2.,  2.,  2.],\n",
       "       [ 2.,  2.,  2.,  2.,  2.],\n",
       "       [ 2.,  2., 10.,  2.,  2.],\n",
       "       [ 2.,  2.,  2.,  2.,  2.]])"
      ]
     },
     "execution_count": 127,
     "metadata": {},
     "output_type": "execute_result"
    }
   ],
   "source": [
    "mat5"
   ]
  },
  {
   "cell_type": "code",
   "execution_count": 128,
   "id": "a08ec8cc",
   "metadata": {},
   "outputs": [
    {
     "data": {
      "text/plain": [
       "array([[6.23042070e-307, 1.89146896e-307, 1.37961302e-306,\n",
       "        1.05699242e-307, 8.01097889e-307],\n",
       "       [1.78020169e-306, 7.56601165e-307, 1.02359984e-306,\n",
       "        1.15710088e-306, 6.23056330e-307],\n",
       "       [1.60219578e-306, 7.56601165e-307, 6.23061763e-307,\n",
       "        9.34607074e-307, 8.90098127e-307],\n",
       "       [8.90108313e-307, 6.23053954e-307, 2.22523004e-306,\n",
       "        2.22522596e-306, 8.34446834e-308]])"
      ]
     },
     "execution_count": 128,
     "metadata": {},
     "output_type": "execute_result"
    }
   ],
   "source": [
    "mat6 = np.empty([4, 5]) \n",
    "mat6"
   ]
  },
  {
   "cell_type": "code",
   "execution_count": 129,
   "id": "5df26c5b",
   "metadata": {},
   "outputs": [
    {
     "data": {
      "text/plain": [
       "array([[1., 0., 0., 0.],\n",
       "       [0., 1., 0., 0.],\n",
       "       [0., 0., 1., 0.],\n",
       "       [0., 0., 0., 1.]])"
      ]
     },
     "execution_count": 129,
     "metadata": {},
     "output_type": "execute_result"
    }
   ],
   "source": [
    "mat7 = np.identity(4)  \n",
    "mat7"
   ]
  },
  {
   "cell_type": "code",
   "execution_count": 131,
   "id": "edae3f7a",
   "metadata": {},
   "outputs": [
    {
     "data": {
      "text/plain": [
       "array([[0.0445392 , 0.66331962, 0.47710565, 0.67054075, 0.10428043],\n",
       "       [0.75201946, 0.87997229, 0.63865321, 0.03962002, 0.80502039],\n",
       "       [0.28412318, 0.22691084, 0.38233544, 0.57413261, 0.91944822],\n",
       "       [0.60659476, 0.57278894, 0.60331986, 0.21475069, 0.16291946]])"
      ]
     },
     "execution_count": 131,
     "metadata": {},
     "output_type": "execute_result"
    }
   ],
   "source": [
    "mat8  = np.random.random([4,5]) \n",
    "mat8"
   ]
  },
  {
   "cell_type": "code",
   "execution_count": null,
   "id": "ef4deeaf",
   "metadata": {},
   "outputs": [],
   "source": []
  }
 ],
 "metadata": {
  "kernelspec": {
   "display_name": "Python 3 (ipykernel)",
   "language": "python",
   "name": "python3"
  },
  "language_info": {
   "codemirror_mode": {
    "name": "ipython",
    "version": 3
   },
   "file_extension": ".py",
   "mimetype": "text/x-python",
   "name": "python",
   "nbconvert_exporter": "python",
   "pygments_lexer": "ipython3",
   "version": "3.9.13"
  }
 },
 "nbformat": 4,
 "nbformat_minor": 5
}
