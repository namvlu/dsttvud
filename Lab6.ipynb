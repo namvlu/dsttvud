{
 "cells": [
  {
   "cell_type": "code",
   "execution_count": 1,
   "id": "b4f700d0",
   "metadata": {},
   "outputs": [
    {
     "name": "stdout",
     "output_type": "stream",
     "text": [
      "32\n"
     ]
    }
   ],
   "source": [
    "# 1. Khái niệm về không gian vector và tích trong\n",
    "# 1.2.Tích vô hướng, trực giao và ứng dụng\n",
    "import numpy as np\n",
    "a = np.array([1,2,3])\n",
    "b = np.array([4,5,6])\n",
    "tich = np.inner(a,b)\n",
    "print (tich)"
   ]
  },
  {
   "cell_type": "code",
   "execution_count": 2,
   "id": "f4c7c308",
   "metadata": {},
   "outputs": [
    {
     "data": {
      "text/plain": [
       "32"
      ]
     },
     "execution_count": 2,
     "metadata": {},
     "output_type": "execute_result"
    }
   ],
   "source": [
    "np.dot(a,b)"
   ]
  },
  {
   "cell_type": "code",
   "execution_count": 3,
   "id": "46ad4d9a",
   "metadata": {},
   "outputs": [
    {
     "data": {
      "text/plain": [
       "3.7416573867739413"
      ]
     },
     "execution_count": 3,
     "metadata": {},
     "output_type": "execute_result"
    }
   ],
   "source": [
    "a = np.array([1,2,-3])\n",
    "np.linalg.norm(a, 2) "
   ]
  },
  {
   "cell_type": "code",
   "execution_count": 4,
   "id": "f4a3f4d4",
   "metadata": {},
   "outputs": [
    {
     "data": {
      "text/plain": [
       "6.0"
      ]
     },
     "execution_count": 4,
     "metadata": {},
     "output_type": "execute_result"
    }
   ],
   "source": [
    "np.linalg.norm(a,1)"
   ]
  },
  {
   "cell_type": "code",
   "execution_count": 5,
   "id": "e4b0c922",
   "metadata": {},
   "outputs": [
    {
     "data": {
      "text/plain": [
       "1.0"
      ]
     },
     "execution_count": 5,
     "metadata": {},
     "output_type": "execute_result"
    }
   ],
   "source": [
    "def chuan(v,k):\n",
    "    tong=0\n",
    "    for i in range(len(v)):\n",
    "        tong += abs(v[i]**k)\n",
    "        kq = math.pow(tong, 1.0/k)\n",
    "        return kq\n",
    "import math\n",
    "chuan(a, 1)"
   ]
  },
  {
   "cell_type": "code",
   "execution_count": 6,
   "id": "94d9b68c",
   "metadata": {},
   "outputs": [
    {
     "data": {
      "text/plain": [
       "6.0"
      ]
     },
     "execution_count": 6,
     "metadata": {},
     "output_type": "execute_result"
    }
   ],
   "source": [
    "np.linalg.norm(a,1)"
   ]
  },
  {
   "cell_type": "code",
   "execution_count": 7,
   "id": "b8aca57b",
   "metadata": {},
   "outputs": [
    {
     "data": {
      "text/plain": [
       "1.0"
      ]
     },
     "execution_count": 7,
     "metadata": {},
     "output_type": "execute_result"
    }
   ],
   "source": [
    "chuan(a, 2)"
   ]
  },
  {
   "cell_type": "code",
   "execution_count": 8,
   "id": "48a483f6",
   "metadata": {},
   "outputs": [
    {
     "data": {
      "text/plain": [
       "3.7416573867739413"
      ]
     },
     "execution_count": 8,
     "metadata": {},
     "output_type": "execute_result"
    }
   ],
   "source": [
    "np.linalg.norm(a,2)"
   ]
  },
  {
   "cell_type": "code",
   "execution_count": 9,
   "id": "dea4fafb",
   "metadata": {},
   "outputs": [
    {
     "data": {
      "text/plain": [
       "1.0"
      ]
     },
     "execution_count": 9,
     "metadata": {},
     "output_type": "execute_result"
    }
   ],
   "source": [
    " chuan(a, 3)"
   ]
  },
  {
   "cell_type": "code",
   "execution_count": 10,
   "id": "c66d972e",
   "metadata": {},
   "outputs": [
    {
     "data": {
      "text/plain": [
       "3.3019272488946263"
      ]
     },
     "execution_count": 10,
     "metadata": {},
     "output_type": "execute_result"
    }
   ],
   "source": [
    "np.linalg.norm(a,3)"
   ]
  },
  {
   "cell_type": "code",
   "execution_count": 11,
   "id": "b83457ad",
   "metadata": {},
   "outputs": [
    {
     "data": {
      "text/plain": [
       "1.0"
      ]
     },
     "execution_count": 11,
     "metadata": {},
     "output_type": "execute_result"
    }
   ],
   "source": [
    " chuan(a, 1000)"
   ]
  },
  {
   "cell_type": "code",
   "execution_count": 12,
   "id": "4dd380ad",
   "metadata": {},
   "outputs": [
    {
     "name": "stderr",
     "output_type": "stream",
     "text": [
      "C:\\Anaconda3\\lib\\site-packages\\numpy\\linalg\\linalg.py:2568: RuntimeWarning: overflow encountered in power\n",
      "  absx **= ord\n"
     ]
    },
    {
     "data": {
      "text/plain": [
       "inf"
      ]
     },
     "execution_count": 12,
     "metadata": {},
     "output_type": "execute_result"
    }
   ],
   "source": [
    "np.linalg.norm(a,1000)"
   ]
  },
  {
   "cell_type": "code",
   "execution_count": 13,
   "id": "1945d2e0",
   "metadata": {},
   "outputs": [],
   "source": [
    "# -->Bị tràn dữ liệu đầu vào"
   ]
  },
  {
   "cell_type": "code",
   "execution_count": 14,
   "id": "ddf9bd43",
   "metadata": {},
   "outputs": [
    {
     "data": {
      "text/plain": [
       "3.7416573867739413"
      ]
     },
     "execution_count": 14,
     "metadata": {},
     "output_type": "execute_result"
    }
   ],
   "source": [
    "from scipy import linalg\n",
    "linalg.norm(a)"
   ]
  },
  {
   "cell_type": "code",
   "execution_count": 15,
   "id": "b41711e5",
   "metadata": {},
   "outputs": [
    {
     "data": {
      "text/plain": [
       "3.0"
      ]
     },
     "execution_count": 15,
     "metadata": {},
     "output_type": "execute_result"
    }
   ],
   "source": [
    "linalg.norm(a, 100)"
   ]
  },
  {
   "cell_type": "code",
   "execution_count": 16,
   "id": "8a9a89cd",
   "metadata": {},
   "outputs": [
    {
     "name": "stderr",
     "output_type": "stream",
     "text": [
      "C:\\Anaconda3\\lib\\site-packages\\numpy\\linalg\\linalg.py:2568: RuntimeWarning: overflow encountered in power\n",
      "  absx **= ord\n"
     ]
    },
    {
     "data": {
      "text/plain": [
       "inf"
      ]
     },
     "execution_count": 16,
     "metadata": {},
     "output_type": "execute_result"
    }
   ],
   "source": [
    "linalg.norm(a, 1000)"
   ]
  },
  {
   "cell_type": "code",
   "execution_count": 17,
   "id": "6cf774a9",
   "metadata": {},
   "outputs": [
    {
     "data": {
      "text/plain": [
       "array([[ 5,  4, -4, -9],\n",
       "       [-4,  3, -3,  8],\n",
       "       [ 3, -2, -1,  6]])"
      ]
     },
     "execution_count": 17,
     "metadata": {},
     "output_type": "execute_result"
    }
   ],
   "source": [
    "# 2. Đọc thêm: Tổ hợp tuyến tính\n",
    "import numpy as np\n",
    "m = 10\n",
    "v1 = np.array([5,-4,3])\n",
    "v2 = np.array([4,3,-2])\n",
    "v3 = np.array([-4,-3,-1])\n",
    "v4 = np.array([-9,8,6])\n",
    "mi = np.array([2,5,2,1])\n",
    "M = np.array([v1,v2,v3,v4])\n",
    "MT = M.transpose()\n",
    "MT"
   ]
  },
  {
   "cell_type": "code",
   "execution_count": 20,
   "id": "687e9f92",
   "metadata": {},
   "outputs": [],
   "source": [
    "v = (1.0/m)*MT.dot(mi)"
   ]
  },
  {
   "cell_type": "code",
   "execution_count": 22,
   "id": "5dacf8dd",
   "metadata": {},
   "outputs": [
    {
     "name": "stdout",
     "output_type": "stream",
     "text": [
      "[1.3 0.9 0. ]\n"
     ]
    }
   ],
   "source": [
    "print(v)"
   ]
  },
  {
   "cell_type": "code",
   "execution_count": 24,
   "id": "0af368cb",
   "metadata": {},
   "outputs": [
    {
     "name": "stdout",
     "output_type": "stream",
     "text": [
      "[[0.98550723]\n",
      " [0.01449277]]\n"
     ]
    }
   ],
   "source": [
    "# 3. Tri riêng, vector riêng của ma trận và ứng dụng\n",
    "# 3.1.Bài toán dẫn nhập\n",
    "import numpy as np\n",
    "A = np.array([[0.998, 0.136],[0.002, 0.864]])\n",
    "v0 = np.array([[0.95],[0.05]])\n",
    "Ap100 = np.linalg.matrix_power(A, 100)\n",
    "kq = np.dot(Ap100, v0)\n",
    "print(kq)"
   ]
  },
  {
   "cell_type": "code",
   "execution_count": 25,
   "id": "bb21c34b",
   "metadata": {},
   "outputs": [
    {
     "name": "stdout",
     "output_type": "stream",
     "text": [
      "⎧   68         ⎫\n",
      "⎨x: ──, y: 1/69⎬\n",
      "⎩   69         ⎭\n"
     ]
    }
   ],
   "source": [
    "import sympy as sym\n",
    "x,y = sym.symbols('x y')\n",
    "xy = sym.Matrix([x,y])\n",
    "A = sym.Matrix([[1, -68],[1,1]])\n",
    "v = sym.Matrix([0, 1])\n",
    "nghiem = sym.solve([A*xy-v])\n",
    "print(sym.pretty(nghiem))"
   ]
  },
  {
   "cell_type": "code",
   "execution_count": 26,
   "id": "43485cb6",
   "metadata": {},
   "outputs": [
    {
     "name": "stdout",
     "output_type": "stream",
     "text": [
      "A * u =\n",
      " [[-24]\n",
      " [ 20]]\n",
      "-4 * u =\n",
      " [[-24]\n",
      " [ 20]]\n"
     ]
    },
    {
     "data": {
      "text/plain": [
       "True"
      ]
     },
     "execution_count": 26,
     "metadata": {},
     "output_type": "execute_result"
    }
   ],
   "source": [
    "# 3.2.Trị riêng và vector riêng của ma trận\n",
    "import numpy as np\n",
    "A = np.array([[1, 6],[5, 2]])\n",
    "u = np.array([[6],[-5]])\n",
    "Au = np.dot(A, u)\n",
    "lambda_u = -4 * u\n",
    "print(\"A * u =\\n\", Au)\n",
    "print(\"-4 * u =\\n\", lambda_u)\n",
    "np.allclose(Au, lambda_u)"
   ]
  },
  {
   "cell_type": "code",
   "execution_count": 27,
   "id": "06766228",
   "metadata": {},
   "outputs": [
    {
     "name": "stdout",
     "output_type": "stream",
     "text": [
      "[-7.000, 3.000]\n"
     ]
    }
   ],
   "source": [
    "import sympy\n",
    "x, y, Lambda = sympy.symbols('x y Lambda')\n",
    "I = sympy.eye(2)\n",
    "A = sympy.Matrix([[2,3],[3,-6]])\n",
    "phuongtrinh = sympy.Eq(sympy.det(Lambda*I-A), 0)\n",
    "nghiem = sympy.solve(phuongtrinh)\n",
    "print([sympy.N(phantu,4) for phantu in nghiem])"
   ]
  },
  {
   "cell_type": "code",
   "execution_count": 28,
   "id": "ac129ec8",
   "metadata": {},
   "outputs": [
    {
     "name": "stdout",
     "output_type": "stream",
     "text": [
      "[-7, 3]\n"
     ]
    }
   ],
   "source": [
    "print (sympy.pretty(nghiem))"
   ]
  },
  {
   "cell_type": "code",
   "execution_count": 29,
   "id": "62afa3db",
   "metadata": {},
   "outputs": [
    {
     "data": {
      "text/plain": [
       "array([[-0.3,  0.9],\n",
       "       [ 0.3,  0.1]])"
      ]
     },
     "execution_count": 29,
     "metadata": {},
     "output_type": "execute_result"
    }
   ],
   "source": [
    "# 3.3.Ứng dụng của trị riêng và vector riêng\n",
    "import numpy as np\n",
    "A = np.array([[2,3],[3,-6]])\n",
    "D = np.array([[-7,0],[0,3]])\n",
    "P = np.array([[-1.0/3, 3],[1,1]])\n",
    "from numpy import linalg\n",
    "from numpy import linalg as LA\n",
    "P1 = LA.inv(P)\n",
    "P1"
   ]
  },
  {
   "cell_type": "code",
   "execution_count": 30,
   "id": "d88d2af4",
   "metadata": {},
   "outputs": [
    {
     "data": {
      "text/plain": [
       "array([[ 2.33333333,  9.        ],\n",
       "       [-7.        ,  3.        ]])"
      ]
     },
     "execution_count": 30,
     "metadata": {},
     "output_type": "execute_result"
    }
   ],
   "source": [
    "A.dot(P)"
   ]
  },
  {
   "cell_type": "code",
   "execution_count": 31,
   "id": "4b028e75",
   "metadata": {},
   "outputs": [
    {
     "data": {
      "text/plain": [
       "array([[ 2.33333333,  9.        ],\n",
       "       [-7.        ,  3.        ]])"
      ]
     },
     "execution_count": 31,
     "metadata": {},
     "output_type": "execute_result"
    }
   ],
   "source": [
    "P.dot(D)"
   ]
  },
  {
   "cell_type": "code",
   "execution_count": 32,
   "id": "a16abdcb",
   "metadata": {},
   "outputs": [
    {
     "data": {
      "text/plain": [
       "array([[-6.25396533e+08, -3.52488701e+08],\n",
       "       [-3.52488701e+08,  3.14573335e+08]])"
      ]
     },
     "execution_count": 32,
     "metadata": {},
     "output_type": "execute_result"
    }
   ],
   "source": [
    "P @ (D ** 1000) @ P1"
   ]
  },
  {
   "cell_type": "code",
   "execution_count": 33,
   "id": "275c4ea2",
   "metadata": {},
   "outputs": [
    {
     "data": {
      "text/plain": [
       "array([[49,  0],\n",
       "       [ 0,  9]], dtype=int32)"
      ]
     },
     "execution_count": 33,
     "metadata": {},
     "output_type": "execute_result"
    }
   ],
   "source": [
    "D**2"
   ]
  },
  {
   "cell_type": "code",
   "execution_count": 34,
   "id": "4b0e149c",
   "metadata": {},
   "outputs": [],
   "source": [
    "# BÀI TẬP CHƯƠNG 6"
   ]
  },
  {
   "cell_type": "code",
   "execution_count": 36,
   "id": "450c3198",
   "metadata": {},
   "outputs": [],
   "source": [
    "# Câu 1: [Trắc nghiệm] Trong Python 3, các câu lệnh sau đây, câu lệnh nào tính chuẩn 2 của\n",
    "# vector a. Với a được xác định là:\n",
    "# import numpy as np\n",
    "# a = np.array([1,2,3])\n",
    "\n",
    "# a. mag = np.sqrt(a.dot(a))\n",
    "# b. mag = np.sqrt(a @ a )\n",
    "# c. mag = np.sqrt(np.inner(a,a))\n",
    "# d. mag = lambda x : math.sqrt(sum(i** 2 for i in x)) \n",
    "#    mag(a) "
   ]
  },
  {
   "cell_type": "code",
   "execution_count": 38,
   "id": "9512863b",
   "metadata": {},
   "outputs": [],
   "source": [
    "# --> Tất cẩ đều đúng.\n",
    "# --> Chọn a"
   ]
  },
  {
   "cell_type": "code",
   "execution_count": 39,
   "id": "8ae6a2fd",
   "metadata": {},
   "outputs": [
    {
     "data": {
      "text/plain": [
       "4.58257569495584"
      ]
     },
     "execution_count": 39,
     "metadata": {},
     "output_type": "execute_result"
    }
   ],
   "source": [
    "# Câu 2:\n",
    "# a)\n",
    "u = np.array([2, 4, 8])\n",
    "v = np.array([3, 6, 12])\n",
    "distance = np.linalg.norm(u - v)\n",
    "distance"
   ]
  },
  {
   "cell_type": "code",
   "execution_count": 42,
   "id": "b1255897",
   "metadata": {},
   "outputs": [
    {
     "data": {
      "text/plain": [
       "0.23718680429632516"
      ]
     },
     "execution_count": 42,
     "metadata": {},
     "output_type": "execute_result"
    }
   ],
   "source": [
    "# b)\n",
    "u = np.array([2, 4, 8])\n",
    "v = np.array([3, 6, 24])\n",
    "dot_product = np.dot(u, v)\n",
    "norm_u = np.linalg.norm(u)\n",
    "norm_v = np.linalg.norm(v)\n",
    "np.arccos((dot_product / (norm_u * norm_v)))"
   ]
  },
  {
   "cell_type": "code",
   "execution_count": 45,
   "id": "9d4f810a",
   "metadata": {},
   "outputs": [
    {
     "name": "stdout",
     "output_type": "stream",
     "text": [
      "Vector chiếu p của u lên v: [3.41747573 4.03883495 4.66019417]\n"
     ]
    }
   ],
   "source": [
    "# c)\n",
    "u = np.array([3, 4, 5])\n",
    "v = np.array([11, 13, 15])\n",
    "projection = (np.dot(u, v) / np.dot(v, v)) * v\n",
    "print(\"Vector chiếu p của u lên v:\", projection)"
   ]
  },
  {
   "cell_type": "code",
   "execution_count": null,
   "id": "fd785c32",
   "metadata": {},
   "outputs": [],
   "source": []
  }
 ],
 "metadata": {
  "kernelspec": {
   "display_name": "Python 3 (ipykernel)",
   "language": "python",
   "name": "python3"
  },
  "language_info": {
   "codemirror_mode": {
    "name": "ipython",
    "version": 3
   },
   "file_extension": ".py",
   "mimetype": "text/x-python",
   "name": "python",
   "nbconvert_exporter": "python",
   "pygments_lexer": "ipython3",
   "version": "3.9.13"
  }
 },
 "nbformat": 4,
 "nbformat_minor": 5
}
