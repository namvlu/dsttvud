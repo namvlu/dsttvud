{
 "cells": [
  {
   "cell_type": "code",
   "execution_count": 1,
   "id": "bbd8d814",
   "metadata": {},
   "outputs": [
    {
     "name": "stdout",
     "output_type": "stream",
     "text": [
      "[ 18 -11   9  -8]\n"
     ]
    }
   ],
   "source": [
    "import numpy as np\n",
    "u = np.array([2,-1,5,0])\n",
    "v = np.array([4,3,1,-1])\n",
    "w = np.array([-6,2,0,3])\n",
    "\n",
    "x = 2*u-(v+3*w)\n",
    "\n",
    "print(x)"
   ]
  },
  {
   "cell_type": "code",
   "execution_count": 2,
   "id": "0a79ba10",
   "metadata": {},
   "outputs": [
    {
     "name": "stdout",
     "output_type": "stream",
     "text": [
      "[ 9.  -5.5  4.5 -4. ]\n"
     ]
    }
   ],
   "source": [
    "x = 0.5*(2*u-v-3*w) \n",
    "print (x) "
   ]
  },
  {
   "cell_type": "code",
   "execution_count": 3,
   "id": "62452a53",
   "metadata": {},
   "outputs": [
    {
     "name": "stdout",
     "output_type": "stream",
     "text": [
      "[ 1. -2. -1.]\n"
     ]
    }
   ],
   "source": [
    "from numpy import linalg\n",
    "import numpy as np\n",
    "A = np.matrix([[0, -1, 3],[1, 1, 1],[4, 2, 2]])\n",
    "B = np.array([-1, -2, -2])\n",
    "X = np.linalg.solve(A, B)\n",
    "print(X)"
   ]
  },
  {
   "cell_type": "code",
   "execution_count": 4,
   "id": "ec237195",
   "metadata": {},
   "outputs": [
    {
     "ename": "LinAlgError",
     "evalue": "Singular matrix",
     "output_type": "error",
     "traceback": [
      "\u001b[1;31m---------------------------------------------------------------------------\u001b[0m",
      "\u001b[1;31mLinAlgError\u001b[0m                               Traceback (most recent call last)",
      "Cell \u001b[1;32mIn[4], line 6\u001b[0m\n\u001b[0;32m      4\u001b[0m A \u001b[38;5;241m=\u001b[39m np\u001b[38;5;241m.\u001b[39mmatrix([[\u001b[38;5;241m1\u001b[39m,\u001b[38;5;241m0\u001b[39m],[\u001b[38;5;241m0\u001b[39m,\u001b[38;5;241m0\u001b[39m]])\n\u001b[0;32m      5\u001b[0m B \u001b[38;5;241m=\u001b[39m np\u001b[38;5;241m.\u001b[39mmatrix([[\u001b[38;5;241m0\u001b[39m,\u001b[38;5;241m0\u001b[39m],[\u001b[38;5;241m0\u001b[39m,\u001b[38;5;241m1\u001b[39m]])\n\u001b[1;32m----> 6\u001b[0m \u001b[43mLA\u001b[49m\u001b[38;5;241;43m.\u001b[39;49m\u001b[43minv\u001b[49m\u001b[43m(\u001b[49m\u001b[43mA\u001b[49m\u001b[43m)\u001b[49m \n",
      "File \u001b[1;32mc:\\Users\\ACER\\AppData\\Local\\Programs\\Python\\Python311\\Lib\\site-packages\\numpy\\linalg\\linalg.py:561\u001b[0m, in \u001b[0;36minv\u001b[1;34m(a)\u001b[0m\n\u001b[0;32m    559\u001b[0m signature \u001b[38;5;241m=\u001b[39m \u001b[38;5;124m'\u001b[39m\u001b[38;5;124mD->D\u001b[39m\u001b[38;5;124m'\u001b[39m \u001b[38;5;28;01mif\u001b[39;00m isComplexType(t) \u001b[38;5;28;01melse\u001b[39;00m \u001b[38;5;124m'\u001b[39m\u001b[38;5;124md->d\u001b[39m\u001b[38;5;124m'\u001b[39m\n\u001b[0;32m    560\u001b[0m extobj \u001b[38;5;241m=\u001b[39m get_linalg_error_extobj(_raise_linalgerror_singular)\n\u001b[1;32m--> 561\u001b[0m ainv \u001b[38;5;241m=\u001b[39m \u001b[43m_umath_linalg\u001b[49m\u001b[38;5;241;43m.\u001b[39;49m\u001b[43minv\u001b[49m\u001b[43m(\u001b[49m\u001b[43ma\u001b[49m\u001b[43m,\u001b[49m\u001b[43m \u001b[49m\u001b[43msignature\u001b[49m\u001b[38;5;241;43m=\u001b[39;49m\u001b[43msignature\u001b[49m\u001b[43m,\u001b[49m\u001b[43m \u001b[49m\u001b[43mextobj\u001b[49m\u001b[38;5;241;43m=\u001b[39;49m\u001b[43mextobj\u001b[49m\u001b[43m)\u001b[49m\n\u001b[0;32m    562\u001b[0m \u001b[38;5;28;01mreturn\u001b[39;00m wrap(ainv\u001b[38;5;241m.\u001b[39mastype(result_t, copy\u001b[38;5;241m=\u001b[39m\u001b[38;5;28;01mFalse\u001b[39;00m))\n",
      "File \u001b[1;32mc:\\Users\\ACER\\AppData\\Local\\Programs\\Python\\Python311\\Lib\\site-packages\\numpy\\linalg\\linalg.py:112\u001b[0m, in \u001b[0;36m_raise_linalgerror_singular\u001b[1;34m(err, flag)\u001b[0m\n\u001b[0;32m    111\u001b[0m \u001b[38;5;28;01mdef\u001b[39;00m \u001b[38;5;21m_raise_linalgerror_singular\u001b[39m(err, flag):\n\u001b[1;32m--> 112\u001b[0m     \u001b[38;5;28;01mraise\u001b[39;00m LinAlgError(\u001b[38;5;124m\"\u001b[39m\u001b[38;5;124mSingular matrix\u001b[39m\u001b[38;5;124m\"\u001b[39m)\n",
      "\u001b[1;31mLinAlgError\u001b[0m: Singular matrix"
     ]
    }
   ],
   "source": [
    "import numpy as np\n",
    "from numpy import linalg as LA\n",
    "\n",
    "A = np.matrix([[1,0],[0,0]])\n",
    "B = np.matrix([[0,0],[0,1]])\n",
    "LA.inv(A) "
   ]
  },
  {
   "cell_type": "code",
   "execution_count": 5,
   "id": "1f9f2ee5",
   "metadata": {},
   "outputs": [
    {
     "ename": "LinAlgError",
     "evalue": "Singular matrix",
     "output_type": "error",
     "traceback": [
      "\u001b[1;31m---------------------------------------------------------------------------\u001b[0m",
      "\u001b[1;31mLinAlgError\u001b[0m                               Traceback (most recent call last)",
      "Cell \u001b[1;32mIn[5], line 1\u001b[0m\n\u001b[1;32m----> 1\u001b[0m \u001b[43mLA\u001b[49m\u001b[38;5;241;43m.\u001b[39;49m\u001b[43minv\u001b[49m\u001b[43m(\u001b[49m\u001b[43mB\u001b[49m\u001b[43m)\u001b[49m \n",
      "File \u001b[1;32mc:\\Users\\ACER\\AppData\\Local\\Programs\\Python\\Python311\\Lib\\site-packages\\numpy\\linalg\\linalg.py:561\u001b[0m, in \u001b[0;36minv\u001b[1;34m(a)\u001b[0m\n\u001b[0;32m    559\u001b[0m signature \u001b[38;5;241m=\u001b[39m \u001b[38;5;124m'\u001b[39m\u001b[38;5;124mD->D\u001b[39m\u001b[38;5;124m'\u001b[39m \u001b[38;5;28;01mif\u001b[39;00m isComplexType(t) \u001b[38;5;28;01melse\u001b[39;00m \u001b[38;5;124m'\u001b[39m\u001b[38;5;124md->d\u001b[39m\u001b[38;5;124m'\u001b[39m\n\u001b[0;32m    560\u001b[0m extobj \u001b[38;5;241m=\u001b[39m get_linalg_error_extobj(_raise_linalgerror_singular)\n\u001b[1;32m--> 561\u001b[0m ainv \u001b[38;5;241m=\u001b[39m \u001b[43m_umath_linalg\u001b[49m\u001b[38;5;241;43m.\u001b[39;49m\u001b[43minv\u001b[49m\u001b[43m(\u001b[49m\u001b[43ma\u001b[49m\u001b[43m,\u001b[49m\u001b[43m \u001b[49m\u001b[43msignature\u001b[49m\u001b[38;5;241;43m=\u001b[39;49m\u001b[43msignature\u001b[49m\u001b[43m,\u001b[49m\u001b[43m \u001b[49m\u001b[43mextobj\u001b[49m\u001b[38;5;241;43m=\u001b[39;49m\u001b[43mextobj\u001b[49m\u001b[43m)\u001b[49m\n\u001b[0;32m    562\u001b[0m \u001b[38;5;28;01mreturn\u001b[39;00m wrap(ainv\u001b[38;5;241m.\u001b[39mastype(result_t, copy\u001b[38;5;241m=\u001b[39m\u001b[38;5;28;01mFalse\u001b[39;00m))\n",
      "File \u001b[1;32mc:\\Users\\ACER\\AppData\\Local\\Programs\\Python\\Python311\\Lib\\site-packages\\numpy\\linalg\\linalg.py:112\u001b[0m, in \u001b[0;36m_raise_linalgerror_singular\u001b[1;34m(err, flag)\u001b[0m\n\u001b[0;32m    111\u001b[0m \u001b[38;5;28;01mdef\u001b[39;00m \u001b[38;5;21m_raise_linalgerror_singular\u001b[39m(err, flag):\n\u001b[1;32m--> 112\u001b[0m     \u001b[38;5;28;01mraise\u001b[39;00m LinAlgError(\u001b[38;5;124m\"\u001b[39m\u001b[38;5;124mSingular matrix\u001b[39m\u001b[38;5;124m\"\u001b[39m)\n",
      "\u001b[1;31mLinAlgError\u001b[0m: Singular matrix"
     ]
    }
   ],
   "source": [
    "LA.inv(B) "
   ]
  },
  {
   "cell_type": "code",
   "execution_count": 6,
   "id": "bcef6b81",
   "metadata": {},
   "outputs": [
    {
     "data": {
      "text/plain": [
       "matrix([[1., 0.],\n",
       "        [0., 1.]])"
      ]
     },
     "execution_count": 6,
     "metadata": {},
     "output_type": "execute_result"
    }
   ],
   "source": [
    "LA.inv(A+B) "
   ]
  },
  {
   "cell_type": "code",
   "execution_count": 7,
   "id": "f7ed77c3",
   "metadata": {},
   "outputs": [
    {
     "data": {
      "text/plain": [
       "0.0"
      ]
     },
     "execution_count": 7,
     "metadata": {},
     "output_type": "execute_result"
    }
   ],
   "source": [
    "LA.det(A)"
   ]
  },
  {
   "cell_type": "code",
   "execution_count": 8,
   "id": "572420d0",
   "metadata": {},
   "outputs": [
    {
     "data": {
      "text/plain": [
       "0.0"
      ]
     },
     "execution_count": 8,
     "metadata": {},
     "output_type": "execute_result"
    }
   ],
   "source": [
    "LA.det(B)"
   ]
  },
  {
   "cell_type": "code",
   "execution_count": 9,
   "id": "d0384fa7",
   "metadata": {},
   "outputs": [
    {
     "data": {
      "text/plain": [
       "1.0"
      ]
     },
     "execution_count": 9,
     "metadata": {},
     "output_type": "execute_result"
    }
   ],
   "source": [
    "LA.det(A+B) "
   ]
  },
  {
   "cell_type": "code",
   "execution_count": 10,
   "id": "e75620ff",
   "metadata": {},
   "outputs": [
    {
     "data": {
      "text/latex": [
       "$\\displaystyle \\left[\\begin{matrix}x_{1} & y_{1}\\\\y_{1} & x_{1}\\end{matrix}\\right]$"
      ],
      "text/plain": [
       "Matrix([\n",
       "[x1, y1],\n",
       "[y1, x1]])"
      ]
     },
     "execution_count": 10,
     "metadata": {},
     "output_type": "execute_result"
    }
   ],
   "source": [
    "import sympy as sp\n",
    "\n",
    "x, y = sp.symbols('x y')\n",
    "A = sp.Matrix([[x, y],[y, x]])\n",
    "\n",
    "x1, y1 = sp.symbols('x1 y1')\n",
    "A1 = sp.Matrix([[x1, y1],[y1, x1]])\n",
    "\n",
    "x2, y2 = sp.symbols('x2 y2')\n",
    "A2 = sp.Matrix([[x2, y2],[y2, x2]])\n",
    "\n",
    "A1.T"
   ]
  },
  {
   "cell_type": "code",
   "execution_count": 11,
   "id": "89a3ca0e",
   "metadata": {},
   "outputs": [
    {
     "data": {
      "text/latex": [
       "$\\displaystyle \\left[\\begin{matrix}x_{1} + x_{2} & y_{1} + y_{2}\\\\y_{1} + y_{2} & x_{1} + x_{2}\\end{matrix}\\right]$"
      ],
      "text/plain": [
       "Matrix([\n",
       "[x1 + x2, y1 + y2],\n",
       "[y1 + y2, x1 + x2]])"
      ]
     },
     "execution_count": 11,
     "metadata": {},
     "output_type": "execute_result"
    }
   ],
   "source": [
    "(A1+A2).T"
   ]
  },
  {
   "cell_type": "code",
   "execution_count": 12,
   "id": "fb47bfdc",
   "metadata": {},
   "outputs": [
    {
     "data": {
      "text/plain": [
       "True"
      ]
     },
     "execution_count": 12,
     "metadata": {},
     "output_type": "execute_result"
    }
   ],
   "source": [
    "((A1+A2).T).equals(A1+A2) "
   ]
  },
  {
   "cell_type": "code",
   "execution_count": 13,
   "id": "a7646424",
   "metadata": {},
   "outputs": [
    {
     "name": "stdout",
     "output_type": "stream",
     "text": [
      "Matrix([[c*x, c*y], [c*y, c*x]])\n"
     ]
    }
   ],
   "source": [
    "c = sp.symbols('c')\n",
    "print (c*A) "
   ]
  },
  {
   "cell_type": "code",
   "execution_count": 14,
   "id": "9df87476",
   "metadata": {},
   "outputs": [
    {
     "data": {
      "text/plain": [
       "True"
      ]
     },
     "execution_count": 14,
     "metadata": {},
     "output_type": "execute_result"
    }
   ],
   "source": [
    "((c*A).T).equals(c*A)"
   ]
  },
  {
   "cell_type": "code",
   "execution_count": 15,
   "id": "c0c02bca",
   "metadata": {},
   "outputs": [
    {
     "name": "stdout",
     "output_type": "stream",
     "text": [
      "Vector v1 = [1 2 3]\n",
      "Vector v2 = [0 1 2]\n",
      "Vector v3 = [-1  0  1]\n",
      "\n",
      "=== Câu a: Kiểm tra w = (1,1,1) ===\n",
      "Vector w = [1 1 1]\n",
      "Ma trận A =\n",
      "[[ 1  0 -1]\n",
      " [ 2  1  0]\n",
      " [ 3  2  1]]\n",
      "Các hệ số [c1, c2, c3] = [ 5.00000000e-01  5.55111512e-17 -5.00000000e-01]\n",
      "Kiểm tra: c1*v1 + c2*v2 + c3*v3 = [1. 1. 1.]\n",
      "So sánh với w = [1 1 1]\n",
      "Kết quả khớp: True\n",
      "Kết luận: w = (1,1,1) LÀ tổ hợp tuyến tính của 3 vector trên\n",
      "w = 0.500*v1 + 0.000*v2 + -0.500*v3\n",
      "\n",
      "==================================================\n",
      "=== Câu b: Kiểm tra w = (1,-2,2) ===\n",
      "Vector w = [ 1 -2  2]\n",
      "Các hệ số [c1, c2, c3] = [ 2.36438980e+16 -4.72877961e+16  2.36438980e+16]\n",
      "Kiểm tra: c1*v1 + c2*v2 + c3*v3 = [0. 0. 0.]\n",
      "So sánh với w = [ 1 -2  2]\n",
      "Kết quả khớp: False\n",
      "Kết luận: w = (1,-2,2) KHÔNG LÀ tổ hợp tuyến tính của 3 vector trên\n",
      "\n",
      "==================================================\n",
      "=== Phương pháp bổ sung: Kiểm tra bằng ma trận mở rộng ===\n",
      "Kiểm tra cho w = (1,1,1):\n",
      "Ma trận mở rộng [A|w] với w = [1 1 1]:\n",
      "[[ 1  0 -1  1]\n",
      " [ 2  1  0  1]\n",
      " [ 3  2  1  1]]\n",
      "Hạng của ma trận A: 2\n",
      "Hạng của ma trận mở rộng [A|w]: 2\n",
      "Kết luận: w LÀ tổ hợp tuyến tính của v1, v2, v3\n",
      "\n",
      "Kiểm tra cho w = (1,-2,2):\n",
      "Ma trận mở rộng [A|w] với w = [ 1 -2  2]:\n",
      "[[ 1  0 -1  1]\n",
      " [ 2  1  0 -2]\n",
      " [ 3  2  1  2]]\n",
      "Hạng của ma trận A: 2\n",
      "Hạng của ma trận mở rộng [A|w]: 3\n",
      "Kết luận: w KHÔNG LÀ tổ hợp tuyến tính của v1, v2, v3\n"
     ]
    },
    {
     "data": {
      "text/plain": [
       "False"
      ]
     },
     "execution_count": 15,
     "metadata": {},
     "output_type": "execute_result"
    }
   ],
   "source": [
    "import numpy as np\n",
    "from numpy import linalg\n",
    "\n",
    "# Định nghĩa 3 vector đã cho\n",
    "v1 = np.array([1, 2, 3])\n",
    "v2 = np.array([0, 1, 2])\n",
    "v3 = np.array([-1, 0, 1])\n",
    "\n",
    "print(\"Vector v1 =\", v1)\n",
    "print(\"Vector v2 =\", v2)\n",
    "print(\"Vector v3 =\", v3)\n",
    "print()\n",
    "\n",
    "# Câu a: Chứng minh w = (1,1,1) là tổ hợp tuyến tính của 3 vector trên\n",
    "print(\"=== Câu a: Kiểm tra w = (1,1,1) ===\")\n",
    "w_a = np.array([1, 1, 1])\n",
    "print(\"Vector w =\", w_a)\n",
    "\n",
    "# Tạo ma trận A từ 3 vector (mỗi vector là một cột)\n",
    "A = np.column_stack((v1, v2, v3))\n",
    "print(\"Ma trận A =\")\n",
    "print(A)\n",
    "\n",
    "# Giải hệ phương trình A * x = w để tìm các hệ số c1, c2, c3\n",
    "try:\n",
    "    x_a = np.linalg.solve(A, w_a)\n",
    "    print(\"Các hệ số [c1, c2, c3] =\", x_a)\n",
    "    \n",
    "    # Kiểm tra lại kết quả\n",
    "    kiem_tra_a = x_a[0]*v1 + x_a[1]*v2 + x_a[2]*v3\n",
    "    print(\"Kiểm tra: c1*v1 + c2*v2 + c3*v3 =\", kiem_tra_a)\n",
    "    print(\"So sánh với w =\", w_a)\n",
    "    print(\"Kết quả khớp:\", np.allclose(kiem_tra_a, w_a))\n",
    "    print(\"Kết luận: w = (1,1,1) LÀ tổ hợp tuyến tính của 3 vector trên\")\n",
    "    print(f\"w = {x_a[0]:.3f}*v1 + {x_a[1]:.3f}*v2 + {x_a[2]:.3f}*v3\")\n",
    "    \n",
    "except np.linalg.LinAlgError:\n",
    "    print(\"Hệ phương trình không có nghiệm duy nhất\")\n",
    "    print(\"Kết luận: w = (1,1,1) KHÔNG LÀ tổ hợp tuyến tính của 3 vector trên\")\n",
    "\n",
    "print(\"\\n\" + \"=\"*50)\n",
    "\n",
    "# Câu b: Chứng minh w = (1,-2,2) không là tổ hợp tuyến tính của 3 vector trên\n",
    "print(\"=== Câu b: Kiểm tra w = (1,-2,2) ===\")\n",
    "w_b = np.array([1, -2, 2])\n",
    "print(\"Vector w =\", w_b)\n",
    "\n",
    "# Giải hệ phương trình A * x = w\n",
    "try:\n",
    "    x_b = np.linalg.solve(A, w_b)\n",
    "    print(\"Các hệ số [c1, c2, c3] =\", x_b)\n",
    "    \n",
    "    # Kiểm tra lại kết quả\n",
    "    kiem_tra_b = x_b[0]*v1 + x_b[1]*v2 + x_b[2]*v3\n",
    "    print(\"Kiểm tra: c1*v1 + c2*v2 + c3*v3 =\", kiem_tra_b)\n",
    "    print(\"So sánh với w =\", w_b)\n",
    "    print(\"Kết quả khớp:\", np.allclose(kiem_tra_b, w_b))\n",
    "    \n",
    "    if np.allclose(kiem_tra_b, w_b):\n",
    "        print(\"Kết luận: w = (1,-2,2) LÀ tổ hợp tuyến tính của 3 vector trên\")\n",
    "        print(f\"w = {x_b[0]:.3f}*v1 + {x_b[1]:.3f}*v2 + {x_b[2]:.3f}*v3\")\n",
    "    else:\n",
    "        print(\"Kết luận: w = (1,-2,2) KHÔNG LÀ tổ hợp tuyến tính của 3 vector trên\")\n",
    "        \n",
    "except np.linalg.LinAlgError:\n",
    "    print(\"Hệ phương trình không có nghiệm duy nhất\")\n",
    "    print(\"Kết luận: w = (1,-2,2) KHÔNG LÀ tổ hợp tuyến tính của 3 vector trên\")\n",
    "\n",
    "print(\"\\n\" + \"=\"*50)\n",
    "\n",
    "# Phương pháp bổ sung: Sử dụng ma trận mở rộng để kiểm tra tính tương thích\n",
    "print(\"=== Phương pháp bổ sung: Kiểm tra bằng ma trận mở rộng ===\")\n",
    "\n",
    "def kiem_tra_to_hop_tuyen_tinh(v1, v2, v3, w):\n",
    "    \"\"\"Kiểm tra xem w có phải là tổ hợp tuyến tính của v1, v2, v3 không\"\"\"\n",
    "    # Tạo ma trận mở rộng [A|w]\n",
    "    A = np.column_stack((v1, v2, v3))\n",
    "    A_extended = np.column_stack((A, w))\n",
    "    \n",
    "    print(f\"Ma trận mở rộng [A|w] với w = {w}:\")\n",
    "    print(A_extended)\n",
    "    \n",
    "    # Tính hạng của ma trận A và ma trận mở rộng\n",
    "    rank_A = np.linalg.matrix_rank(A)\n",
    "    rank_A_extended = np.linalg.matrix_rank(A_extended)\n",
    "    \n",
    "    print(f\"Hạng của ma trận A: {rank_A}\")\n",
    "    print(f\"Hạng của ma trận mở rộng [A|w]: {rank_A_extended}\")\n",
    "    \n",
    "    if rank_A == rank_A_extended:\n",
    "        print(\"Kết luận: w LÀ tổ hợp tuyến tính của v1, v2, v3\")\n",
    "        return True\n",
    "    else:\n",
    "        print(\"Kết luận: w KHÔNG LÀ tổ hợp tuyến tính của v1, v2, v3\")\n",
    "        return False\n",
    "\n",
    "print(\"Kiểm tra cho w = (1,1,1):\")\n",
    "kiem_tra_to_hop_tuyen_tinh(v1, v2, v3, w_a)\n",
    "print()\n",
    "\n",
    "print(\"Kiểm tra cho w = (1,-2,2):\")\n",
    "kiem_tra_to_hop_tuyen_tinh(v1, v2, v3, w_b)"
   ]
  },
  {
   "cell_type": "code",
   "execution_count": 16,
   "id": "1ecfa1a8",
   "metadata": {},
   "outputs": [
    {
     "data": {
      "text/plain": [
       "{c1: 0, c2: 0, c3: 0}"
      ]
     },
     "execution_count": 16,
     "metadata": {},
     "output_type": "execute_result"
    }
   ],
   "source": [
    "import sympy as sp\n",
    "c1, c2, c3 = sp.symbols('c1 c2 c3')\n",
    "sp.solve([c1-2*c3, 2*c1+c2, 3*c1+2*c2+c3], [c1, c2, c3])"
   ]
  },
  {
   "cell_type": "code",
   "execution_count": null,
   "id": "984ef96e",
   "metadata": {},
   "outputs": [
    {
     "data": {
      "text/plain": [
       "{c1: u1/2 + u2/2, c2: u1/2 - u2/2}"
      ]
     },
     "execution_count": 17,
     "metadata": {},
     "output_type": "execute_result"
    }
   ],
   "source": [
    "import sympy as sp \n",
    "c1, c2 = sp.symbols('c1 c2') \n",
    "u1, u2 = sp.symbols('u1 u2') \n",
    "sp.solve([c1+c2-u1,c1-c2-u2]) "
   ]
  },
  {
   "cell_type": "code",
   "execution_count": 18,
   "id": "187bbeda",
   "metadata": {},
   "outputs": [
    {
     "data": {
      "text/plain": [
       "{c1: 0, c2: 0}"
      ]
     },
     "execution_count": 18,
     "metadata": {},
     "output_type": "execute_result"
    }
   ],
   "source": [
    "u1 = 0 \n",
    "u2 = 0 \n",
    "sp.solve([c1+c2-u1,c1-c2-u2])"
   ]
  },
  {
   "cell_type": "code",
   "execution_count": 19,
   "id": "c316ac33",
   "metadata": {},
   "outputs": [
    {
     "name": "stdout",
     "output_type": "stream",
     "text": [
      "[[4 4 7 7 5 5 6 6 5 5]\n",
      " [2 7 7 6 6 5 5 4 4 2]]\n"
     ]
    }
   ],
   "source": [
    "import numpy as np \n",
    "P = np.array([[0,0,3,3,1,1,2,2,1,1],[0,5,5,4,4,3,3,2,2,0]]) \n",
    "vecdelta = np.array([4,2])\n",
    "P_caua = (P.T + vecdelta).T\n",
    "print (P_caua) "
   ]
  },
  {
   "cell_type": "code",
   "execution_count": 20,
   "id": "d4f7c244",
   "metadata": {},
   "outputs": [
    {
     "name": "stdout",
     "output_type": "stream",
     "text": [
      "[[ 4.  4.  7.  7.  5.  5.  6.  6.  5.  5.]\n",
      " [-2.  8.  8.  6.  6.  4.  4.  2.  2. -2.]]\n"
     ]
    }
   ],
   "source": [
    "import numpy as np \n",
    "P = np.array([[0,0,3,3,1,1,2,2,1,1],[0,5,5,4,4,3,3,2,2,0]]) \n",
    "vecdelta = np.array([4,-2]) \n",
    "matran_biendoi = np.array([[1.0, 0.0],[0.0, 2.0]]) \n",
    "P_caub = (P.T @ matran_biendoi + vecdelta).T \n",
    "print (P_caub)"
   ]
  },
  {
   "cell_type": "code",
   "execution_count": 22,
   "id": "c4f08cd8",
   "metadata": {},
   "outputs": [
    {
     "name": "stdout",
     "output_type": "stream",
     "text": [
      "[[ 4.  4.  1.  1.  3.  3.  2.  2.  3.  3.]\n",
      " [-2.  3.  3.  2.  2.  1.  1.  0.  0. -2.]]\n"
     ]
    }
   ],
   "source": [
    "import numpy as np\n",
    "\n",
    "# Dữ liệu ban đầu\n",
    "P = np.array([[0, 0, 3, 3, 1, 1, 2, 2, 1, 1],   # tọa độ x\n",
    "              [0, 5, 5, 4, 4, 3, 3, 2, 2, 0]])  # tọa độ y\n",
    "\n",
    "# Véc-tơ tịnh tiến: đổi tọa độ (0,0) sang (4,-2)\n",
    "vecdelta = np.array([4, -2])\n",
    "\n",
    "# Ma trận biến đổi: đối xứng qua trục y\n",
    "matran_biendoi = np.array([[-1.0, 0.0],\n",
    "                           [ 0.0, 1.0]])\n",
    "\n",
    "# Thực hiện biến đổi\n",
    "P_cauc = (P.T @ matran_biendoi + vecdelta).T\n",
    "\n",
    "# In kết quả\n",
    "print(P_cauc)\n"
   ]
  },
  {
   "cell_type": "code",
   "execution_count": 23,
   "id": "54034a06",
   "metadata": {},
   "outputs": [
    {
     "name": "stdout",
     "output_type": "stream",
     "text": [
      "[[-1. -1.  2.  2.  0.  0.  1.  1.  0.  0.]\n",
      " [ 2.  7. 10.  9.  7.  6.  7.  6.  5.  3.]]\n"
     ]
    }
   ],
   "source": [
    "import numpy as np\n",
    "\n",
    "# Dữ liệu ban đầu\n",
    "P = np.array([[0, 0, 3, 3, 1, 1, 2, 2, 1, 1],   # tọa độ x\n",
    "              [0, 5, 5, 4, 4, 3, 3, 2, 2, 0]])  # tọa độ y\n",
    "\n",
    "# Véc-tơ tịnh tiến\n",
    "vecdelta = np.array([-1, 2])\n",
    "\n",
    "# Ma trận biến đổi shear (p = 0, q = 1)\n",
    "matran_biendoi = np.array([[1.0, 0.0],\n",
    "                           [1.0, 1.0]])\n",
    "\n",
    "# Thực hiện biến đổi\n",
    "P_caud = (matran_biendoi @ P + vecdelta.reshape(2, 1))\n",
    "\n",
    "# In kết quả\n",
    "print(P_caud)\n"
   ]
  },
  {
   "cell_type": "code",
   "execution_count": 25,
   "id": "366a8992",
   "metadata": {},
   "outputs": [
    {
     "data": {
      "text/latex": [
       "$\\displaystyle a - b + c$"
      ],
      "text/plain": [
       "a - b + c"
      ]
     },
     "execution_count": 25,
     "metadata": {},
     "output_type": "execute_result"
    }
   ],
   "source": [
    "import sympy as sp\n",
    "from sympy import lambdify\n",
    "\n",
    "x1, x2, x3 = sp.symbols('x1 x2 x3')\n",
    "bieuthuc1 = x1 - x2 + x3\n",
    "f1 = lambdify([x1, x2, x3], bieuthuc1, 'numpy')\n",
    "\n",
    "a, b, c = sp.symbols('a b c') # khai báo thêm 3 biến a, b, c giả định X = (a, b, c)\n",
    "d, e, f = sp.symbols('d e f') # khai báo thêm 3 biến d, e, f giả định Y = (e, d, f)\n",
    "f1(a, b, c)"
   ]
  },
  {
   "cell_type": "code",
   "execution_count": 26,
   "id": "c64ec63e",
   "metadata": {},
   "outputs": [
    {
     "data": {
      "text/latex": [
       "$\\displaystyle d - e + f$"
      ],
      "text/plain": [
       "d - e + f"
      ]
     },
     "execution_count": 26,
     "metadata": {},
     "output_type": "execute_result"
    }
   ],
   "source": [
    "f1(d, e, f)"
   ]
  },
  {
   "cell_type": "code",
   "execution_count": 27,
   "id": "36d38714",
   "metadata": {},
   "outputs": [
    {
     "data": {
      "text/latex": [
       "$\\displaystyle a - b + c + d - e + f$"
      ],
      "text/plain": [
       "a - b + c + d - e + f"
      ]
     },
     "execution_count": 27,
     "metadata": {},
     "output_type": "execute_result"
    }
   ],
   "source": [
    "f1(a+d, b+e, c+f) "
   ]
  },
  {
   "cell_type": "code",
   "execution_count": 28,
   "id": "a0227966",
   "metadata": {},
   "outputs": [
    {
     "data": {
      "text/plain": [
       "True"
      ]
     },
     "execution_count": 28,
     "metadata": {},
     "output_type": "execute_result"
    }
   ],
   "source": [
    "f1(a,b,c) + f1(d,e,f) == f1(a+d, b+e, c+f) "
   ]
  },
  {
   "cell_type": "code",
   "execution_count": 29,
   "id": "41533274",
   "metadata": {},
   "outputs": [
    {
     "data": {
      "text/plain": [
       "True"
      ]
     },
     "execution_count": 29,
     "metadata": {},
     "output_type": "execute_result"
    }
   ],
   "source": [
    "(f1(a,b,c) + f1(d,e,f)).equals( f1(a+d, b+e, c+f))"
   ]
  },
  {
   "cell_type": "code",
   "execution_count": 30,
   "id": "85fd95c7",
   "metadata": {},
   "outputs": [
    {
     "data": {
      "text/plain": [
       "True"
      ]
     },
     "execution_count": 30,
     "metadata": {},
     "output_type": "execute_result"
    }
   ],
   "source": [
    "q = sp.symbols('q') \n",
    "(q*f1(a,b,c) + f1(d,e,f)).equals(f1(q*a+d, q*b+e, q*c+f).expand())"
   ]
  },
  {
   "cell_type": "code",
   "execution_count": 32,
   "id": "d02dedd5",
   "metadata": {},
   "outputs": [
    {
     "data": {
      "text/plain": [
       "True"
      ]
     },
     "execution_count": 32,
     "metadata": {},
     "output_type": "execute_result"
    }
   ],
   "source": [
    "bieuthuc2 = 2*x2 + 3* x3 \n",
    "f2 = lambdify([x1, x2, x3], bieuthuc2, 'numpy') \n",
    "(q*f2(a,b,c) + f2(d,e,f)).equals(f2(q*a+d, q*b+e, q*c+f).expand()) "
   ]
  },
  {
   "cell_type": "code",
   "execution_count": 33,
   "id": "ac6e8bc8",
   "metadata": {},
   "outputs": [
    {
     "data": {
      "text/plain": [
       "{a: -5*x + 3*y, b: 2*x - y}"
      ]
     },
     "execution_count": 33,
     "metadata": {},
     "output_type": "execute_result"
    }
   ],
   "source": [
    "import sympy as sp\n",
    "\n",
    "a, b = sp.symbols('a b')\n",
    "x, y = sp.symbols('x y')\n",
    "\n",
    "sp.solve([a+3*b-x, 2*a+5*b-y], [a,b])"
   ]
  },
  {
   "cell_type": "code",
   "execution_count": 34,
   "id": "e0ed8ddd",
   "metadata": {},
   "outputs": [
    {
     "name": "stdout",
     "output_type": "stream",
     "text": [
      "[a + 4*b a + 2*b 2*a + b]\n"
     ]
    }
   ],
   "source": [
    "fu1 = np.array([1,1,2])\n",
    "fu2 = np.array([4,2,1])\n",
    "fu = a*fu1 + b*fu2\n",
    "print (fu)"
   ]
  },
  {
   "cell_type": "code",
   "execution_count": 35,
   "id": "a9c62ab7",
   "metadata": {},
   "outputs": [
    {
     "name": "stdout",
     "output_type": "stream",
     "text": [
      "[3*x - y -x + y -8*x + 5*y]\n"
     ]
    }
   ],
   "source": [
    "fu = a.subs(a, -5*x + 3*y)*fu1 + b.subs(b, 2*x - y)*fu2\n",
    "print (fu) "
   ]
  },
  {
   "cell_type": "code",
   "execution_count": 36,
   "id": "c66d3cc0",
   "metadata": {},
   "outputs": [
    {
     "data": {
      "text/plain": [
       "{x1: 2*x3, x2: -x3}"
      ]
     },
     "execution_count": 36,
     "metadata": {},
     "output_type": "execute_result"
    }
   ],
   "source": [
    "x1, x2, x3 = sp.symbols('x1 x2 x3') \n",
    "sp.solve([x1+x2-x3, 2*x1+3*x2-x3, 3*x1+5*x2-x3],[x1, x2, x3]) "
   ]
  },
  {
   "cell_type": "code",
   "execution_count": 37,
   "id": "650f16ce",
   "metadata": {},
   "outputs": [
    {
     "data": {
      "text/plain": [
       "array([[-0.70710678,  0.70710678],\n",
       "       [ 0.70710678,  0.70710678]])"
      ]
     },
     "execution_count": 37,
     "metadata": {},
     "output_type": "execute_result"
    }
   ],
   "source": [
    "import numpy as np\n",
    "import math\n",
    "from scipy import linalg as LA\n",
    "\n",
    "B = np.matrix([[1.0/math.sqrt(2), 1.0/math.sqrt(2)],\n",
    "               [-1.0/math.sqrt(2), 1.0/math.sqrt(2)]]) # cos(pi/4)\n",
    "\n",
    "LA.orth(B)"
   ]
  },
  {
   "cell_type": "code",
   "execution_count": 38,
   "id": "ff6f2f5c",
   "metadata": {},
   "outputs": [
    {
     "data": {
      "text/plain": [
       "0.7071067811865475"
      ]
     },
     "execution_count": 38,
     "metadata": {},
     "output_type": "execute_result"
    }
   ],
   "source": [
    "1.0/math.sqrt(2) "
   ]
  },
  {
   "cell_type": "code",
   "execution_count": null,
   "id": "73587a5a",
   "metadata": {},
   "outputs": [
    {
     "name": "stdout",
     "output_type": "stream",
     "text": [
      "Ánh xạ g KHÔNG phải là ánh xạ tuyến tính.\n"
     ]
    }
   ],
   "source": [
    "#Bai Tap Chuong\n",
    "#cau1\n",
    "import sympy as sp\n",
    "from sympy import lambdify\n",
    "\n",
    "# Khai báo biến\n",
    "x1, x2, x3 = sp.symbols('x1 x2 x3')  # Biến x\n",
    "y1, y2, y3 = sp.symbols('y1 y2 y3')  # Biến y\n",
    "a = sp.Symbol('a')  # Hệ số vô hướng\n",
    "\n",
    "# Biểu thức cho ánh xạ g(x, y, z) = (x + y, z + 2, 0)\n",
    "g1_expr = x1 + x2\n",
    "g2_expr = x3 + 2\n",
    "g3_expr = 0\n",
    "\n",
    "# Hàm ánh xạ\n",
    "g1 = lambdify([x1, x2, x3], g1_expr, 'sympy')\n",
    "g2 = lambdify([x1, x2, x3], g2_expr, 'sympy')\n",
    "g3 = lambdify([x1, x2, x3], g3_expr, 'sympy')\n",
    "\n",
    "# Định nghĩa 2 vector x và y\n",
    "x_vec = [x1, x2, x3]\n",
    "y_vec = [y1, y2, y3]\n",
    "\n",
    "# Tính g(ax + y)\n",
    "ax_plus_y = [a * x_vec[i] + y_vec[i] for i in range(3)]\n",
    "g_ax_plus_y = [g1(*ax_plus_y), g2(*ax_plus_y), g3(*ax_plus_y)]\n",
    "\n",
    "# Tính a * g(x) + g(y)\n",
    "g_x = [g1(*x_vec), g2(*x_vec), g3(*x_vec)]\n",
    "g_y = [g1(*y_vec), g2(*y_vec), g3(*y_vec)]\n",
    "a_g_x_plus_g_y = [a * g_x[i] + g_y[i] for i in range(3)]\n",
    "\n",
    "# So sánh hai vế\n",
    "kiemtra = all(sp.simplify(g_ax_plus_y[i] - a_g_x_plus_g_y[i]) == 0 for i in range(3))\n",
    "\n",
    "# Xuất kết quả\n",
    "if kiemtra:\n",
    "    print(\"Ánh xạ g là ánh xạ tuyến tính.\")\n",
    "else:\n",
    "    print(\"Ánh xạ g KHÔNG phải là ánh xạ tuyến tính.\")\n"
   ]
  },
  {
   "cell_type": "code",
   "execution_count": 40,
   "id": "fdc3df57",
   "metadata": {},
   "outputs": [
    {
     "data": {
      "image/png": "[encoded data removed]",
      "text/plain": [
       "<Figure size 800x400 with 2 Axes>"
      ]
     },
     "metadata": {},
     "output_type": "display_data"
    }
   ],
   "source": [
    "import numpy as np\n",
    "import matplotlib.pyplot as plt\n",
    "\n",
    "# Tập điểm F ban đầu (ví dụ hình chữ F như trong tài liệu)\n",
    "F = np.array([\n",
    "    [0, 0], [0, 5], [3, 5], [3, 4], [1, 4],\n",
    "    [1, 3], [2, 3], [2, 2], [1, 2], [1, 0]\n",
    "]).T  # Chuyển thành ma trận 2xN\n",
    "\n",
    "# Ma trận biến đổi: x -> y, y -> x - y\n",
    "A = np.array([\n",
    "    [0, 1],\n",
    "    [1, -1]\n",
    "])\n",
    "\n",
    "# Thực hiện biến đổi tuyến tính\n",
    "F_transformed = A @ F\n",
    "\n",
    "# Vẽ hình gốc và hình sau biến đổi\n",
    "plt.figure(figsize=(8, 4))\n",
    "\n",
    "# Hình gốc\n",
    "plt.subplot(1, 2, 1)\n",
    "plt.plot(F[0], F[1], 'bo-')\n",
    "plt.title(\"Hình gốc\")\n",
    "plt.axis('equal')\n",
    "\n",
    "# Hình sau biến đổi\n",
    "plt.subplot(1, 2, 2)\n",
    "plt.plot(F_transformed[0], F_transformed[1], 'go-')\n",
    "plt.title(\"Sau biến đổi tuyến tính\")\n",
    "plt.axis('equal')\n",
    "\n",
    "plt.tight_layout()\n",
    "plt.show()\n"
   ]
  },
  {
   "cell_type": "code",
   "execution_count": 41,
   "id": "f4de2fdc",
   "metadata": {},
   "outputs": [
    {
     "name": "stdout",
     "output_type": "stream",
     "text": [
      "Ánh xạ T là ánh xạ tuyến tính.\n"
     ]
    }
   ],
   "source": [
    "import sympy as sp\n",
    "from sympy import lambdify\n",
    "\n",
    "# Khai báo biến\n",
    "v1, v2 = sp.symbols('v1 v2')\n",
    "a, b = sp.symbols('a b')  # hệ số vô hướng\n",
    "x1, x2 = sp.symbols('x1 x2')  # vector x\n",
    "y1, y2 = sp.symbols('y1 y2')  # vector y\n",
    "\n",
    "# Định nghĩa ánh xạ T(v1, v2) = (v1 - v2, v1 + 2*v2)\n",
    "T1_expr = v1 - v2\n",
    "T2_expr = v1 + 2*v2\n",
    "\n",
    "# Tạo hàm ánh xạ\n",
    "T1 = lambdify([v1, v2], T1_expr, 'sympy')\n",
    "T2 = lambdify([v1, v2], T2_expr, 'sympy')\n",
    "\n",
    "# Kiểm tra tính chất cộng: T(x + y) == T(x) + T(y)\n",
    "x = [x1, x2]\n",
    "y = [y1, y2]\n",
    "x_plus_y = [x1 + y1, x2 + y2]\n",
    "\n",
    "T_x_plus_y = [T1(*x_plus_y), T2(*x_plus_y)]\n",
    "T_x = [T1(*x), T2(*x)]\n",
    "T_y = [T1(*y), T2(*y)]\n",
    "check_additivity = all(sp.simplify(T_x_plus_y[i] - T_x[i] - T_y[i]) == 0 for i in range(2))\n",
    "\n",
    "# Kiểm tra tính chất nhân vô hướng: T(a * x) == a * T(x)\n",
    "a_x = [a * x1, a * x2]\n",
    "T_a_x = [T1(*a_x), T2(*a_x)]\n",
    "a_T_x = [a * T_x[i] for i in range(2)]\n",
    "check_homogeneity = all(sp.simplify(T_a_x[i] - a_T_x[i]) == 0 for i in range(2))\n",
    "\n",
    "# Kết luận\n",
    "if check_additivity and check_homogeneity:\n",
    "    print(\"Ánh xạ T là ánh xạ tuyến tính.\")\n",
    "else:\n",
    "    print(\"Ánh xạ T KHÔNG phải là ánh xạ tuyến tính.\")"
   ]
  }
 ],
 "metadata": {
  "kernelspec": {
   "display_name": "Python 3",
   "language": "python",
   "name": "python3"
  },
  "language_info": {
   "codemirror_mode": {
    "name": "ipython",
    "version": 3
   },
   "file_extension": ".py",
   "mimetype": "text/x-python",
   "name": "python",
   "nbconvert_exporter": "python",
   "pygments_lexer": "ipython3",
   "version": "3.11.0"
  }
 },
 "nbformat": 4,
 "nbformat_minor": 5
}
