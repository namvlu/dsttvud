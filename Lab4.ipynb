{
 "cells": [
  {
   "cell_type": "code",
   "execution_count": 64,
   "id": "20769a2e",
   "metadata": {},
   "outputs": [
    {
     "data": {
      "text/plain": [
       "-1"
      ]
     },
     "execution_count": 64,
     "metadata": {},
     "output_type": "execute_result"
    }
   ],
   "source": [
    "#Chương 4:\n",
    "#1. Định thức và các tính chất\n",
    "import numpy as np\n",
    "n = 4\n",
    "X = np.array(range(1,n+1))\n",
    "sigma = np.array([4,3,2,1])\n",
    "def sgn_by_def(sigma):\n",
    "    ket_qua = 1.0\n",
    "    for i in range(len(X)-1):\n",
    "        for j in range(i+1,len(X)):\n",
    "            ket_qua = ket_qua * ((X[i]-X[j])/(sigma[i]-sigma[j]))\n",
    "    return int(ket_qua)\n",
    "sigma = np.array([2,1,3,4])\n",
    "sgn_by_def(sigma)"
   ]
  },
  {
   "cell_type": "code",
   "execution_count": 65,
   "id": "80e64722",
   "metadata": {},
   "outputs": [
    {
     "data": {
      "text/plain": [
       "1"
      ]
     },
     "execution_count": 65,
     "metadata": {},
     "output_type": "execute_result"
    }
   ],
   "source": [
    "sigma = np.array([1,2,3,4])\n",
    "sgn_by_def(sigma)"
   ]
  },
  {
   "cell_type": "code",
   "execution_count": 66,
   "id": "228f8a69",
   "metadata": {},
   "outputs": [
    {
     "data": {
      "text/plain": [
       "1"
      ]
     },
     "execution_count": 66,
     "metadata": {},
     "output_type": "execute_result"
    }
   ],
   "source": [
    "sigma = np.array([4,3,2,1])\n",
    "sgn_by_def(sigma)"
   ]
  },
  {
   "cell_type": "code",
   "execution_count": 67,
   "id": "6bfb0053",
   "metadata": {},
   "outputs": [
    {
     "name": "stdout",
     "output_type": "stream",
     "text": [
      "[(1, 2, 3), (1, 3, 2), (2, 1, 3), (2, 3, 1), (3, 1, 2), (3, 2, 1)]\n"
     ]
    }
   ],
   "source": [
    "from itertools import permutations\n",
    "n = 3\n",
    "X = []\n",
    "for i in range (1, n+1):\n",
    "    X.append(i)\n",
    "Sn = list(permutations(X))\n",
    "print(Sn)"
   ]
  },
  {
   "cell_type": "code",
   "execution_count": 68,
   "id": "af7c465a",
   "metadata": {},
   "outputs": [],
   "source": [
    "det = 0"
   ]
  },
  {
   "cell_type": "code",
   "execution_count": 69,
   "id": "52f69dc7",
   "metadata": {},
   "outputs": [],
   "source": [
    "def phatsinh_dinhthuc(n):\n",
    "    X = []\n",
    "    for i in range(1, n+1):\n",
    "        X.append(i)\n",
    "    Sn = list(permutations(X))\n",
    "    dinhthuc = \"\"\n",
    "    for sn in Sn:\n",
    "        sigma = np.array([1])\n",
    "        sigma.resize([n])\n",
    "        product = \"\"\n",
    "        for i in range(1, n+1):\n",
    "            sigma[sn.index(i)] = i\n",
    "            product = product + \"a\" + str(i) + str(sn.index(i)+1)\n",
    "        dau = sgn_by_def(sigma)\n",
    "        if (dau != 1):\n",
    "            product = \"-\" + product\n",
    "        else:\n",
    "            product = \"+\" + product\n",
    "        dinhthuc = dinhthuc + product\n",
    "    return dinhthuc"
   ]
  },
  {
   "cell_type": "code",
   "execution_count": 70,
   "id": "3f368e9b",
   "metadata": {},
   "outputs": [
    {
     "ename": "IndexError",
     "evalue": "index 2 is out of bounds for axis 0 with size 2",
     "output_type": "error",
     "traceback": [
      "\u001b[1;31m---------------------------------------------------------------------------\u001b[0m",
      "\u001b[1;31mIndexError\u001b[0m                                Traceback (most recent call last)",
      "\u001b[1;32m~\\AppData\\Local\\Temp\\ipykernel_11656\\3835104644.py\u001b[0m in \u001b[0;36m<module>\u001b[1;34m\u001b[0m\n\u001b[1;32m----> 1\u001b[1;33m \u001b[0mphatsinh_dinhthuc\u001b[0m\u001b[1;33m(\u001b[0m\u001b[1;36m2\u001b[0m\u001b[1;33m)\u001b[0m\u001b[1;33m\u001b[0m\u001b[1;33m\u001b[0m\u001b[0m\n\u001b[0m",
      "\u001b[1;32m~\\AppData\\Local\\Temp\\ipykernel_11656\\3934568366.py\u001b[0m in \u001b[0;36mphatsinh_dinhthuc\u001b[1;34m(n)\u001b[0m\n\u001b[0;32m     12\u001b[0m             \u001b[0msigma\u001b[0m\u001b[1;33m[\u001b[0m\u001b[0msn\u001b[0m\u001b[1;33m.\u001b[0m\u001b[0mindex\u001b[0m\u001b[1;33m(\u001b[0m\u001b[0mi\u001b[0m\u001b[1;33m)\u001b[0m\u001b[1;33m]\u001b[0m \u001b[1;33m=\u001b[0m \u001b[0mi\u001b[0m\u001b[1;33m\u001b[0m\u001b[1;33m\u001b[0m\u001b[0m\n\u001b[0;32m     13\u001b[0m             \u001b[0mproduct\u001b[0m \u001b[1;33m=\u001b[0m \u001b[0mproduct\u001b[0m \u001b[1;33m+\u001b[0m \u001b[1;34m\"a\"\u001b[0m \u001b[1;33m+\u001b[0m \u001b[0mstr\u001b[0m\u001b[1;33m(\u001b[0m\u001b[0mi\u001b[0m\u001b[1;33m)\u001b[0m \u001b[1;33m+\u001b[0m \u001b[0mstr\u001b[0m\u001b[1;33m(\u001b[0m\u001b[0msn\u001b[0m\u001b[1;33m.\u001b[0m\u001b[0mindex\u001b[0m\u001b[1;33m(\u001b[0m\u001b[0mi\u001b[0m\u001b[1;33m)\u001b[0m\u001b[1;33m+\u001b[0m\u001b[1;36m1\u001b[0m\u001b[1;33m)\u001b[0m\u001b[1;33m\u001b[0m\u001b[1;33m\u001b[0m\u001b[0m\n\u001b[1;32m---> 14\u001b[1;33m         \u001b[0mdau\u001b[0m \u001b[1;33m=\u001b[0m \u001b[0msgn_by_def\u001b[0m\u001b[1;33m(\u001b[0m\u001b[0msigma\u001b[0m\u001b[1;33m)\u001b[0m\u001b[1;33m\u001b[0m\u001b[1;33m\u001b[0m\u001b[0m\n\u001b[0m\u001b[0;32m     15\u001b[0m         \u001b[1;32mif\u001b[0m \u001b[1;33m(\u001b[0m\u001b[0mdau\u001b[0m \u001b[1;33m!=\u001b[0m \u001b[1;36m1\u001b[0m\u001b[1;33m)\u001b[0m\u001b[1;33m:\u001b[0m\u001b[1;33m\u001b[0m\u001b[1;33m\u001b[0m\u001b[0m\n\u001b[0;32m     16\u001b[0m             \u001b[0mproduct\u001b[0m \u001b[1;33m=\u001b[0m \u001b[1;34m\"-\"\u001b[0m \u001b[1;33m+\u001b[0m \u001b[0mproduct\u001b[0m\u001b[1;33m\u001b[0m\u001b[1;33m\u001b[0m\u001b[0m\n",
      "\u001b[1;32m~\\AppData\\Local\\Temp\\ipykernel_11656\\1418417512.py\u001b[0m in \u001b[0;36msgn_by_def\u001b[1;34m(sigma)\u001b[0m\n\u001b[0;32m      9\u001b[0m     \u001b[1;32mfor\u001b[0m \u001b[0mi\u001b[0m \u001b[1;32min\u001b[0m \u001b[0mrange\u001b[0m\u001b[1;33m(\u001b[0m\u001b[0mlen\u001b[0m\u001b[1;33m(\u001b[0m\u001b[0mX\u001b[0m\u001b[1;33m)\u001b[0m\u001b[1;33m-\u001b[0m\u001b[1;36m1\u001b[0m\u001b[1;33m)\u001b[0m\u001b[1;33m:\u001b[0m\u001b[1;33m\u001b[0m\u001b[1;33m\u001b[0m\u001b[0m\n\u001b[0;32m     10\u001b[0m         \u001b[1;32mfor\u001b[0m \u001b[0mj\u001b[0m \u001b[1;32min\u001b[0m \u001b[0mrange\u001b[0m\u001b[1;33m(\u001b[0m\u001b[0mi\u001b[0m\u001b[1;33m+\u001b[0m\u001b[1;36m1\u001b[0m\u001b[1;33m,\u001b[0m\u001b[0mlen\u001b[0m\u001b[1;33m(\u001b[0m\u001b[0mX\u001b[0m\u001b[1;33m)\u001b[0m\u001b[1;33m)\u001b[0m\u001b[1;33m:\u001b[0m\u001b[1;33m\u001b[0m\u001b[1;33m\u001b[0m\u001b[0m\n\u001b[1;32m---> 11\u001b[1;33m             \u001b[0mket_qua\u001b[0m \u001b[1;33m=\u001b[0m \u001b[0mket_qua\u001b[0m \u001b[1;33m*\u001b[0m \u001b[1;33m(\u001b[0m\u001b[1;33m(\u001b[0m\u001b[0mX\u001b[0m\u001b[1;33m[\u001b[0m\u001b[0mi\u001b[0m\u001b[1;33m]\u001b[0m\u001b[1;33m-\u001b[0m\u001b[0mX\u001b[0m\u001b[1;33m[\u001b[0m\u001b[0mj\u001b[0m\u001b[1;33m]\u001b[0m\u001b[1;33m)\u001b[0m\u001b[1;33m/\u001b[0m\u001b[1;33m(\u001b[0m\u001b[0msigma\u001b[0m\u001b[1;33m[\u001b[0m\u001b[0mi\u001b[0m\u001b[1;33m]\u001b[0m\u001b[1;33m-\u001b[0m\u001b[0msigma\u001b[0m\u001b[1;33m[\u001b[0m\u001b[0mj\u001b[0m\u001b[1;33m]\u001b[0m\u001b[1;33m)\u001b[0m\u001b[1;33m)\u001b[0m\u001b[1;33m\u001b[0m\u001b[1;33m\u001b[0m\u001b[0m\n\u001b[0m\u001b[0;32m     12\u001b[0m     \u001b[1;32mreturn\u001b[0m \u001b[0mint\u001b[0m\u001b[1;33m(\u001b[0m\u001b[0mket_qua\u001b[0m\u001b[1;33m)\u001b[0m\u001b[1;33m\u001b[0m\u001b[1;33m\u001b[0m\u001b[0m\n\u001b[0;32m     13\u001b[0m \u001b[0msigma\u001b[0m \u001b[1;33m=\u001b[0m \u001b[0mnp\u001b[0m\u001b[1;33m.\u001b[0m\u001b[0marray\u001b[0m\u001b[1;33m(\u001b[0m\u001b[1;33m[\u001b[0m\u001b[1;36m2\u001b[0m\u001b[1;33m,\u001b[0m\u001b[1;36m1\u001b[0m\u001b[1;33m,\u001b[0m\u001b[1;36m3\u001b[0m\u001b[1;33m,\u001b[0m\u001b[1;36m4\u001b[0m\u001b[1;33m]\u001b[0m\u001b[1;33m)\u001b[0m\u001b[1;33m\u001b[0m\u001b[1;33m\u001b[0m\u001b[0m\n",
      "\u001b[1;31mIndexError\u001b[0m: index 2 is out of bounds for axis 0 with size 2"
     ]
    }
   ],
   "source": [
    "phatsinh_dinhthuc(2)"
   ]
  },
  {
   "cell_type": "code",
   "execution_count": 71,
   "id": "49501502",
   "metadata": {},
   "outputs": [
    {
     "data": {
      "text/plain": [
       "'+a11a22a33-a11a23a32-a12a21a33+a13a21a32+a12a23a31-a13a22a31'"
      ]
     },
     "execution_count": 71,
     "metadata": {},
     "output_type": "execute_result"
    }
   ],
   "source": [
    "phatsinh_dinhthuc(3)"
   ]
  },
  {
   "cell_type": "code",
   "execution_count": 72,
   "id": "116d9138",
   "metadata": {},
   "outputs": [
    {
     "data": {
      "text/plain": [
       "85"
      ]
     },
     "execution_count": 72,
     "metadata": {},
     "output_type": "execute_result"
    }
   ],
   "source": [
    "def tinhtoan_dinhthuc(A):\n",
    "    X = []\n",
    "    import math\n",
    "    n = int(math.sqrt(A.size))\n",
    "    for i in range(1, n+1):\n",
    "        X.append(i)\n",
    "    Sn = list(permutations(X))\n",
    "    dinhthuc = 0\n",
    "    for sn in Sn:\n",
    "        sigma = np.array([1])\n",
    "        sigma.resize([n])\n",
    "        product = 1\n",
    "        for i in range(1,n+1):\n",
    "            sigma[sn.index(i)] = i\n",
    "            product = product * A[i-1][sn.index(i)]\n",
    "            #print (A[i-1][sn.index(i)])\n",
    "        dau = sgn_by_def(sigma)\n",
    "        if (dau != 1):\n",
    "            product = product * (-1)\n",
    "        dinhthuc = dinhthuc + product\n",
    "    return dinhthuc\n",
    "A = np.array([ [3,5,-8], [4, 12, -1], [2,5,3] ])\n",
    "tinhtoan_dinhthuc(A)"
   ]
  },
  {
   "cell_type": "code",
   "execution_count": 73,
   "id": "067c5459",
   "metadata": {},
   "outputs": [
    {
     "name": "stdout",
     "output_type": "stream",
     "text": [
      "-14.0 -28.0 14.000000000000004\n"
     ]
    }
   ],
   "source": [
    "#2. Định thức và ma trận khả nghịch\n",
    "#3. Quy tắc Cramer\n",
    "A = np.array([[4, -2],[3, -5]])\n",
    "A1 = np.array([[10, -2],[11, -5]])\n",
    "A2 = np.array([[4, 10],[3, 11]])\n",
    "from scipy import linalg\n",
    "detA = linalg.det(A)\n",
    "detA1 = linalg.det(A1)\n",
    "detA2 = linalg.det(A2)\n",
    "print (detA, detA1, detA2)"
   ]
  },
  {
   "cell_type": "code",
   "execution_count": 74,
   "id": "acca4bbf",
   "metadata": {},
   "outputs": [
    {
     "name": "stdout",
     "output_type": "stream",
     "text": [
      "Hai nghiệm của phương trình là:  2.0 -1.0000000000000002\n"
     ]
    }
   ],
   "source": [
    "if (detA != 0):\n",
    "    x1 = detA1 / detA\n",
    "    x2 = detA2 / detA\n",
    "    print (\"Hai nghiệm của phương trình là: \", x1, x2)"
   ]
  },
  {
   "cell_type": "code",
   "execution_count": 75,
   "id": "537775b3",
   "metadata": {},
   "outputs": [
    {
     "name": "stdout",
     "output_type": "stream",
     "text": [
      "DetA  = -14\n",
      "DetA1 = -28\n",
      "DetA2 = 14\n"
     ]
    }
   ],
   "source": [
    "def sgn_by_def(sigma):\n",
    "    X = np.array(range(1, len(sigma)+1))\n",
    "    ket_qua = 1.0\n",
    "    for i in range(len(X)-1):\n",
    "        for j in range(i+1, len(X)):\n",
    "            if sigma[i] == sigma[j]:\n",
    "                continue\n",
    "            ket_qua = ket_qua * ((X[i]-X[j])/(sigma[i]-sigma[j]))\n",
    "    return int(ket_qua)\n",
    "def tinhtoan_dinhthuc(A):\n",
    "    X = []\n",
    "    import math\n",
    "    n = int(math.sqrt(A.size))\n",
    "    from itertools import permutations\n",
    "    Sn = list(permutations(range(1, n+1)))\n",
    "    dinhthuc = 0\n",
    "    for sn in Sn:\n",
    "        sigma = np.array([1])\n",
    "        sigma.resize([n])\n",
    "        product = 1\n",
    "        for i in range(1, n+1):\n",
    "            sigma[sn.index(i)] = i\n",
    "            product = product * A[i-1][sn.index(i)]\n",
    "            #print (A[i-1][sn.index(i)])\n",
    "        dau = sgn_by_def(sigma)\n",
    "        if dau != 1:\n",
    "            product = product * (-1)\n",
    "        dinhthuc = dinhthuc + product\n",
    "    return dinhthuc\n",
    "A = np.array([[4, -2],[3, -5]])\n",
    "A1 = np.array([[10, -2],[11, -5]])\n",
    "A2 = np.array([[4, 10],[3, 11]])\n",
    "det_A = tinhtoan_dinhthuc(A)\n",
    "det_A1 = tinhtoan_dinhthuc(A1)\n",
    "det_A2 = tinhtoan_dinhthuc(A2)\n",
    "print(\"DetA  =\", det_A)\n",
    "print(\"DetA1 =\", det_A1)\n",
    "print(\"DetA2 =\", det_A2)\n"
   ]
  },
  {
   "cell_type": "code",
   "execution_count": 100,
   "id": "08aeb606",
   "metadata": {},
   "outputs": [
    {
     "name": "stdout",
     "output_type": "stream",
     "text": [
      "Nghiệm của phương trình là:  1.6036554800141152e-16 ; -2.5  -2.0\n"
     ]
    }
   ],
   "source": [
    "#Hệ ba phương trình tuyến tính bậc 1:\n",
    "M = np.array([[-4, 2, -3,],[2, -2, 1,],[3, -4, 4,]])\n",
    "N = np.array([1, 3, 2])\n",
    "M1 = M.copy()\n",
    "M1[:, 0] = N\n",
    "M2 = M.copy()\n",
    "M2[:, 1] = N\n",
    "M3 = M.copy()\n",
    "M3[:, 2] = N\n",
    "detM = linalg.det(M)\n",
    "detM1 = linalg.det(M1)\n",
    "detM2 = linalg.det(M2)\n",
    "detM3 = linalg.det(M3)\n",
    "if (detM != 0):\n",
    "    x = detM1 / detM\n",
    "    y = detM2 / detM\n",
    "    z = detM3 / detM\n",
    "    print(\"Nghiệm của phương trình là: \",x,\";\",y,'',z)"
   ]
  },
  {
   "cell_type": "code",
   "execution_count": 106,
   "id": "f3183807",
   "metadata": {},
   "outputs": [
    {
     "name": "stdout",
     "output_type": "stream",
     "text": [
      "Nghiệm của phương trình là:  0.0 ; -2.5  -2.0\n"
     ]
    }
   ],
   "source": [
    "def sgn_by_def(sigma):\n",
    "    X = np.array(range(1, len(sigma)+1))\n",
    "    ket_qua = 1.0\n",
    "    for i in range(len(X)-1):\n",
    "        for j in range(i+1, len(X)):\n",
    "            if sigma[i] == sigma[j]:\n",
    "                continue\n",
    "            ket_qua = ket_qua * ((X[i]-X[j])/(sigma[i]-sigma[j]))\n",
    "    return int(ket_qua)\n",
    "def tinhtoan_dinhthuc(A):\n",
    "    X = []\n",
    "    import math\n",
    "    n = int(math.sqrt(A.size))\n",
    "    from itertools import permutations\n",
    "    Sn = list(permutations(range(1, n+1)))\n",
    "    dinhthuc = 0\n",
    "    for sn in Sn:\n",
    "        sigma = np.array([1])\n",
    "        sigma.resize([n])\n",
    "        product = 1\n",
    "        for i in range(1, n+1):\n",
    "            sigma[sn.index(i)] = i\n",
    "            product = product * A[i-1][sn.index(i)]\n",
    "            #print (A[i-1][sn.index(i)])\n",
    "        dau = sgn_by_def(sigma)\n",
    "        if dau != 1:\n",
    "            product = product * (-1)\n",
    "        dinhthuc = dinhthuc + product\n",
    "    return dinhthuc\n",
    "M = np.array([[-4, 2, -3,],[2, -2, 1,],[3, -4, 4,]])\n",
    "N = np.array([1, 3, 2])\n",
    "M1 = M.copy()\n",
    "M1[:, 0] = N\n",
    "M2 = M.copy()\n",
    "M2[:, 1] = N\n",
    "M3 = M.copy()\n",
    "M3[:, 2] = N\n",
    "detM = tinhtoan_dinhthuc(M)\n",
    "detM1 = tinhtoan_dinhthuc(M1)\n",
    "detM2 = tinhtoan_dinhthuc(M2)\n",
    "detM3 = tinhtoan_dinhthuc(M3)\n",
    "if (detM != 0):\n",
    "    x = detM1 / detM\n",
    "    y = detM2 / detM\n",
    "    z = detM3 / detM\n",
    "    print(\"Nghiệm của phương trình là: \",x,\";\",y,'',z)\n",
    "else:\n",
    "    print(\"Phương trình vô nghiệm.\")"
   ]
  },
  {
   "cell_type": "code",
   "execution_count": 109,
   "id": "62afe085",
   "metadata": {},
   "outputs": [
    {
     "name": "stdout",
     "output_type": "stream",
     "text": [
      "Hệ có vô số nghiệm\n"
     ]
    }
   ],
   "source": [
    "#Giải lại\n",
    "import numpy as np\n",
    "A = np.array([[-1, 2, -3],\n",
    "              [2, -2, 1],\n",
    "              [3, -4, 4]])\n",
    "\n",
    "b = np.array([1, 3, 2])\n",
    "\n",
    "rank_A = np.linalg.matrix_rank(A)\n",
    "augmented_matrix = np.column_stack((A, b))\n",
    "rank_augmented = np.linalg.matrix_rank(augmented_matrix)\n",
    "if rank_A == rank_augmented:\n",
    "    if rank_A == A.shape[1]:\n",
    "        solution = np.linalg.solve(A, b)\n",
    "        print(\"Hệ có nghiệm duy nhất:\")\n",
    "        print(f\"a = {solution[0]}\")\n",
    "        print(f\"e = {solution[1]}\")\n",
    "        print(f\"f = {solution[2]}\")\n",
    "    else:\n",
    "        print(\"Hệ có vô số nghiệm\")\n",
    "else:\n",
    "    print(\"Hệ vô nghiệm\")"
   ]
  },
  {
   "cell_type": "code",
   "execution_count": 107,
   "id": "10cf6811",
   "metadata": {},
   "outputs": [
    {
     "data": {
      "text/latex": [
       "$\\displaystyle 1.5$"
      ],
      "text/plain": [
       "1.50000000000000"
      ]
     },
     "execution_count": 107,
     "metadata": {},
     "output_type": "execute_result"
    }
   ],
   "source": [
    "#4. Bài toán ứng dụng 1: Tính diện tích đa giác, thể tích và các phương trình đường, mặt.\n",
    "import sympy as sp\n",
    "TG = sp.Matrix([[1, 0, 1],[4, 3, 1], [2, 2, 1]])\n",
    "1/2*TG.det() "
   ]
  },
  {
   "cell_type": "code",
   "execution_count": 104,
   "id": "705d2bea",
   "metadata": {},
   "outputs": [
    {
     "data": {
      "text/latex": [
       "$\\displaystyle -12.0$"
      ],
      "text/plain": [
       "-12.0000000000000"
      ]
     },
     "execution_count": 104,
     "metadata": {},
     "output_type": "execute_result"
    }
   ],
   "source": [
    "M = sp.Matrix([[0, 4, 1, 1], [4, 0, 0, 1], [3, 5, 2, 1], [2, 2, 5, 1]])\n",
    "1/6*M.det()"
   ]
  },
  {
   "cell_type": "code",
   "execution_count": 105,
   "id": "da23c295",
   "metadata": {},
   "outputs": [
    {
     "data": {
      "text/latex": [
       "$\\displaystyle - 4 x + 3 y - 5 z - 3$"
      ],
      "text/plain": [
       "-4*x + 3*y - 5*z - 3"
      ]
     },
     "execution_count": 105,
     "metadata": {},
     "output_type": "execute_result"
    }
   ],
   "source": [
    "from sympy import *\n",
    "x, y, z = symbols('x y z')\n",
    "MP = sp.Matrix([[x, y, z, 1],[-1, 3, 2, 1],[0, 1, 0, 1],[-2, 0, 1, 1]])\n",
    "MP.det()"
   ]
  },
  {
   "cell_type": "code",
   "execution_count": 119,
   "id": "1a8f67b6",
   "metadata": {},
   "outputs": [
    {
     "name": "stdout",
     "output_type": "stream",
     "text": [
      "Phương trình ellipse qua 5 điểm là:\n",
      "Eq(592*x**2 - 432*x*y - 2368*x + 128*y**2 + 864*y + 1216, 0)\n"
     ]
    }
   ],
   "source": [
    "#5. Bài toán ứng dụng 3: Tính quỹ đạo của hành tinh/vệ tinh\n",
    "from sympy import symbols, Matrix, Eq, simplify\n",
    "x, y = symbols('x y')\n",
    "points = [(1, 1), (2, 3), (4, 2), (3, -1), (0, -2)]\n",
    "row0 = [x**2, x*y, y**2, x, y, 1]\n",
    "rows = [row0]\n",
    "for xi, yi in points:\n",
    "    rows.append([xi**2, xi*yi, yi**2, xi, yi, 1])\n",
    "M = Matrix(rows)\n",
    "det = simplify(M.det())\n",
    "print(\"Phương trình ellipse qua 5 điểm là:\")\n",
    "print(Eq(det, 0))"
   ]
  },
  {
   "cell_type": "code",
   "execution_count": 113,
   "id": "acf8045f",
   "metadata": {
    "scrolled": true
   },
   "outputs": [
    {
     "name": "stdout",
     "output_type": "stream",
     "text": [
      "Ma trận A:\n",
      "Matrix([[2, 3, 1], [4, 1, -3], [1, 2, 1]])\n",
      "\n",
      "Ma trận hệ số kẹp:\n",
      "Matrix([[7, -7, 7], [-1, 1, -1], [-10, 10, -10]])\n",
      "\n",
      "Ma trận liên hợp:\n",
      "Matrix([[7, -1, -10], [-7, 1, 10], [7, -1, -10]])\n"
     ]
    }
   ],
   "source": [
    "#Bài tập chương 4\n",
    "#Câu 1:\n",
    "import numpy as np\n",
    "from sympy import Matrix\n",
    "A = np.array([[2, 3, 1],\n",
    "              [4, 1, -3],\n",
    "              [1, 2, 1]])\n",
    "A_sym = Matrix(A)\n",
    "kep = A_sym.cofactor_matrix()\n",
    "lh = cofactor_matrix.transpose()\n",
    "print(\"Ma trận A:\")\n",
    "print(A_sym)\n",
    "print(\"\\nMa trận hệ số kẹp:\")\n",
    "print(kep)\n",
    "print(\"\\nMa trận liên hợp:\")\n",
    "print(lh)"
   ]
  },
  {
   "cell_type": "code",
   "execution_count": 118,
   "id": "18fd6c20",
   "metadata": {},
   "outputs": [
    {
     "name": "stdout",
     "output_type": "stream",
     "text": [
      "Phương trình đường tròn qua 3 điểm là:\n",
      "Eq(-10*x**2 + 60*x - 10*y**2 + 40*y - 80, 0)\n"
     ]
    }
   ],
   "source": [
    "from sympy import symbols, Matrix, simplify, Eq\n",
    "x, y = symbols('x y')\n",
    "points = [(1, 1), (2, 4), (5, 3)]\n",
    "row1 = [x**2 + y**2, x, y, 1]\n",
    "row2 = [points[0][0]**2 + points[0][1]**2, points[0][0], points[0][1], 1]\n",
    "row3 = [points[1][0]**2 + points[1][1]**2, points[1][0], points[1][1], 1]\n",
    "row4 = [points[2][0]**2 + points[2][1]**2, points[2][0], points[2][1], 1]\n",
    "M = Matrix([row1, row2, row3, row4])\n",
    "det = simplify(M.det())\n",
    "print(\"Phương trình đường tròn qua 3 điểm là:\")\n",
    "print(Eq(det, 0))"
   ]
  },
  {
   "cell_type": "code",
   "execution_count": null,
   "id": "057870e6",
   "metadata": {},
   "outputs": [],
   "source": []
  }
 ],
 "metadata": {
  "kernelspec": {
   "display_name": "Python 3 (ipykernel)",
   "language": "python",
   "name": "python3"
  },
  "language_info": {
   "codemirror_mode": {
    "name": "ipython",
    "version": 3
   },
   "file_extension": ".py",
   "mimetype": "text/x-python",
   "name": "python",
   "nbconvert_exporter": "python",
   "pygments_lexer": "ipython3",
   "version": "3.9.13"
  }
 },
 "nbformat": 4,
 "nbformat_minor": 5
}
