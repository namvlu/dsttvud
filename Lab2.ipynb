{
 "cells": [
  {
   "cell_type": "code",
   "execution_count": 1,
   "id": "0f48b2a8",
   "metadata": {},
   "outputs": [
    {
     "data": {
      "text/plain": [
       "[30, 50, 70]"
      ]
     },
     "execution_count": 1,
     "metadata": {},
     "output_type": "execute_result"
    }
   ],
   "source": [
    "#Bai 1:\n",
    "def scale(a,v):\n",
    "    return [a * vi for vi in v]\n",
    "v = [3, 5, 7]\n",
    "scale(10, v)"
   ]
  },
  {
   "cell_type": "code",
   "execution_count": 2,
   "id": "2b0279df",
   "metadata": {},
   "outputs": [
    {
     "data": {
      "text/plain": [
       "[5, 9, 13]"
      ]
     },
     "execution_count": 2,
     "metadata": {},
     "output_type": "execute_result"
    }
   ],
   "source": [
    "def sumvector(v, w):\n",
    "    return [vi+wi for (vi, wi) in zip(v, w)]\n",
    "v = [3,5,7]\n",
    "w = [2,4,6]\n",
    "sumvector(v, w) "
   ]
  },
  {
   "cell_type": "code",
   "execution_count": 3,
   "id": "fc9d4ffe",
   "metadata": {},
   "outputs": [
    {
     "data": {
      "text/plain": [
       "68"
      ]
     },
     "execution_count": 3,
     "metadata": {},
     "output_type": "execute_result"
    }
   ],
   "source": [
    "def dotvector(v, w):\n",
    "    return sum([vi*wi for (vi, wi) in zip(v, w)])\n",
    "dotvector(v, w)"
   ]
  },
  {
   "cell_type": "code",
   "execution_count": 4,
   "id": "fc0a1d44",
   "metadata": {},
   "outputs": [
    {
     "data": {
      "text/plain": [
       "56"
      ]
     },
     "execution_count": 4,
     "metadata": {},
     "output_type": "execute_result"
    }
   ],
   "source": [
    "def lenvector(v):\n",
    "    return dotvector(v,v)\n",
    "lenvector(w)"
   ]
  },
  {
   "cell_type": "code",
   "execution_count": 10,
   "id": "3ca632cb",
   "metadata": {},
   "outputs": [
    {
     "data": {
      "text/plain": [
       "array([-1,  1,  2, -3,  5, -4])"
      ]
     },
     "execution_count": 10,
     "metadata": {},
     "output_type": "execute_result"
    }
   ],
   "source": [
    "#Bai 2:\n",
    "import numpy as np\n",
    "scores = np.array([-1, 1, 2, -3, 5, -4])\n",
    "scores"
   ]
  },
  {
   "cell_type": "code",
   "execution_count": 11,
   "id": "2643427d",
   "metadata": {},
   "outputs": [
    {
     "data": {
      "text/plain": [
       "array([False,  True,  True, False,  True, False])"
      ]
     },
     "execution_count": 11,
     "metadata": {},
     "output_type": "execute_result"
    }
   ],
   "source": [
    "scores >= 0"
   ]
  },
  {
   "cell_type": "code",
   "execution_count": 12,
   "id": "fc3ce7dc",
   "metadata": {},
   "outputs": [
    {
     "data": {
      "text/plain": [
       "array([ True, False, False,  True, False,  True])"
      ]
     },
     "execution_count": 12,
     "metadata": {},
     "output_type": "execute_result"
    }
   ],
   "source": [
    "scores < 0"
   ]
  },
  {
   "cell_type": "code",
   "execution_count": 14,
   "id": "1b3e8ea9",
   "metadata": {},
   "outputs": [
    {
     "data": {
      "text/plain": [
       "array(['so am', 'so duong', 'so duong', 'so am', 'so duong', 'so am'],\n",
       "      dtype='<U8')"
      ]
     },
     "execution_count": 14,
     "metadata": {},
     "output_type": "execute_result"
    }
   ],
   "source": [
    "np.select([scores >=0, scores < 0],[\"so duong\", \"so am\"])\n"
   ]
  },
  {
   "cell_type": "code",
   "execution_count": 15,
   "id": "2879142f",
   "metadata": {},
   "outputs": [
    {
     "data": {
      "text/plain": [
       "array(['so am', 'so duong', 'so duong', 'so 0', 'so am', 'so duong',\n",
       "       'so 0', 'so am'], dtype='<U8')"
      ]
     },
     "execution_count": 15,
     "metadata": {},
     "output_type": "execute_result"
    }
   ],
   "source": [
    "scores = np.array([-1, 1, 2, 0, -3, 5, 0, -4])\n",
    "np.select([scores >0, scores ==0, scores < 0],['so duong', 'so 0', 'so am'])"
   ]
  },
  {
   "cell_type": "code",
   "execution_count": 40,
   "id": "25c895b5",
   "metadata": {},
   "outputs": [
    {
     "data": {
      "text/plain": [
       "matrix([[3, 4],\n",
       "        [5, 6]])"
      ]
     },
     "execution_count": 40,
     "metadata": {},
     "output_type": "execute_result"
    }
   ],
   "source": [
    "#Bai 3.1:\n",
    "from scipy import linalg, sparse\n",
    "D = np.mat([ [3,4], [5,6] ])\n",
    "D"
   ]
  },
  {
   "cell_type": "code",
   "execution_count": 17,
   "id": "59473e22",
   "metadata": {},
   "outputs": [
    {
     "data": {
      "text/plain": [
       "matrix([[0.01931707, 0.62791201, 0.21651431, 0.96045625, 0.18008396,\n",
       "         0.88219439, 0.52345459],\n",
       "        [0.59189958, 0.04675865, 0.34058256, 0.38643957, 0.97220484,\n",
       "         0.67961385, 0.77685181],\n",
       "        [0.67210944, 0.09795995, 0.69421445, 0.05072355, 0.60745768,\n",
       "         0.93513489, 0.86877434],\n",
       "        [0.02110923, 0.508947  , 0.09622082, 0.20418111, 0.02063138,\n",
       "         0.64468059, 0.37046607],\n",
       "        [0.93919079, 0.44427961, 0.658741  , 0.2277253 , 0.94684433,\n",
       "         0.67892726, 0.62827707]])"
      ]
     },
     "execution_count": 17,
     "metadata": {},
     "output_type": "execute_result"
    }
   ],
   "source": [
    "C = np.mat(np.random.random((5,7)))\n",
    "C"
   ]
  },
  {
   "cell_type": "code",
   "execution_count": 18,
   "id": "f97fc0f2",
   "metadata": {},
   "outputs": [
    {
     "data": {
      "text/plain": [
       "matrix([[0.52216941, 0.24216057],\n",
       "        [0.87697005, 0.37074025]])"
      ]
     },
     "execution_count": 18,
     "metadata": {},
     "output_type": "execute_result"
    }
   ],
   "source": [
    "A = np.mat(np.random.random((2,2)))\n",
    "A"
   ]
  },
  {
   "cell_type": "code",
   "execution_count": 20,
   "id": "21d2668e",
   "metadata": {},
   "outputs": [
    {
     "data": {
      "text/plain": [
       "array([[1.+5.j, 0.+2.j, 0.+3.j],\n",
       "       [4.+0.j, 5.+0.j, 6.+0.j]])"
      ]
     },
     "execution_count": 20,
     "metadata": {},
     "output_type": "execute_result"
    }
   ],
   "source": [
    "b = np.array([(1+5j, 2j, 3j),(4, 5, 6)])\n",
    "B = np.asmatrix(b)\n",
    "b"
   ]
  },
  {
   "cell_type": "code",
   "execution_count": 22,
   "id": "caafe816",
   "metadata": {},
   "outputs": [
    {
     "data": {
      "text/plain": [
       "matrix([[1.+5.j, 0.+2.j, 0.+3.j],\n",
       "        [4.+0.j, 5.+0.j, 6.+0.j]])"
      ]
     },
     "execution_count": 22,
     "metadata": {},
     "output_type": "execute_result"
    }
   ],
   "source": [
    "B"
   ]
  },
  {
   "cell_type": "code",
   "execution_count": 23,
   "id": "bb7fef3b",
   "metadata": {},
   "outputs": [
    {
     "data": {
      "text/plain": [
       "matrix([[0.52216941, 0.87697005],\n",
       "        [0.24216057, 0.37074025]])"
      ]
     },
     "execution_count": 23,
     "metadata": {},
     "output_type": "execute_result"
    }
   ],
   "source": [
    "A.T"
   ]
  },
  {
   "cell_type": "code",
   "execution_count": 24,
   "id": "f5642023",
   "metadata": {},
   "outputs": [
    {
     "data": {
      "text/plain": [
       "matrix([[-19.74296875,  12.89573628],\n",
       "        [ 46.70113971, -27.80700084]])"
      ]
     },
     "execution_count": 24,
     "metadata": {},
     "output_type": "execute_result"
    }
   ],
   "source": [
    "A.I"
   ]
  },
  {
   "cell_type": "code",
   "execution_count": 25,
   "id": "1645631b",
   "metadata": {},
   "outputs": [
    {
     "data": {
      "text/plain": [
       "array([[-19.74296875,  12.89573628],\n",
       "       [ 46.70113971, -27.80700084]])"
      ]
     },
     "execution_count": 25,
     "metadata": {},
     "output_type": "execute_result"
    }
   ],
   "source": [
    " linalg.inv(A)"
   ]
  },
  {
   "cell_type": "code",
   "execution_count": 26,
   "id": "cab49dd3",
   "metadata": {},
   "outputs": [
    {
     "data": {
      "text/plain": [
       "array([[-1,  0,  0],\n",
       "       [ 0, -2,  0],\n",
       "       [ 1,  5, -2]])"
      ]
     },
     "execution_count": 26,
     "metadata": {},
     "output_type": "execute_result"
    }
   ],
   "source": [
    "M = np.array([[-1,3,2],[0,-2,1],[1,5,-2]])\n",
    "M_lower = np.tril(M)\n",
    "M_lower"
   ]
  },
  {
   "cell_type": "code",
   "execution_count": 27,
   "id": "a641b353",
   "metadata": {},
   "outputs": [
    {
     "data": {
      "text/plain": [
       "array([[-1,  3,  2],\n",
       "       [ 0, -2,  1],\n",
       "       [ 0,  0, -2]])"
      ]
     },
     "execution_count": 27,
     "metadata": {},
     "output_type": "execute_result"
    }
   ],
   "source": [
    "M_upper = np.triu(M)\n",
    "M_upper"
   ]
  },
  {
   "cell_type": "code",
   "execution_count": 28,
   "id": "ed4c374e",
   "metadata": {},
   "outputs": [
    {
     "data": {
      "text/plain": [
       "array([-1, -2, -2])"
      ]
     },
     "execution_count": 28,
     "metadata": {},
     "output_type": "execute_result"
    }
   ],
   "source": [
    "M = np.array([[-1,3,2],[0,-2,1],[1,5,-2]])\n",
    "v_diag = np.diag(M)\n",
    "v_diag"
   ]
  },
  {
   "cell_type": "code",
   "execution_count": 29,
   "id": "b4910c59",
   "metadata": {},
   "outputs": [
    {
     "data": {
      "text/plain": [
       "array([[-1,  0,  0],\n",
       "       [ 0, -2,  0],\n",
       "       [ 0,  0, -2]])"
      ]
     },
     "execution_count": 29,
     "metadata": {},
     "output_type": "execute_result"
    }
   ],
   "source": [
    "M_diag = np.diag(v_diag)\n",
    "M_diag"
   ]
  },
  {
   "cell_type": "code",
   "execution_count": 33,
   "id": "d57c8bf9",
   "metadata": {},
   "outputs": [
    {
     "data": {
      "text/plain": [
       "[(2, 7, -1)]"
      ]
     },
     "execution_count": 33,
     "metadata": {},
     "output_type": "execute_result"
    }
   ],
   "source": [
    "import sympy as sp\n",
    "x = sp.Symbol('x')\n",
    "y = sp.Symbol('y')\n",
    "z = sp.Symbol('z')\n",
    "sp.solve([x*x+2-6, y-1-6, x+z-1, 2*x*x-8, z*z+4-5, y-z-8], [x,y,z])"
   ]
  },
  {
   "cell_type": "code",
   "execution_count": 34,
   "id": "b1ca8abc",
   "metadata": {},
   "outputs": [
    {
     "data": {
      "text/plain": [
       "True"
      ]
     },
     "execution_count": 34,
     "metadata": {},
     "output_type": "execute_result"
    }
   ],
   "source": [
    "x = [1,2,3]\n",
    "y = [1,2,3]\n",
    "all([x[i] == y[i] for i in range(len(x))])"
   ]
  },
  {
   "cell_type": "code",
   "execution_count": 35,
   "id": "9b72cf7e",
   "metadata": {},
   "outputs": [
    {
     "data": {
      "text/plain": [
       "False"
      ]
     },
     "execution_count": 35,
     "metadata": {},
     "output_type": "execute_result"
    }
   ],
   "source": [
    "y = [1,2,4]\n",
    "all([x[i] == y[i] for i in range(len(x))])"
   ]
  },
  {
   "cell_type": "code",
   "execution_count": 36,
   "id": "faac7d6b",
   "metadata": {},
   "outputs": [
    {
     "data": {
      "text/plain": [
       "True"
      ]
     },
     "execution_count": 36,
     "metadata": {},
     "output_type": "execute_result"
    }
   ],
   "source": [
    "np.array_equal([1,2], [1,2])"
   ]
  },
  {
   "cell_type": "code",
   "execution_count": 37,
   "id": "e19d9e37",
   "metadata": {},
   "outputs": [
    {
     "data": {
      "text/plain": [
       "True"
      ]
     },
     "execution_count": 37,
     "metadata": {},
     "output_type": "execute_result"
    }
   ],
   "source": [
    "np.array_equal(np.array([1,2]), np.array([1,2]))"
   ]
  },
  {
   "cell_type": "code",
   "execution_count": 38,
   "id": "a228ec89",
   "metadata": {},
   "outputs": [
    {
     "data": {
      "text/plain": [
       "array([[ 0.,  1.,  2.,  3.,  4.,  5.],\n",
       "       [ 6.,  7.,  8.,  9., 10., 11.],\n",
       "       [12., 13., 14., 15., 16., 17.],\n",
       "       [18., 19., 20., 21., 22., 23.],\n",
       "       [24., 25., 26., 27., 28., 29.],\n",
       "       [30., 31., 32., 33., 34., 35.]])"
      ]
     },
     "execution_count": 38,
     "metadata": {},
     "output_type": "execute_result"
    }
   ],
   "source": [
    "#Bai 3.2:\n",
    "A = np.reshape(np.arange(36.0), (6,6))\n",
    "A"
   ]
  },
  {
   "cell_type": "code",
   "execution_count": 41,
   "id": "a4bd24b2",
   "metadata": {},
   "outputs": [
    {
     "data": {
      "text/plain": [
       "array([[1., 0., 0., 0., 0., 0.],\n",
       "       [0., 1., 0., 0., 0., 0.],\n",
       "       [0., 0., 1., 0., 0., 0.],\n",
       "       [0., 0., 0., 1., 0., 0.],\n",
       "       [0., 0., 0., 0., 1., 0.],\n",
       "       [0., 0., 0., 0., 0., 1.]])"
      ]
     },
     "execution_count": 41,
     "metadata": {},
     "output_type": "execute_result"
    }
   ],
   "source": [
    "I6 = np.identity(6)\n",
    "I6"
   ]
  },
  {
   "cell_type": "code",
   "execution_count": 42,
   "id": "6fce8239",
   "metadata": {},
   "outputs": [
    {
     "data": {
      "text/plain": [
       "36"
      ]
     },
     "execution_count": 42,
     "metadata": {},
     "output_type": "execute_result"
    }
   ],
   "source": [
    "A.size"
   ]
  },
  {
   "cell_type": "code",
   "execution_count": 43,
   "id": "675bd0e2",
   "metadata": {},
   "outputs": [
    {
     "data": {
      "text/plain": [
       "array([ 0.,  7., 14., 21., 28., 35.])"
      ]
     },
     "execution_count": 43,
     "metadata": {},
     "output_type": "execute_result"
    }
   ],
   "source": [
    "np.matrix.diagonal(A)"
   ]
  },
  {
   "cell_type": "code",
   "execution_count": 44,
   "id": "5dc1df1a",
   "metadata": {},
   "outputs": [
    {
     "data": {
      "text/plain": [
       "array([[ 1.,  1.,  2.,  3.,  4.,  5.],\n",
       "       [ 6.,  8.,  8.,  9., 10., 11.],\n",
       "       [12., 13., 15., 15., 16., 17.],\n",
       "       [18., 19., 20., 22., 22., 23.],\n",
       "       [24., 25., 26., 27., 29., 29.],\n",
       "       [30., 31., 32., 33., 34., 36.]])"
      ]
     },
     "execution_count": 44,
     "metadata": {},
     "output_type": "execute_result"
    }
   ],
   "source": [
    "A = A + I6\n",
    "A"
   ]
  },
  {
   "cell_type": "code",
   "execution_count": 45,
   "id": "625f717d",
   "metadata": {},
   "outputs": [
    {
     "data": {
      "text/plain": [
       "array([ 71., 198., 325., 452., 579., 706.])"
      ]
     },
     "execution_count": 45,
     "metadata": {},
     "output_type": "execute_result"
    }
   ],
   "source": [
    "vecB = np.array([1., 2., 3., 4., 5., 6.])\n",
    "C = A.dot(vecB)\n",
    "C"
   ]
  },
  {
   "cell_type": "code",
   "execution_count": 46,
   "id": "854e0a6b",
   "metadata": {},
   "outputs": [
    {
     "data": {
      "text/plain": [
       "array([[1., 2., 3., 4., 5., 6.],\n",
       "       [1., 0., 1., 0., 1., 0.]])"
      ]
     },
     "execution_count": 46,
     "metadata": {},
     "output_type": "execute_result"
    }
   ],
   "source": [
    "D = np.array([[1., 2., 3., 4., 5., 6.], [1., 0., 1., 0., 1., 0.]])\n",
    "D"
   ]
  },
  {
   "cell_type": "code",
   "execution_count": 49,
   "id": "687c1565",
   "metadata": {},
   "outputs": [
    {
     "ename": "ValueError",
     "evalue": "shapes (6,6) and (2,6) not aligned: 6 (dim 1) != 2 (dim 0)",
     "output_type": "error",
     "traceback": [
      "\u001b[1;31m---------------------------------------------------------------------------\u001b[0m",
      "\u001b[1;31mValueError\u001b[0m                                Traceback (most recent call last)",
      "\u001b[1;32m~\\AppData\\Local\\Temp\\ipykernel_12356\\2818565093.py\u001b[0m in \u001b[0;36m<module>\u001b[1;34m\u001b[0m\n\u001b[1;32m----> 1\u001b[1;33m \u001b[0mE\u001b[0m \u001b[1;33m=\u001b[0m \u001b[0mA\u001b[0m\u001b[1;33m.\u001b[0m\u001b[0mdot\u001b[0m\u001b[1;33m(\u001b[0m\u001b[0mD\u001b[0m\u001b[1;33m)\u001b[0m\u001b[1;33m\u001b[0m\u001b[1;33m\u001b[0m\u001b[0m\n\u001b[0m\u001b[0;32m      2\u001b[0m \u001b[0mE\u001b[0m\u001b[1;33m\u001b[0m\u001b[1;33m\u001b[0m\u001b[0m\n",
      "\u001b[1;31mValueError\u001b[0m: shapes (6,6) and (2,6) not aligned: 6 (dim 1) != 2 (dim 0)"
     ]
    }
   ],
   "source": [
    "E = A.dot(D)\n",
    "E"
   ]
  },
  {
   "cell_type": "code",
   "execution_count": 50,
   "id": "0044dcf8",
   "metadata": {},
   "outputs": [
    {
     "data": {
      "text/plain": [
       "array([[421., 443., 465., 487., 509., 531.],\n",
       "       [ 37.,  39.,  43.,  45.,  49.,  51.]])"
      ]
     },
     "execution_count": 50,
     "metadata": {},
     "output_type": "execute_result"
    }
   ],
   "source": [
    "E = D.dot(A)\n",
    "E"
   ]
  },
  {
   "cell_type": "code",
   "execution_count": 52,
   "id": "1d5d2c71",
   "metadata": {},
   "outputs": [
    {
     "data": {
      "text/plain": [
       "array([[1., 1.],\n",
       "       [2., 0.],\n",
       "       [3., 1.],\n",
       "       [4., 0.],\n",
       "       [5., 1.],\n",
       "       [6., 0.]])"
      ]
     },
     "execution_count": 52,
     "metadata": {},
     "output_type": "execute_result"
    }
   ],
   "source": [
    "F = np.array([[1., 1.], [2., 0.], [3., 1.], [4., 0], [5., 1], [6., 0.]])\n",
    "G = A.dot(F)\n",
    "F"
   ]
  },
  {
   "cell_type": "code",
   "execution_count": 53,
   "id": "9637f139",
   "metadata": {},
   "outputs": [
    {
     "data": {
      "text/plain": [
       "array([[ 71.,   7.],\n",
       "       [198.,  24.],\n",
       "       [325.,  43.],\n",
       "       [452.,  60.],\n",
       "       [579.,  79.],\n",
       "       [706.,  96.]])"
      ]
     },
     "execution_count": 53,
     "metadata": {},
     "output_type": "execute_result"
    }
   ],
   "source": [
    "G"
   ]
  },
  {
   "cell_type": "code",
   "execution_count": 54,
   "id": "fb453b0d",
   "metadata": {},
   "outputs": [
    {
     "data": {
      "text/plain": [
       "array([[ 0.37022901, -0.45610687, -0.28244275, -0.10877863,  0.0648855 ,\n",
       "         0.23854962],\n",
       "       [-0.44656489,  0.65839695, -0.23664122, -0.13167939, -0.02671756,\n",
       "         0.07824427],\n",
       "       [-0.26335878, -0.22709924,  0.80916031, -0.15458015, -0.11832061,\n",
       "        -0.08206107],\n",
       "       [-0.08015267, -0.11259542, -0.14503817,  0.82251908, -0.20992366,\n",
       "        -0.24236641],\n",
       "       [ 0.10305344,  0.0019084 , -0.09923664, -0.20038168,  0.69847328,\n",
       "        -0.40267176],\n",
       "       [ 0.28625954,  0.11641221, -0.05343511, -0.22328244, -0.39312977,\n",
       "         0.4370229 ]])"
      ]
     },
     "execution_count": 54,
     "metadata": {},
     "output_type": "execute_result"
    }
   ],
   "source": [
    "np.linalg.inv(A)"
   ]
  },
  {
   "cell_type": "code",
   "execution_count": 55,
   "id": "41ca56d6",
   "metadata": {},
   "outputs": [
    {
     "data": {
      "text/plain": [
       "array([89, 55])"
      ]
     },
     "execution_count": 55,
     "metadata": {},
     "output_type": "execute_result"
    }
   ],
   "source": [
    "#Bai 4:\n",
    "import numpy as np\n",
    "A = np.array( [ [1,1], [1,0] ] )\n",
    "b = np.array([1, 0])\n",
    "n = 10\n",
    "for i in range(n):\n",
    "    b = A.dot(b)\n",
    "b"
   ]
  },
  {
   "cell_type": "code",
   "execution_count": 57,
   "id": "c4962e84",
   "metadata": {},
   "outputs": [
    {
     "data": {
      "text/plain": [
       "array([ 2.875, -1.   , -2.25 ])"
      ]
     },
     "execution_count": 57,
     "metadata": {},
     "output_type": "execute_result"
    }
   ],
   "source": [
    "#Bai 5.1:\n",
    "A = np.array([[2,  3, -1],[4,  1,  2],[-2,  5, -3]])\n",
    "B = np.array([5, 6, -4])\n",
    "A_inv = np.linalg.inv(A)\n",
    "x = np.dot(A_inv, B)\n",
    "x"
   ]
  },
  {
   "cell_type": "code",
   "execution_count": 58,
   "id": "0c4b9630",
   "metadata": {},
   "outputs": [
    {
     "data": {
      "text/plain": [
       "True"
      ]
     },
     "execution_count": 58,
     "metadata": {},
     "output_type": "execute_result"
    }
   ],
   "source": [
    "np.allclose(np.dot(A, x), B)"
   ]
  },
  {
   "cell_type": "code",
   "execution_count": 60,
   "id": "88dd98b7",
   "metadata": {},
   "outputs": [
    {
     "data": {
      "text/plain": [
       "{x1: x4 + 160, x2: x4 - 80, x3: x4 + 520}"
      ]
     },
     "execution_count": 60,
     "metadata": {},
     "output_type": "execute_result"
    }
   ],
   "source": [
    "#Bai 5.2:\n",
    "from sympy import Symbol\n",
    "x1 = Symbol('x1')\n",
    "x2 = Symbol('x2')\n",
    "x3 = Symbol('x3')\n",
    "x4 = Symbol('x4')\n",
    "from sympy import solve\n",
    "pt1 = x4+610-450-x1\n",
    "pt2 = x1+400-x2-640\n",
    "pt3 = x2+600-x3\n",
    "pt4 = x3-x4-520\n",
    "ngo = sp.solve((pt1, pt2, pt3, pt4))\n",
    "ngo"
   ]
  },
  {
   "cell_type": "code",
   "execution_count": 67,
   "id": "02c0e86c",
   "metadata": {},
   "outputs": [
    {
     "ename": "LinAlgError",
     "evalue": "Singular matrix",
     "output_type": "error",
     "traceback": [
      "\u001b[1;31m---------------------------------------------------------------------------\u001b[0m",
      "\u001b[1;31mLinAlgError\u001b[0m                               Traceback (most recent call last)",
      "\u001b[1;32m~\\AppData\\Local\\Temp\\ipykernel_12356\\4222523246.py\u001b[0m in \u001b[0;36m<module>\u001b[1;34m\u001b[0m\n\u001b[0;32m      1\u001b[0m \u001b[0mA\u001b[0m \u001b[1;33m=\u001b[0m \u001b[0mnp\u001b[0m\u001b[1;33m.\u001b[0m\u001b[0mmatrix\u001b[0m\u001b[1;33m(\u001b[0m\u001b[1;33m[\u001b[0m\u001b[1;33m[\u001b[0m\u001b[1;33m-\u001b[0m\u001b[1;36m1\u001b[0m\u001b[1;33m,\u001b[0m\u001b[1;36m0\u001b[0m\u001b[1;33m,\u001b[0m\u001b[1;36m0\u001b[0m\u001b[1;33m,\u001b[0m\u001b[1;36m1\u001b[0m\u001b[1;33m]\u001b[0m\u001b[1;33m,\u001b[0m\u001b[1;33m[\u001b[0m\u001b[1;36m1\u001b[0m\u001b[1;33m,\u001b[0m\u001b[1;33m-\u001b[0m\u001b[1;36m1\u001b[0m\u001b[1;33m,\u001b[0m\u001b[1;36m0\u001b[0m\u001b[1;33m,\u001b[0m\u001b[1;36m0\u001b[0m\u001b[1;33m]\u001b[0m\u001b[1;33m,\u001b[0m\u001b[1;33m[\u001b[0m\u001b[1;36m0\u001b[0m\u001b[1;33m,\u001b[0m\u001b[1;36m1\u001b[0m\u001b[1;33m,\u001b[0m\u001b[1;33m-\u001b[0m\u001b[1;36m1\u001b[0m\u001b[1;33m,\u001b[0m\u001b[1;36m0\u001b[0m\u001b[1;33m]\u001b[0m\u001b[1;33m,\u001b[0m\u001b[1;33m[\u001b[0m\u001b[1;36m0\u001b[0m\u001b[1;33m,\u001b[0m\u001b[1;36m0\u001b[0m\u001b[1;33m,\u001b[0m\u001b[1;36m1\u001b[0m\u001b[1;33m,\u001b[0m\u001b[1;33m-\u001b[0m\u001b[1;36m1\u001b[0m\u001b[1;33m]\u001b[0m\u001b[1;33m]\u001b[0m\u001b[1;33m)\u001b[0m\u001b[1;33m\u001b[0m\u001b[1;33m\u001b[0m\u001b[0m\n\u001b[1;32m----> 2\u001b[1;33m \u001b[0mA_nghichdao\u001b[0m \u001b[1;33m=\u001b[0m \u001b[0mnp\u001b[0m\u001b[1;33m.\u001b[0m\u001b[0mlinalg\u001b[0m\u001b[1;33m.\u001b[0m\u001b[0minv\u001b[0m\u001b[1;33m(\u001b[0m\u001b[0mA\u001b[0m\u001b[1;33m)\u001b[0m\u001b[1;33m\u001b[0m\u001b[1;33m\u001b[0m\u001b[0m\n\u001b[0m\u001b[0;32m      3\u001b[0m \u001b[0mA_nghichdao\u001b[0m\u001b[1;33m\u001b[0m\u001b[1;33m\u001b[0m\u001b[0m\n",
      "\u001b[1;32m<__array_function__ internals>\u001b[0m in \u001b[0;36minv\u001b[1;34m(*args, **kwargs)\u001b[0m\n",
      "\u001b[1;32mC:\\Anaconda3\\lib\\site-packages\\numpy\\linalg\\linalg.py\u001b[0m in \u001b[0;36minv\u001b[1;34m(a)\u001b[0m\n\u001b[0;32m    543\u001b[0m     \u001b[0msignature\u001b[0m \u001b[1;33m=\u001b[0m \u001b[1;34m'D->D'\u001b[0m \u001b[1;32mif\u001b[0m \u001b[0misComplexType\u001b[0m\u001b[1;33m(\u001b[0m\u001b[0mt\u001b[0m\u001b[1;33m)\u001b[0m \u001b[1;32melse\u001b[0m \u001b[1;34m'd->d'\u001b[0m\u001b[1;33m\u001b[0m\u001b[1;33m\u001b[0m\u001b[0m\n\u001b[0;32m    544\u001b[0m     \u001b[0mextobj\u001b[0m \u001b[1;33m=\u001b[0m \u001b[0mget_linalg_error_extobj\u001b[0m\u001b[1;33m(\u001b[0m\u001b[0m_raise_linalgerror_singular\u001b[0m\u001b[1;33m)\u001b[0m\u001b[1;33m\u001b[0m\u001b[1;33m\u001b[0m\u001b[0m\n\u001b[1;32m--> 545\u001b[1;33m     \u001b[0mainv\u001b[0m \u001b[1;33m=\u001b[0m \u001b[0m_umath_linalg\u001b[0m\u001b[1;33m.\u001b[0m\u001b[0minv\u001b[0m\u001b[1;33m(\u001b[0m\u001b[0ma\u001b[0m\u001b[1;33m,\u001b[0m \u001b[0msignature\u001b[0m\u001b[1;33m=\u001b[0m\u001b[0msignature\u001b[0m\u001b[1;33m,\u001b[0m \u001b[0mextobj\u001b[0m\u001b[1;33m=\u001b[0m\u001b[0mextobj\u001b[0m\u001b[1;33m)\u001b[0m\u001b[1;33m\u001b[0m\u001b[1;33m\u001b[0m\u001b[0m\n\u001b[0m\u001b[0;32m    546\u001b[0m     \u001b[1;32mreturn\u001b[0m \u001b[0mwrap\u001b[0m\u001b[1;33m(\u001b[0m\u001b[0mainv\u001b[0m\u001b[1;33m.\u001b[0m\u001b[0mastype\u001b[0m\u001b[1;33m(\u001b[0m\u001b[0mresult_t\u001b[0m\u001b[1;33m,\u001b[0m \u001b[0mcopy\u001b[0m\u001b[1;33m=\u001b[0m\u001b[1;32mFalse\u001b[0m\u001b[1;33m)\u001b[0m\u001b[1;33m)\u001b[0m\u001b[1;33m\u001b[0m\u001b[1;33m\u001b[0m\u001b[0m\n\u001b[0;32m    547\u001b[0m \u001b[1;33m\u001b[0m\u001b[0m\n",
      "\u001b[1;32mC:\\Anaconda3\\lib\\site-packages\\numpy\\linalg\\linalg.py\u001b[0m in \u001b[0;36m_raise_linalgerror_singular\u001b[1;34m(err, flag)\u001b[0m\n\u001b[0;32m     86\u001b[0m \u001b[1;33m\u001b[0m\u001b[0m\n\u001b[0;32m     87\u001b[0m \u001b[1;32mdef\u001b[0m \u001b[0m_raise_linalgerror_singular\u001b[0m\u001b[1;33m(\u001b[0m\u001b[0merr\u001b[0m\u001b[1;33m,\u001b[0m \u001b[0mflag\u001b[0m\u001b[1;33m)\u001b[0m\u001b[1;33m:\u001b[0m\u001b[1;33m\u001b[0m\u001b[1;33m\u001b[0m\u001b[0m\n\u001b[1;32m---> 88\u001b[1;33m     \u001b[1;32mraise\u001b[0m \u001b[0mLinAlgError\u001b[0m\u001b[1;33m(\u001b[0m\u001b[1;34m\"Singular matrix\"\u001b[0m\u001b[1;33m)\u001b[0m\u001b[1;33m\u001b[0m\u001b[1;33m\u001b[0m\u001b[0m\n\u001b[0m\u001b[0;32m     89\u001b[0m \u001b[1;33m\u001b[0m\u001b[0m\n\u001b[0;32m     90\u001b[0m \u001b[1;32mdef\u001b[0m \u001b[0m_raise_linalgerror_nonposdef\u001b[0m\u001b[1;33m(\u001b[0m\u001b[0merr\u001b[0m\u001b[1;33m,\u001b[0m \u001b[0mflag\u001b[0m\u001b[1;33m)\u001b[0m\u001b[1;33m:\u001b[0m\u001b[1;33m\u001b[0m\u001b[1;33m\u001b[0m\u001b[0m\n",
      "\u001b[1;31mLinAlgError\u001b[0m: Singular matrix"
     ]
    }
   ],
   "source": [
    "A = np.matrix([[-1,0,0,1],[1,-1,0,0],[0,1,-1,0],[0,0,1,-1]])\n",
    "A_nghichdao = np.linalg.inv(A)\n",
    "A_nghichdao"
   ]
  },
  {
   "cell_type": "code",
   "execution_count": 71,
   "id": "362a478d",
   "metadata": {},
   "outputs": [
    {
     "data": {
      "text/plain": [
       "True"
      ]
     },
     "execution_count": 71,
     "metadata": {},
     "output_type": "execute_result"
    }
   ],
   "source": [
    "A = np.matrix([[-1,0,0,1],[1,-1,0,0],[0,1,-1,0],[0,0,1,-1]])\n",
    "np.linalg.det(A) == 0"
   ]
  },
  {
   "cell_type": "code",
   "execution_count": 72,
   "id": "3f52b370",
   "metadata": {},
   "outputs": [
    {
     "data": {
      "text/plain": [
       "'det(A) = 0 --> khong the nghich dao'"
      ]
     },
     "execution_count": 72,
     "metadata": {},
     "output_type": "execute_result"
    }
   ],
   "source": [
    "GT = ('det(A) = 0 --> khong the nghich dao')\n",
    "GT"
   ]
  },
  {
   "cell_type": "code",
   "execution_count": 77,
   "id": "ab535dd2",
   "metadata": {},
   "outputs": [
    {
     "data": {
      "text/plain": [
       "array([0., 2.])"
      ]
     },
     "execution_count": 77,
     "metadata": {},
     "output_type": "execute_result"
    }
   ],
   "source": [
    "#BAI TAP CHUONG 2:\n",
    "#Cau 1:\n",
    "#Pb1:\n",
    "U = np.array = ([1,-1],[2,3])\n",
    "P = np.array = ([-2,6])\n",
    "x = np.linalg.solve(U, P)\n",
    "x"
   ]
  },
  {
   "cell_type": "code",
   "execution_count": 82,
   "id": "64be6ed9",
   "metadata": {},
   "outputs": [
    {
     "data": {
      "text/plain": [
       "array([3., 1., 2.])"
      ]
     },
     "execution_count": 82,
     "metadata": {},
     "output_type": "execute_result"
    }
   ],
   "source": [
    "#Pb2:\n",
    "U = np.array = ([1,-1,0],[2,-1,-1],[1,1,1])\n",
    "P = np.array = ([2, 3, 6])\n",
    "x = np.linalg.solve(U, P)\n",
    "x"
   ]
  },
  {
   "cell_type": "code",
   "execution_count": 86,
   "id": "660ec13d",
   "metadata": {},
   "outputs": [
    {
     "data": {
      "text/plain": [
       "array([ 1., -4.,  7.])"
      ]
     },
     "execution_count": 86,
     "metadata": {},
     "output_type": "execute_result"
    }
   ],
   "source": [
    "#Pb3:\n",
    "U = np.array = ([1,1,1],[4,2,1],[9,3,1])\n",
    "P = np.array = ([4, 3, 4])\n",
    "x = np.linalg.solve(U, P)\n",
    "x"
   ]
  },
  {
   "cell_type": "code",
   "execution_count": 87,
   "id": "233cfaa8",
   "metadata": {},
   "outputs": [
    {
     "data": {
      "text/plain": [
       "array([-0.11111111, -0.66666667,  1.11111111])"
      ]
     },
     "execution_count": 87,
     "metadata": {},
     "output_type": "execute_result"
    }
   ],
   "source": [
    "#Pb4:\n",
    "U = np.array = ([1,0,1],[1,1,-2],[-2,2,1])\n",
    "P = np.array = ([1, -3, 0])\n",
    "x = np.linalg.solve(U, P)\n",
    "x"
   ]
  },
  {
   "cell_type": "code",
   "execution_count": 89,
   "id": "cd6e471c",
   "metadata": {},
   "outputs": [
    {
     "data": {
      "text/plain": [
       "{x: 0, y: 2}"
      ]
     },
     "execution_count": 89,
     "metadata": {},
     "output_type": "execute_result"
    }
   ],
   "source": [
    "#Cau 2:\n",
    "#Pb1:\n",
    "eq1 = sp.Eq(x - y, -2)\n",
    "eq2 = sp.Eq(2*x + 3*y, 6)\n",
    "ngo = sp.solve((eq1, eq2), (x, y))\n",
    "ngo"
   ]
  },
  {
   "cell_type": "code",
   "execution_count": 90,
   "id": "917264cf",
   "metadata": {},
   "outputs": [
    {
     "data": {
      "text/plain": [
       "{x: 3, y: 1, z: 2}"
      ]
     },
     "execution_count": 90,
     "metadata": {},
     "output_type": "execute_result"
    }
   ],
   "source": [
    "#Pb2:\n",
    "eq1 = sp.Eq(x - y, 2)\n",
    "eq2 = sp.Eq(2*x - y - z, 3)\n",
    "eq3 = sp.Eq(x + y + z, 6)\n",
    "ngo = sp.solve((eq1, eq2, eq3), (x, y, z))\n",
    "ngo"
   ]
  },
  {
   "cell_type": "code",
   "execution_count": 95,
   "id": "d1838698",
   "metadata": {},
   "outputs": [
    {
     "data": {
      "text/plain": [
       "{x: 1, y: -4, z: 7}"
      ]
     },
     "execution_count": 95,
     "metadata": {},
     "output_type": "execute_result"
    }
   ],
   "source": [
    "#Pb3:\n",
    "eq1 = sp.Eq(x + y + z, 4)\n",
    "eq2 = sp.Eq(4*x + 2*y + z, 3)\n",
    "eq3 = sp.Eq(9*x + 3*y + z, 4)\n",
    "ngo = sp.solve((eq1, eq2, eq3), (x, y, z))\n",
    "ngo"
   ]
  },
  {
   "cell_type": "code",
   "execution_count": 96,
   "id": "4df23365",
   "metadata": {},
   "outputs": [
    {
     "data": {
      "text/plain": [
       "{x: -1/9, y: -2/3, z: 10/9}"
      ]
     },
     "execution_count": 96,
     "metadata": {},
     "output_type": "execute_result"
    }
   ],
   "source": [
    "#Pb4:\n",
    "eq1 = sp.Eq(x + z, 1)\n",
    "eq2 = sp.Eq(x + y + -2*z, -3)\n",
    "eq3 = sp.Eq(-2*x + 2*y + z, 0)\n",
    "ngo = sp.solve((eq1, eq2, eq3), (x, y, z))\n",
    "ngo"
   ]
  },
  {
   "cell_type": "code",
   "execution_count": 74,
   "id": "ca1e33ec",
   "metadata": {},
   "outputs": [
    {
     "name": "stdout",
     "output_type": "stream",
     "text": [
      "Nhập số nguyên k: 3\n",
      "A^3 =\n",
      "[[3 2]\n",
      " [2 1]]\n",
      "\n",
      "Fibonacci từ F₀ đến F_4: [0, 1, 1, 2, 3]\n",
      "Ba phần tử liên tiếp trong dãy Fibonacci:\n",
      "Phần tử (1,1): F_4 = 3\n",
      "Phần tử (1,2)/(2,1): F_3 = 2\n",
      "Phần tử (2,2): F_2 = 1\n",
      "\n",
      "Kiểm chứng:\n",
      "Ak[0,0] == F_4? True\n",
      "Ak[0,1] == F_3? True\n",
      "Ak[1,0] == F_3? True\n",
      "Ak[1,1] == F_2? True\n"
     ]
    }
   ],
   "source": [
    "#Cau 3:\n",
    "import numpy as np\n",
    "\n",
    "def fibonacci_matrix_power(k):\n",
    "    # Định nghĩa ma trận Fibonacci\n",
    "    A = np.array([[1, 1],\n",
    "                  [1, 0]], dtype=object)\n",
    "    # Lũy thừa ma trận\n",
    "    Ak = np.linalg.matrix_power(A, k)\n",
    "    return Ak\n",
    "\n",
    "def fibonacci(n):\n",
    "    # Hàm sinh dãy Fibonacci bắt đầu từ F0 = 0\n",
    "    fibs = [0, 1]\n",
    "    for i in range(2, n+1):\n",
    "        fibs.append(fibs[-1] + fibs[-2])\n",
    "    return fibs\n",
    "\n",
    "if __name__ == \"__main__\":\n",
    "    k = int(input(\"Nhập số nguyên k: \"))\n",
    "    Ak = fibonacci_matrix_power(k)\n",
    "    fibs = fibonacci(k+1)\n",
    "    print(f\"A^{k} =\\n{Ak}\\n\")\n",
    "    print(f\"Fibonacci từ F₀ đến F_{k+1}: {fibs}\")\n",
    "    print(\"Ba phần tử liên tiếp trong dãy Fibonacci:\")\n",
    "    print(f\"Phần tử (1,1): F_{k+1} = {fibs[k+1]}\")\n",
    "    print(f\"Phần tử (1,2)/(2,1): F_{k} = {fibs[k]}\")\n",
    "    print(f\"Phần tử (2,2): F_{k-1} = {fibs[k-1] if k >= 1 else 0}\")\n",
    "    print(\"\\nKiểm chứng:\")\n",
    "    print(f\"Ak[0,0] == F_{k+1}? {Ak[0,0] == fibs[k+1]}\")\n",
    "    print(f\"Ak[0,1] == F_{k}? {Ak[0,1] == fibs[k]}\")\n",
    "    print(f\"Ak[1,0] == F_{k}? {Ak[1,0] == fibs[k]}\")\n",
    "    print(f\"Ak[1,1] == F_{k-1}? {Ak[1,1] == (fibs[k-1] if k >= 1 else 0)}\")"
   ]
  },
  {
   "cell_type": "code",
   "execution_count": null,
   "id": "83f87285",
   "metadata": {},
   "outputs": [],
   "source": []
  }
 ],
 "metadata": {
  "kernelspec": {
   "display_name": "Python 3 (ipykernel)",
   "language": "python",
   "name": "python3"
  },
  "language_info": {
   "codemirror_mode": {
    "name": "ipython",
    "version": 3
   },
   "file_extension": ".py",
   "mimetype": "text/x-python",
   "name": "python",
   "nbconvert_exporter": "python",
   "pygments_lexer": "ipython3",
   "version": "3.9.13"
  }
 },
 "nbformat": 4,
 "nbformat_minor": 5
}
